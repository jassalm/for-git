{
 "cells": [
  {
   "cell_type": "code",
   "execution_count": 93,
   "id": "ca981d93",
   "metadata": {
    "id": "ca981d93"
   },
   "outputs": [],
   "source": [
    "import apimoex\n",
    "import requests\n",
    "\n",
    "import string\n",
    "\n",
    "import pandas as pd\n",
    "import numpy as np\n",
    "\n",
    "import time\n",
    "from tqdm import tqdm\n",
    "\n",
    "import matplotlib.pyplot as plt\n",
    "import seaborn as sns\n",
    "\n",
    "from scipy.stats import norm\n",
    "from scipy.optimize import minimize\n",
    "\n",
    "from datetime import datetime\n",
    "\n",
    "import sys\n",
    "import warnings\n",
    "warnings.filterwarnings(\"ignore\") "
   ]
  },
  {
   "cell_type": "code",
   "execution_count": 2,
   "id": "d311d127-c923-4548-951d-4c502d26858b",
   "metadata": {},
   "outputs": [
    {
     "name": "stdout",
     "output_type": "stream",
     "text": [
      "Collecting apimoex\n",
      "  Downloading apimoex-1.4.0-py3-none-any.whl.metadata (5.4 kB)\n",
      "Requirement already satisfied: requests>=2.31.0 in c:\\users\\user\\anaconda3\\lib\\site-packages (from apimoex) (2.31.0)\n",
      "Requirement already satisfied: charset-normalizer<4,>=2 in c:\\users\\user\\anaconda3\\lib\\site-packages (from requests>=2.31.0->apimoex) (2.0.4)\n",
      "Requirement already satisfied: idna<4,>=2.5 in c:\\users\\user\\anaconda3\\lib\\site-packages (from requests>=2.31.0->apimoex) (3.4)\n",
      "Requirement already satisfied: urllib3<3,>=1.21.1 in c:\\users\\user\\anaconda3\\lib\\site-packages (from requests>=2.31.0->apimoex) (1.26.18)\n",
      "Requirement already satisfied: certifi>=2017.4.17 in c:\\users\\user\\anaconda3\\lib\\site-packages (from requests>=2.31.0->apimoex) (2024.2.2)\n",
      "Downloading apimoex-1.4.0-py3-none-any.whl (11 kB)\n",
      "Installing collected packages: apimoex\n",
      "Successfully installed apimoex-1.4.0\n",
      "Note: you may need to restart the kernel to use updated packages.\n"
     ]
    }
   ],
   "source": [
    "pip install apimoex"
   ]
  },
  {
   "cell_type": "markdown",
   "id": "ad74d6aa",
   "metadata": {
    "id": "ad74d6aa"
   },
   "source": [
    "## Часть 1. Parser"
   ]
  },
  {
   "cell_type": "code",
   "execution_count": 2,
   "id": "07d87530-ba65-40fe-829b-9a92028151d8",
   "metadata": {},
   "outputs": [],
   "source": [
    "base_active = 'Si'\n",
    "strikes_str = [f'{int(x)}' if x == int(x) else f'{x:.1f}' for x in np.arange(78, 108, 0.5)]\n",
    "opt_type = 'C' # европейский\n",
    "months = string.ascii_uppercase[6:] # call: A-L, put: M-X\n",
    "years = ['3', '4']\n",
    "weeks_flg = ['', 'A', 'B', 'C', 'D', 'E']"
   ]
  },
  {
   "cell_type": "code",
   "execution_count": 3,
   "id": "7f3a87ae-98af-45d5-ba84-70e2bbcd15d3",
   "metadata": {},
   "outputs": [],
   "source": [
    "ticket_title = ['Краткий код',\n",
    "                 'Наименование серии инструмента',\n",
    "                 'Краткое наименование контракта',\n",
    "                 'Последний день обращения',\n",
    "                 'Тип опциона',\n",
    "                 'Дата исполнения',\n",
    "                 'Код базового актива',\n",
    "                 'Начало обращения',\n",
    "                 'Вид опциона пут или колл',\n",
    "                 'Цена Страйк',\n",
    "                 'Исполнение',\n",
    "                 'Способ исполнения опциона',\n",
    "                 'Способ маржирования опциона',\n",
    "                 'Лот',\n",
    "                 'Наименование контракта',\n",
    "                 'Группа контрактов',\n",
    "                 'Котировка',\n",
    "                 'Базовый актив',\n",
    "                 'Опционная серия',\n",
    "                 'Вид/категория ценной бумаги',\n",
    "                 'Код типа инструмента',\n",
    "                 'Тип бумаги',\n",
    "                 'Типа инструмента']\n",
    "\n",
    "columns_end_of_date = ['BOARDID', 'TRADEDATE', 'SECID', 'OPEN', 'LOW', 'HIGH', 'CLOSE',\n",
    "                       'OPENPOSITIONVALUE', 'VALUE', 'VOLUME', 'OPENPOSITION', 'SETTLEPRICE',\n",
    "                       'WAPRICE', 'SETTLEPRICEDAY', 'CHANGE', 'QTY', 'NUMTRADES', 'NAME']\n",
    "\n",
    "columns_candles = ['open', 'close', 'high', 'low', 'value', 'volume', 'begin', 'end', 'name']"
   ]
  },
  {
   "cell_type": "code",
   "execution_count": 4,
   "id": "18daf6b6",
   "metadata": {
    "colab": {
     "base_uri": "https://localhost:8080/",
     "height": 802
    },
    "id": "18daf6b6",
    "outputId": "30cb0430-a5a5-44f8-8417-3d18773ec1d7"
   },
   "outputs": [
    {
     "name": "stdout",
     "output_type": "stream",
     "text": [
      "2023 year is being parsed\n",
      "- month: G\n"
     ]
    },
    {
     "name": "stderr",
     "output_type": "stream",
     "text": [
      "Week: -: 100%|█████████████████████████████████████████████████████████████████████████| 60/60 [00:28<00:00,  2.09it/s]\n",
      "Week: A: 100%|█████████████████████████████████████████████████████████████████████████| 60/60 [00:30<00:00,  1.95it/s]\n",
      "Week: B:  42%|██████████████████████████████▍                                          | 25/60 [00:15<00:33,  1.06it/s]"
     ]
    },
    {
     "name": "stdout",
     "output_type": "stream",
     "text": [
      "Si90CG3B\n",
      "Saved.\n"
     ]
    },
    {
     "name": "stderr",
     "output_type": "stream",
     "text": [
      "Week: B:  62%|█████████████████████████████████████████████                            | 37/60 [00:22<00:13,  1.65it/s]"
     ]
    },
    {
     "name": "stdout",
     "output_type": "stream",
     "text": [
      "Si96CG3B\n",
      "Saved.\n"
     ]
    },
    {
     "name": "stderr",
     "output_type": "stream",
     "text": [
      "Week: B: 100%|█████████████████████████████████████████████████████████████████████████| 60/60 [00:33<00:00,  1.81it/s]\n",
      "Week: C: 100%|█████████████████████████████████████████████████████████████████████████| 60/60 [00:33<00:00,  1.78it/s]\n",
      "Week: D: 100%|█████████████████████████████████████████████████████████████████████████| 60/60 [00:29<00:00,  2.03it/s]\n",
      "Week: E: 100%|█████████████████████████████████████████████████████████████████████████| 60/60 [00:28<00:00,  2.08it/s]\n"
     ]
    },
    {
     "name": "stdout",
     "output_type": "stream",
     "text": [
      "- month: H\n"
     ]
    },
    {
     "name": "stderr",
     "output_type": "stream",
     "text": [
      "Week: -:  62%|█████████████████████████████████████████████                            | 37/60 [00:21<00:17,  1.33it/s]"
     ]
    },
    {
     "name": "stdout",
     "output_type": "stream",
     "text": [
      "Si96CH3\n",
      "Saved.\n"
     ]
    },
    {
     "name": "stderr",
     "output_type": "stream",
     "text": [
      "Week: -: 100%|█████████████████████████████████████████████████████████████████████████| 60/60 [00:33<00:00,  1.79it/s]\n",
      "Week: A:  42%|██████████████████████████████▍                                          | 25/60 [00:12<00:18,  1.86it/s]"
     ]
    },
    {
     "name": "stdout",
     "output_type": "stream",
     "text": [
      "Si90CH3A\n",
      "Saved.\n"
     ]
    },
    {
     "name": "stderr",
     "output_type": "stream",
     "text": [
      "Week: A:  48%|███████████████████████████████████▎                                     | 29/60 [00:13<00:14,  2.13it/s]"
     ]
    },
    {
     "name": "stdout",
     "output_type": "stream",
     "text": [
      "Si92CH3A\n",
      "Saved.\n"
     ]
    },
    {
     "name": "stderr",
     "output_type": "stream",
     "text": [
      "Week: A: 100%|█████████████████████████████████████████████████████████████████████████| 60/60 [00:29<00:00,  2.03it/s]\n",
      "Week: B: 100%|█████████████████████████████████████████████████████████████████████████| 60/60 [00:30<00:00,  1.94it/s]\n",
      "Week: C:  97%|██████████████████████████████████████████████████████████████████████▌  | 58/60 [00:49<00:13,  6.72s/it]"
     ]
    },
    {
     "name": "stdout",
     "output_type": "stream",
     "text": [
      "Произошла ошибка типа: ConnectTimeout\n"
     ]
    },
    {
     "name": "stderr",
     "output_type": "stream",
     "text": [
      "Week: C: 100%|█████████████████████████████████████████████████████████████████████████| 60/60 [00:49<00:00,  1.20it/s]\n",
      "Week: D: 100%|█████████████████████████████████████████████████████████████████████████| 60/60 [00:41<00:00,  1.46it/s]\n",
      "Week: E:  35%|█████████████████████████▌                                               | 21/60 [00:18<00:38,  1.00it/s]"
     ]
    },
    {
     "name": "stdout",
     "output_type": "stream",
     "text": [
      "Si88CH3E\n",
      "Saved.\n"
     ]
    },
    {
     "name": "stderr",
     "output_type": "stream",
     "text": [
      "Week: E:  55%|████████████████████████████████████████▏                                | 33/60 [00:29<00:33,  1.24s/it]"
     ]
    },
    {
     "name": "stdout",
     "output_type": "stream",
     "text": [
      "Si94CH3E\n",
      "Saved.\n"
     ]
    },
    {
     "name": "stderr",
     "output_type": "stream",
     "text": [
      "Week: E: 100%|█████████████████████████████████████████████████████████████████████████| 60/60 [00:48<00:00,  1.25it/s]\n"
     ]
    },
    {
     "name": "stdout",
     "output_type": "stream",
     "text": [
      "- month: I\n"
     ]
    },
    {
     "name": "stderr",
     "output_type": "stream",
     "text": [
      "Week: -:  28%|████████████████████▋                                                    | 17/60 [00:08<00:19,  2.22it/s]"
     ]
    },
    {
     "name": "stdout",
     "output_type": "stream",
     "text": [
      "Si86CI3\n",
      "Saved.\n"
     ]
    },
    {
     "name": "stderr",
     "output_type": "stream",
     "text": [
      "Week: -:  62%|█████████████████████████████████████████████                            | 37/60 [00:21<00:18,  1.27it/s]"
     ]
    },
    {
     "name": "stdout",
     "output_type": "stream",
     "text": [
      "Si96CI3\n",
      "Saved.\n"
     ]
    },
    {
     "name": "stderr",
     "output_type": "stream",
     "text": [
      "Week: -:  75%|██████████████████████████████████████████████████████▊                  | 45/60 [00:25<00:08,  1.79it/s]"
     ]
    },
    {
     "name": "stdout",
     "output_type": "stream",
     "text": [
      "Si100CI3\n",
      "Saved.\n"
     ]
    },
    {
     "name": "stderr",
     "output_type": "stream",
     "text": [
      "Week: -: 100%|█████████████████████████████████████████████████████████████████████████| 60/60 [00:34<00:00,  1.75it/s]\n",
      "Week: A:  62%|█████████████████████████████████████████████                            | 37/60 [00:19<00:09,  2.32it/s]"
     ]
    },
    {
     "name": "stdout",
     "output_type": "stream",
     "text": [
      "Si96CI3A\n",
      "Saved.\n"
     ]
    },
    {
     "name": "stderr",
     "output_type": "stream",
     "text": [
      "Week: A:  68%|█████████████████████████████████████████████████▉                       | 41/60 [00:21<00:07,  2.40it/s]"
     ]
    },
    {
     "name": "stdout",
     "output_type": "stream",
     "text": [
      "Si98CI3A\n",
      "Saved.\n"
     ]
    },
    {
     "name": "stderr",
     "output_type": "stream",
     "text": [
      "Week: A: 100%|█████████████████████████████████████████████████████████████████████████| 60/60 [00:31<00:00,  1.91it/s]\n",
      "Week: B:  55%|████████████████████████████████████████▏                                | 33/60 [00:17<00:18,  1.46it/s]"
     ]
    },
    {
     "name": "stdout",
     "output_type": "stream",
     "text": [
      "Si94CI3B\n",
      "Saved.\n"
     ]
    },
    {
     "name": "stderr",
     "output_type": "stream",
     "text": [
      "Week: B:  68%|█████████████████████████████████████████████████▉                       | 41/60 [00:20<00:08,  2.16it/s]"
     ]
    },
    {
     "name": "stdout",
     "output_type": "stream",
     "text": [
      "Si98CI3B\n",
      "Saved.\n"
     ]
    },
    {
     "name": "stderr",
     "output_type": "stream",
     "text": [
      "Week: B:  75%|██████████████████████████████████████████████████████▊                  | 45/60 [00:23<00:08,  1.69it/s]"
     ]
    },
    {
     "name": "stdout",
     "output_type": "stream",
     "text": [
      "Si100CI3B\n",
      "Saved.\n"
     ]
    },
    {
     "name": "stderr",
     "output_type": "stream",
     "text": [
      "Week: B: 100%|█████████████████████████████████████████████████████████████████████████| 60/60 [00:30<00:00,  1.94it/s]\n",
      "Week: C: 100%|█████████████████████████████████████████████████████████████████████████| 60/60 [00:30<00:00,  1.95it/s]\n",
      "Week: D:  28%|████████████████████▋                                                    | 17/60 [00:10<00:26,  1.65it/s]"
     ]
    },
    {
     "name": "stdout",
     "output_type": "stream",
     "text": [
      "Si86CI3D\n",
      "Saved.\n"
     ]
    },
    {
     "name": "stderr",
     "output_type": "stream",
     "text": [
      "Week: D:  42%|██████████████████████████████▍                                          | 25/60 [00:16<00:25,  1.39it/s]"
     ]
    },
    {
     "name": "stdout",
     "output_type": "stream",
     "text": [
      "Si90CI3D\n",
      "Saved.\n"
     ]
    },
    {
     "name": "stderr",
     "output_type": "stream",
     "text": [
      "Week: D:  48%|███████████████████████████████████▎                                     | 29/60 [00:18<00:14,  2.11it/s]"
     ]
    },
    {
     "name": "stdout",
     "output_type": "stream",
     "text": [
      "Si92CI3D\n",
      "Saved.\n"
     ]
    },
    {
     "name": "stderr",
     "output_type": "stream",
     "text": [
      "Week: D:  62%|█████████████████████████████████████████████                            | 37/60 [00:24<00:14,  1.62it/s]"
     ]
    },
    {
     "name": "stdout",
     "output_type": "stream",
     "text": [
      "Si96CI3D\n",
      "Saved.\n"
     ]
    },
    {
     "name": "stderr",
     "output_type": "stream",
     "text": [
      "Week: D:  68%|█████████████████████████████████████████████████▉                       | 41/60 [00:28<00:12,  1.49it/s]"
     ]
    },
    {
     "name": "stdout",
     "output_type": "stream",
     "text": [
      "Si98CI3D\n",
      "Saved.\n"
     ]
    },
    {
     "name": "stderr",
     "output_type": "stream",
     "text": [
      "Week: D: 100%|█████████████████████████████████████████████████████████████████████████| 60/60 [00:36<00:00,  1.64it/s]\n",
      "Week: E: 100%|█████████████████████████████████████████████████████████████████████████| 60/60 [00:31<00:00,  1.90it/s]\n"
     ]
    },
    {
     "name": "stdout",
     "output_type": "stream",
     "text": [
      "- month: J\n"
     ]
    },
    {
     "name": "stderr",
     "output_type": "stream",
     "text": [
      "Week: -:  28%|████████████████████▋                                                    | 17/60 [00:07<00:24,  1.78it/s]"
     ]
    },
    {
     "name": "stdout",
     "output_type": "stream",
     "text": [
      "Si86CJ3\n",
      "Saved.\n"
     ]
    },
    {
     "name": "stderr",
     "output_type": "stream",
     "text": [
      "Week: -:  35%|█████████████████████████▌                                               | 21/60 [00:09<00:19,  2.04it/s]"
     ]
    },
    {
     "name": "stdout",
     "output_type": "stream",
     "text": [
      "Si88CJ3\n",
      "Saved.\n"
     ]
    },
    {
     "name": "stderr",
     "output_type": "stream",
     "text": [
      "Week: -:  42%|██████████████████████████████▍                                          | 25/60 [00:11<00:21,  1.60it/s]"
     ]
    },
    {
     "name": "stdout",
     "output_type": "stream",
     "text": [
      "Si90CJ3\n",
      "Saved.\n"
     ]
    },
    {
     "name": "stderr",
     "output_type": "stream",
     "text": [
      "Week: -:  48%|███████████████████████████████████▎                                     | 29/60 [00:13<00:18,  1.69it/s]"
     ]
    },
    {
     "name": "stdout",
     "output_type": "stream",
     "text": [
      "Si92CJ3\n",
      "Saved.\n"
     ]
    },
    {
     "name": "stderr",
     "output_type": "stream",
     "text": [
      "Week: -:  55%|████████████████████████████████████████▏                                | 33/60 [00:15<00:13,  2.05it/s]"
     ]
    },
    {
     "name": "stdout",
     "output_type": "stream",
     "text": [
      "Si94CJ3\n",
      "Saved.\n"
     ]
    },
    {
     "name": "stderr",
     "output_type": "stream",
     "text": [
      "Week: -:  62%|█████████████████████████████████████████████                            | 37/60 [00:18<00:21,  1.07it/s]"
     ]
    },
    {
     "name": "stdout",
     "output_type": "stream",
     "text": [
      "Si96CJ3\n",
      "Saved.\n"
     ]
    },
    {
     "name": "stderr",
     "output_type": "stream",
     "text": [
      "Week: -:  68%|█████████████████████████████████████████████████▉                       | 41/60 [00:20<00:11,  1.67it/s]"
     ]
    },
    {
     "name": "stdout",
     "output_type": "stream",
     "text": [
      "Si98CJ3\n",
      "Saved.\n"
     ]
    },
    {
     "name": "stderr",
     "output_type": "stream",
     "text": [
      "Week: -:  75%|██████████████████████████████████████████████████████▊                  | 45/60 [00:22<00:08,  1.81it/s]"
     ]
    },
    {
     "name": "stdout",
     "output_type": "stream",
     "text": [
      "Si100CJ3\n",
      "Saved.\n"
     ]
    },
    {
     "name": "stderr",
     "output_type": "stream",
     "text": [
      "Week: -:  82%|███████████████████████████████████████████████████████████▌             | 49/60 [00:25<00:06,  1.61it/s]"
     ]
    },
    {
     "name": "stdout",
     "output_type": "stream",
     "text": [
      "Si102CJ3\n",
      "Saved.\n"
     ]
    },
    {
     "name": "stderr",
     "output_type": "stream",
     "text": [
      "Week: -:  88%|████████████████████████████████████████████████████████████████▍        | 53/60 [00:27<00:03,  1.82it/s]"
     ]
    },
    {
     "name": "stdout",
     "output_type": "stream",
     "text": [
      "Si104CJ3\n",
      "Saved.\n"
     ]
    },
    {
     "name": "stderr",
     "output_type": "stream",
     "text": [
      "Week: -:  95%|█████████████████████████████████████████████████████████████████████▎   | 57/60 [00:31<00:02,  1.01it/s]"
     ]
    },
    {
     "name": "stdout",
     "output_type": "stream",
     "text": [
      "Si106CJ3\n",
      "Saved.\n"
     ]
    },
    {
     "name": "stderr",
     "output_type": "stream",
     "text": [
      "Week: -: 100%|█████████████████████████████████████████████████████████████████████████| 60/60 [00:33<00:00,  1.79it/s]\n",
      "Week: A:  28%|████████████████████▋                                                    | 17/60 [00:10<00:22,  1.87it/s]"
     ]
    },
    {
     "name": "stdout",
     "output_type": "stream",
     "text": [
      "Si86CJ3A\n",
      "Saved.\n"
     ]
    },
    {
     "name": "stderr",
     "output_type": "stream",
     "text": [
      "Week: A:  35%|█████████████████████████▌                                               | 21/60 [00:12<00:21,  1.82it/s]"
     ]
    },
    {
     "name": "stdout",
     "output_type": "stream",
     "text": [
      "Si88CJ3A\n",
      "Saved.\n"
     ]
    },
    {
     "name": "stderr",
     "output_type": "stream",
     "text": [
      "Week: A:  42%|██████████████████████████████▍                                          | 25/60 [00:15<00:24,  1.43it/s]"
     ]
    },
    {
     "name": "stdout",
     "output_type": "stream",
     "text": [
      "Si90CJ3A\n",
      "Saved.\n"
     ]
    },
    {
     "name": "stderr",
     "output_type": "stream",
     "text": [
      "Week: A:  48%|███████████████████████████████████▎                                     | 29/60 [00:17<00:16,  1.85it/s]"
     ]
    },
    {
     "name": "stdout",
     "output_type": "stream",
     "text": [
      "Si92CJ3A\n",
      "Saved.\n"
     ]
    },
    {
     "name": "stderr",
     "output_type": "stream",
     "text": [
      "Week: A:  55%|████████████████████████████████████████▏                                | 33/60 [00:19<00:13,  1.99it/s]"
     ]
    },
    {
     "name": "stdout",
     "output_type": "stream",
     "text": [
      "Si94CJ3A\n",
      "Saved.\n"
     ]
    },
    {
     "name": "stderr",
     "output_type": "stream",
     "text": [
      "Week: A:  68%|█████████████████████████████████████████████████▉                       | 41/60 [00:24<00:09,  2.11it/s]"
     ]
    },
    {
     "name": "stdout",
     "output_type": "stream",
     "text": [
      "Si98CJ3A\n",
      "Saved.\n"
     ]
    },
    {
     "name": "stderr",
     "output_type": "stream",
     "text": [
      "Week: A:  75%|██████████████████████████████████████████████████████▊                  | 45/60 [00:26<00:10,  1.49it/s]"
     ]
    },
    {
     "name": "stdout",
     "output_type": "stream",
     "text": [
      "Si100CJ3A\n",
      "Saved.\n"
     ]
    },
    {
     "name": "stderr",
     "output_type": "stream",
     "text": [
      "Week: A: 100%|█████████████████████████████████████████████████████████████████████████| 60/60 [00:33<00:00,  1.79it/s]\n",
      "Week: B:  42%|██████████████████████████████▍                                          | 25/60 [00:11<00:24,  1.41it/s]"
     ]
    },
    {
     "name": "stdout",
     "output_type": "stream",
     "text": [
      "Si90CJ3B\n",
      "Saved.\n"
     ]
    },
    {
     "name": "stderr",
     "output_type": "stream",
     "text": [
      "Week: B:  48%|███████████████████████████████████▎                                     | 29/60 [00:13<00:15,  1.98it/s]"
     ]
    },
    {
     "name": "stdout",
     "output_type": "stream",
     "text": [
      "Si92CJ3B\n",
      "Saved.\n"
     ]
    },
    {
     "name": "stderr",
     "output_type": "stream",
     "text": [
      "Week: B:  68%|█████████████████████████████████████████████████▉                       | 41/60 [00:19<00:08,  2.29it/s]"
     ]
    },
    {
     "name": "stdout",
     "output_type": "stream",
     "text": [
      "Si98CJ3B\n",
      "Saved.\n"
     ]
    },
    {
     "name": "stderr",
     "output_type": "stream",
     "text": [
      "Week: B:  75%|██████████████████████████████████████████████████████▊                  | 45/60 [00:20<00:07,  2.04it/s]"
     ]
    },
    {
     "name": "stdout",
     "output_type": "stream",
     "text": [
      "Si100CJ3B\n",
      "Saved.\n"
     ]
    },
    {
     "name": "stderr",
     "output_type": "stream",
     "text": [
      "Week: B:  82%|███████████████████████████████████████████████████████████▌             | 49/60 [00:24<00:08,  1.26it/s]"
     ]
    },
    {
     "name": "stdout",
     "output_type": "stream",
     "text": [
      "Si102CJ3B\n",
      "Saved.\n"
     ]
    },
    {
     "name": "stderr",
     "output_type": "stream",
     "text": [
      "Week: B:  88%|████████████████████████████████████████████████████████████████▍        | 53/60 [00:26<00:04,  1.46it/s]"
     ]
    },
    {
     "name": "stdout",
     "output_type": "stream",
     "text": [
      "Si104CJ3B\n",
      "Saved.\n"
     ]
    },
    {
     "name": "stderr",
     "output_type": "stream",
     "text": [
      "Week: B:  95%|█████████████████████████████████████████████████████████████████████▎   | 57/60 [00:29<00:02,  1.44it/s]"
     ]
    },
    {
     "name": "stdout",
     "output_type": "stream",
     "text": [
      "Si106CJ3B\n",
      "Saved.\n"
     ]
    },
    {
     "name": "stderr",
     "output_type": "stream",
     "text": [
      "Week: B: 100%|█████████████████████████████████████████████████████████████████████████| 60/60 [00:31<00:00,  1.92it/s]\n",
      "Week: C: 100%|█████████████████████████████████████████████████████████████████████████| 60/60 [00:35<00:00,  1.70it/s]\n",
      "Week: D:  42%|██████████████████████████████▍                                          | 25/60 [00:14<00:16,  2.15it/s]"
     ]
    },
    {
     "name": "stdout",
     "output_type": "stream",
     "text": [
      "Si90CJ3D\n",
      "Saved.\n"
     ]
    },
    {
     "name": "stderr",
     "output_type": "stream",
     "text": [
      "Week: D:  48%|███████████████████████████████████▎                                     | 29/60 [00:17<00:23,  1.31it/s]"
     ]
    },
    {
     "name": "stdout",
     "output_type": "stream",
     "text": [
      "Si92CJ3D\n",
      "Saved.\n"
     ]
    },
    {
     "name": "stderr",
     "output_type": "stream",
     "text": [
      "Week: D:  55%|████████████████████████████████████████▏                                | 33/60 [00:18<00:13,  1.94it/s]"
     ]
    },
    {
     "name": "stdout",
     "output_type": "stream",
     "text": [
      "Si94CJ3D\n",
      "Saved.\n"
     ]
    },
    {
     "name": "stderr",
     "output_type": "stream",
     "text": [
      "Week: D:  62%|█████████████████████████████████████████████                            | 37/60 [00:20<00:11,  1.99it/s]"
     ]
    },
    {
     "name": "stdout",
     "output_type": "stream",
     "text": [
      "Si96CJ3D\n",
      "Saved.\n"
     ]
    },
    {
     "name": "stderr",
     "output_type": "stream",
     "text": [
      "Week: D:  68%|█████████████████████████████████████████████████▉                       | 41/60 [00:25<00:17,  1.09it/s]"
     ]
    },
    {
     "name": "stdout",
     "output_type": "stream",
     "text": [
      "Si98CJ3D\n",
      "Saved.\n"
     ]
    },
    {
     "name": "stderr",
     "output_type": "stream",
     "text": [
      "Week: D:  75%|██████████████████████████████████████████████████████▊                  | 45/60 [00:26<00:07,  1.89it/s]"
     ]
    },
    {
     "name": "stdout",
     "output_type": "stream",
     "text": [
      "Si100CJ3D\n",
      "Saved.\n"
     ]
    },
    {
     "name": "stderr",
     "output_type": "stream",
     "text": [
      "Week: D:  82%|███████████████████████████████████████████████████████████▌             | 49/60 [00:30<00:09,  1.21it/s]"
     ]
    },
    {
     "name": "stdout",
     "output_type": "stream",
     "text": [
      "Si102CJ3D\n",
      "Saved.\n"
     ]
    },
    {
     "name": "stderr",
     "output_type": "stream",
     "text": [
      "Week: D:  88%|████████████████████████████████████████████████████████████████▍        | 53/60 [00:32<00:04,  1.65it/s]"
     ]
    },
    {
     "name": "stdout",
     "output_type": "stream",
     "text": [
      "Si104CJ3D\n",
      "Saved.\n"
     ]
    },
    {
     "name": "stderr",
     "output_type": "stream",
     "text": [
      "Week: D:  95%|█████████████████████████████████████████████████████████████████████▎   | 57/60 [00:36<00:02,  1.16it/s]"
     ]
    },
    {
     "name": "stdout",
     "output_type": "stream",
     "text": [
      "Si106CJ3D\n",
      "Saved.\n"
     ]
    },
    {
     "name": "stderr",
     "output_type": "stream",
     "text": [
      "Week: D: 100%|█████████████████████████████████████████████████████████████████████████| 60/60 [00:37<00:00,  1.59it/s]\n",
      "Week: E: 100%|█████████████████████████████████████████████████████████████████████████| 60/60 [00:48<00:00,  1.23it/s]\n"
     ]
    },
    {
     "name": "stdout",
     "output_type": "stream",
     "text": [
      "- month: K\n"
     ]
    },
    {
     "name": "stderr",
     "output_type": "stream",
     "text": [
      "Week: -:  35%|█████████████████████████▌                                               | 21/60 [00:29<01:00,  1.55s/it]"
     ]
    },
    {
     "name": "stdout",
     "output_type": "stream",
     "text": [
      "Si88CK3\n",
      "Saved.\n"
     ]
    },
    {
     "name": "stderr",
     "output_type": "stream",
     "text": [
      "Week: -:  42%|██████████████████████████████▍                                          | 25/60 [00:35<00:47,  1.34s/it]"
     ]
    },
    {
     "name": "stdout",
     "output_type": "stream",
     "text": [
      "Si90CK3\n",
      "Saved.\n"
     ]
    },
    {
     "name": "stderr",
     "output_type": "stream",
     "text": [
      "Week: -:  48%|███████████████████████████████████▎                                     | 29/60 [00:40<00:37,  1.21s/it]"
     ]
    },
    {
     "name": "stdout",
     "output_type": "stream",
     "text": [
      "Si92CK3\n",
      "Saved.\n"
     ]
    },
    {
     "name": "stderr",
     "output_type": "stream",
     "text": [
      "Week: -:  55%|████████████████████████████████████████▏                                | 33/60 [00:46<00:42,  1.57s/it]"
     ]
    },
    {
     "name": "stdout",
     "output_type": "stream",
     "text": [
      "Si94CK3\n",
      "Saved.\n"
     ]
    },
    {
     "name": "stderr",
     "output_type": "stream",
     "text": [
      "Week: -:  62%|█████████████████████████████████████████████                            | 37/60 [00:53<00:43,  1.90s/it]"
     ]
    },
    {
     "name": "stdout",
     "output_type": "stream",
     "text": [
      "Si96CK3\n",
      "Saved.\n"
     ]
    },
    {
     "name": "stderr",
     "output_type": "stream",
     "text": [
      "Week: -:  68%|█████████████████████████████████████████████████▉                       | 41/60 [01:00<00:32,  1.70s/it]"
     ]
    },
    {
     "name": "stdout",
     "output_type": "stream",
     "text": [
      "Si98CK3\n",
      "Saved.\n"
     ]
    },
    {
     "name": "stderr",
     "output_type": "stream",
     "text": [
      "Week: -: 100%|█████████████████████████████████████████████████████████████████████████| 60/60 [01:26<00:00,  1.44s/it]\n",
      "Week: A:  22%|███████████████▊                                                         | 13/60 [00:20<01:34,  2.01s/it]"
     ]
    },
    {
     "name": "stdout",
     "output_type": "stream",
     "text": [
      "Si84CK3A\n",
      "Saved.\n"
     ]
    },
    {
     "name": "stderr",
     "output_type": "stream",
     "text": [
      "Week: A:  28%|████████████████████▋                                                    | 17/60 [00:28<01:23,  1.95s/it]"
     ]
    },
    {
     "name": "stdout",
     "output_type": "stream",
     "text": [
      "Si86CK3A\n",
      "Saved.\n"
     ]
    },
    {
     "name": "stderr",
     "output_type": "stream",
     "text": [
      "Week: A:  32%|███████████████████████                                                  | 19/60 [00:52<05:22,  7.87s/it]"
     ]
    },
    {
     "name": "stdout",
     "output_type": "stream",
     "text": [
      "Произошла ошибка типа: ConnectTimeout\n"
     ]
    },
    {
     "name": "stderr",
     "output_type": "stream",
     "text": [
      "Week: A:  35%|█████████████████████████▌                                               | 21/60 [00:56<03:13,  4.96s/it]"
     ]
    },
    {
     "name": "stdout",
     "output_type": "stream",
     "text": [
      "Si88CK3A\n",
      "Saved.\n"
     ]
    },
    {
     "name": "stderr",
     "output_type": "stream",
     "text": [
      "Week: A:  42%|██████████████████████████████▍                                          | 25/60 [01:08<02:05,  3.58s/it]"
     ]
    },
    {
     "name": "stdout",
     "output_type": "stream",
     "text": [
      "Si90CK3A\n",
      "Saved.\n"
     ]
    },
    {
     "name": "stderr",
     "output_type": "stream",
     "text": [
      "Week: A:  43%|███████████████████████████████▋                                         | 26/60 [01:29<04:59,  8.81s/it]"
     ]
    },
    {
     "name": "stdout",
     "output_type": "stream",
     "text": [
      "Произошла ошибка типа: ConnectTimeout\n"
     ]
    },
    {
     "name": "stderr",
     "output_type": "stream",
     "text": [
      "Week: A:  48%|███████████████████████████████████▎                                     | 29/60 [01:32<01:59,  3.86s/it]"
     ]
    },
    {
     "name": "stdout",
     "output_type": "stream",
     "text": [
      "Si92CK3A\n",
      "Saved.\n"
     ]
    },
    {
     "name": "stderr",
     "output_type": "stream",
     "text": [
      "Week: A:  55%|████████████████████████████████████████▏                                | 33/60 [01:39<01:00,  2.26s/it]"
     ]
    },
    {
     "name": "stdout",
     "output_type": "stream",
     "text": [
      "Si94CK3A\n",
      "Saved.\n"
     ]
    },
    {
     "name": "stderr",
     "output_type": "stream",
     "text": [
      "Week: A:  62%|█████████████████████████████████████████████                            | 37/60 [01:46<00:42,  1.86s/it]"
     ]
    },
    {
     "name": "stdout",
     "output_type": "stream",
     "text": [
      "Si96CK3A\n",
      "Saved.\n"
     ]
    },
    {
     "name": "stderr",
     "output_type": "stream",
     "text": [
      "Week: A:  68%|█████████████████████████████████████████████████▉                       | 41/60 [01:52<00:30,  1.60s/it]"
     ]
    },
    {
     "name": "stdout",
     "output_type": "stream",
     "text": [
      "Si98CK3A\n",
      "Saved.\n"
     ]
    },
    {
     "name": "stderr",
     "output_type": "stream",
     "text": [
      "Week: A:  75%|██████████████████████████████████████████████████████▊                  | 45/60 [01:59<00:27,  1.86s/it]"
     ]
    },
    {
     "name": "stdout",
     "output_type": "stream",
     "text": [
      "Si100CK3A\n",
      "Saved.\n"
     ]
    },
    {
     "name": "stderr",
     "output_type": "stream",
     "text": [
      "Week: A:  82%|███████████████████████████████████████████████████████████▌             | 49/60 [02:03<00:12,  1.13s/it]"
     ]
    },
    {
     "name": "stdout",
     "output_type": "stream",
     "text": [
      "Si102CK3A\n",
      "Saved.\n"
     ]
    },
    {
     "name": "stderr",
     "output_type": "stream",
     "text": [
      "Week: A: 100%|█████████████████████████████████████████████████████████████████████████| 60/60 [02:19<00:00,  2.33s/it]\n",
      "Week: B:  28%|████████████████████▋                                                    | 17/60 [00:15<00:31,  1.35it/s]"
     ]
    },
    {
     "name": "stdout",
     "output_type": "stream",
     "text": [
      "Si86CK3B\n",
      "Saved.\n"
     ]
    },
    {
     "name": "stderr",
     "output_type": "stream",
     "text": [
      "Week: B:  35%|█████████████████████████▌                                               | 21/60 [00:18<00:27,  1.43it/s]"
     ]
    },
    {
     "name": "stdout",
     "output_type": "stream",
     "text": [
      "Si88CK3B\n",
      "Saved.\n"
     ]
    },
    {
     "name": "stderr",
     "output_type": "stream",
     "text": [
      "Week: B:  42%|██████████████████████████████▍                                          | 25/60 [00:24<01:04,  1.85s/it]"
     ]
    },
    {
     "name": "stdout",
     "output_type": "stream",
     "text": [
      "Si90CK3B\n",
      "Saved.\n"
     ]
    },
    {
     "name": "stderr",
     "output_type": "stream",
     "text": [
      "Week: B:  48%|███████████████████████████████████▎                                     | 29/60 [00:29<00:43,  1.41s/it]"
     ]
    },
    {
     "name": "stdout",
     "output_type": "stream",
     "text": [
      "Si92CK3B\n",
      "Saved.\n"
     ]
    },
    {
     "name": "stderr",
     "output_type": "stream",
     "text": [
      "Week: B:  55%|████████████████████████████████████████▏                                | 33/60 [00:32<00:27,  1.00s/it]"
     ]
    },
    {
     "name": "stdout",
     "output_type": "stream",
     "text": [
      "Si94CK3B\n",
      "Saved.\n"
     ]
    },
    {
     "name": "stderr",
     "output_type": "stream",
     "text": [
      "Week: B:  62%|█████████████████████████████████████████████                            | 37/60 [00:41<00:45,  1.97s/it]"
     ]
    },
    {
     "name": "stdout",
     "output_type": "stream",
     "text": [
      "Si96CK3B\n",
      "Saved.\n"
     ]
    },
    {
     "name": "stderr",
     "output_type": "stream",
     "text": [
      "Week: B:  88%|████████████████████████████████████████████████████████████████▍        | 53/60 [01:05<00:20,  2.98s/it]"
     ]
    },
    {
     "name": "stdout",
     "output_type": "stream",
     "text": [
      "Si104CK3B\n",
      "Saved.\n"
     ]
    },
    {
     "name": "stderr",
     "output_type": "stream",
     "text": [
      "Week: B: 100%|█████████████████████████████████████████████████████████████████████████| 60/60 [01:17<00:00,  1.29s/it]\n",
      "Week: C: 100%|█████████████████████████████████████████████████████████████████████████| 60/60 [01:37<00:00,  1.63s/it]\n"
     ]
    },
    {
     "name": "stdout",
     "output_type": "stream",
     "text": [
      "Произошла ошибка типа: ConnectTimeout\n"
     ]
    },
    {
     "name": "stderr",
     "output_type": "stream",
     "text": [
      "Week: D:   8%|██████▏                                                                   | 5/60 [00:06<01:21,  1.49s/it]"
     ]
    },
    {
     "name": "stdout",
     "output_type": "stream",
     "text": [
      "Si80CK3D\n",
      "Saved.\n"
     ]
    },
    {
     "name": "stderr",
     "output_type": "stream",
     "text": [
      "Week: D:  22%|███████████████▊                                                         | 13/60 [00:30<01:58,  2.52s/it]"
     ]
    },
    {
     "name": "stdout",
     "output_type": "stream",
     "text": [
      "Si84CK3D\n",
      "Saved.\n"
     ]
    },
    {
     "name": "stderr",
     "output_type": "stream",
     "text": [
      "Week: D:  28%|████████████████████▋                                                    | 17/60 [00:34<00:56,  1.31s/it]"
     ]
    },
    {
     "name": "stdout",
     "output_type": "stream",
     "text": [
      "Si86CK3D\n",
      "Saved.\n"
     ]
    },
    {
     "name": "stderr",
     "output_type": "stream",
     "text": [
      "Week: D:  35%|█████████████████████████▌                                               | 21/60 [00:51<01:49,  2.82s/it]"
     ]
    },
    {
     "name": "stdout",
     "output_type": "stream",
     "text": [
      "Si88CK3D\n",
      "Saved.\n"
     ]
    },
    {
     "name": "stderr",
     "output_type": "stream",
     "text": [
      "Week: D:  42%|██████████████████████████████▍                                          | 25/60 [01:03<01:30,  2.60s/it]"
     ]
    },
    {
     "name": "stdout",
     "output_type": "stream",
     "text": [
      "Si90CK3D\n",
      "Saved.\n"
     ]
    },
    {
     "name": "stderr",
     "output_type": "stream",
     "text": [
      "Week: D:  48%|███████████████████████████████████▎                                     | 29/60 [01:15<01:35,  3.08s/it]"
     ]
    },
    {
     "name": "stdout",
     "output_type": "stream",
     "text": [
      "Si92CK3D\n",
      "Saved.\n"
     ]
    },
    {
     "name": "stderr",
     "output_type": "stream",
     "text": [
      "Week: D:  55%|████████████████████████████████████████▏                                | 33/60 [01:22<00:55,  2.06s/it]"
     ]
    },
    {
     "name": "stdout",
     "output_type": "stream",
     "text": [
      "Si94CK3D\n",
      "Saved.\n"
     ]
    },
    {
     "name": "stderr",
     "output_type": "stream",
     "text": [
      "Week: D:  62%|█████████████████████████████████████████████                            | 37/60 [01:30<00:51,  2.23s/it]"
     ]
    },
    {
     "name": "stdout",
     "output_type": "stream",
     "text": [
      "Si96CK3D\n",
      "Saved.\n"
     ]
    },
    {
     "name": "stderr",
     "output_type": "stream",
     "text": [
      "Week: D:  68%|█████████████████████████████████████████████████▉                       | 41/60 [01:38<00:38,  2.04s/it]"
     ]
    },
    {
     "name": "stdout",
     "output_type": "stream",
     "text": [
      "Si98CK3D\n",
      "Saved.\n"
     ]
    },
    {
     "name": "stderr",
     "output_type": "stream",
     "text": [
      "Week: D: 100%|█████████████████████████████████████████████████████████████████████████| 60/60 [01:59<00:00,  1.99s/it]\n",
      "Week: E:   8%|██████▏                                                                   | 5/60 [00:06<01:00,  1.11s/it]"
     ]
    },
    {
     "name": "stdout",
     "output_type": "stream",
     "text": [
      "Si80CK3E\n",
      "Saved.\n"
     ]
    },
    {
     "name": "stderr",
     "output_type": "stream",
     "text": [
      "Week: E:  13%|█████████▊                                                                | 8/60 [00:31<06:57,  8.02s/it]"
     ]
    },
    {
     "name": "stdout",
     "output_type": "stream",
     "text": [
      "Произошла ошибка типа: ConnectTimeout\n"
     ]
    },
    {
     "name": "stderr",
     "output_type": "stream",
     "text": [
      "Week: E:  15%|███████████                                                               | 9/60 [00:34<05:31,  6.49s/it]"
     ]
    },
    {
     "name": "stdout",
     "output_type": "stream",
     "text": [
      "Si82CK3E\n",
      "Saved.\n"
     ]
    },
    {
     "name": "stderr",
     "output_type": "stream",
     "text": [
      "Week: E:  22%|███████████████▊                                                         | 13/60 [00:37<01:35,  2.04s/it]"
     ]
    },
    {
     "name": "stdout",
     "output_type": "stream",
     "text": [
      "Si84CK3E\n",
      "Saved.\n"
     ]
    },
    {
     "name": "stderr",
     "output_type": "stream",
     "text": [
      "Week: E:  28%|████████████████████▋                                                    | 17/60 [00:45<01:15,  1.76s/it]"
     ]
    },
    {
     "name": "stdout",
     "output_type": "stream",
     "text": [
      "Si86CK3E\n",
      "Saved.\n"
     ]
    },
    {
     "name": "stderr",
     "output_type": "stream",
     "text": [
      "Week: E:  35%|█████████████████████████▌                                               | 21/60 [00:49<00:43,  1.11s/it]"
     ]
    },
    {
     "name": "stdout",
     "output_type": "stream",
     "text": [
      "Si88CK3E\n",
      "Saved.\n"
     ]
    },
    {
     "name": "stderr",
     "output_type": "stream",
     "text": [
      "Week: E:  42%|██████████████████████████████▍                                          | 25/60 [00:54<00:42,  1.23s/it]"
     ]
    },
    {
     "name": "stdout",
     "output_type": "stream",
     "text": [
      "Si90CK3E\n",
      "Saved.\n"
     ]
    },
    {
     "name": "stderr",
     "output_type": "stream",
     "text": [
      "Week: E:  48%|███████████████████████████████████▎                                     | 29/60 [00:58<00:33,  1.08s/it]"
     ]
    },
    {
     "name": "stdout",
     "output_type": "stream",
     "text": [
      "Si92CK3E\n",
      "Saved.\n"
     ]
    },
    {
     "name": "stderr",
     "output_type": "stream",
     "text": [
      "Week: E:  55%|████████████████████████████████████████▏                                | 33/60 [01:01<00:23,  1.16it/s]"
     ]
    },
    {
     "name": "stdout",
     "output_type": "stream",
     "text": [
      "Si94CK3E\n",
      "Saved.\n"
     ]
    },
    {
     "name": "stderr",
     "output_type": "stream",
     "text": [
      "Week: E:  62%|█████████████████████████████████████████████                            | 37/60 [01:07<00:24,  1.07s/it]"
     ]
    },
    {
     "name": "stdout",
     "output_type": "stream",
     "text": [
      "Si96CK3E\n",
      "Saved.\n"
     ]
    },
    {
     "name": "stderr",
     "output_type": "stream",
     "text": [
      "Week: E: 100%|█████████████████████████████████████████████████████████████████████████| 60/60 [01:43<00:00,  1.72s/it]\n"
     ]
    },
    {
     "name": "stdout",
     "output_type": "stream",
     "text": [
      "- month: L\n"
     ]
    },
    {
     "name": "stderr",
     "output_type": "stream",
     "text": [
      "Week: -:   8%|██████▏                                                                   | 5/60 [00:06<01:01,  1.11s/it]"
     ]
    },
    {
     "name": "stdout",
     "output_type": "stream",
     "text": [
      "Si80CL3\n",
      "Saved.\n"
     ]
    },
    {
     "name": "stderr",
     "output_type": "stream",
     "text": [
      "Week: -:  22%|███████████████▊                                                         | 13/60 [00:12<00:32,  1.44it/s]"
     ]
    },
    {
     "name": "stdout",
     "output_type": "stream",
     "text": [
      "Si84CL3\n",
      "Saved.\n"
     ]
    },
    {
     "name": "stderr",
     "output_type": "stream",
     "text": [
      "Week: -:  28%|████████████████████▋                                                    | 17/60 [00:15<00:42,  1.02it/s]"
     ]
    },
    {
     "name": "stdout",
     "output_type": "stream",
     "text": [
      "Si86CL3\n",
      "Saved.\n"
     ]
    },
    {
     "name": "stderr",
     "output_type": "stream",
     "text": [
      "Week: -:  35%|█████████████████████████▌                                               | 21/60 [00:21<01:11,  1.83s/it]"
     ]
    },
    {
     "name": "stdout",
     "output_type": "stream",
     "text": [
      "Si88CL3\n",
      "Saved.\n"
     ]
    },
    {
     "name": "stderr",
     "output_type": "stream",
     "text": [
      "Week: -:  42%|██████████████████████████████▍                                          | 25/60 [00:24<00:39,  1.12s/it]"
     ]
    },
    {
     "name": "stdout",
     "output_type": "stream",
     "text": [
      "Si90CL3\n",
      "Saved.\n"
     ]
    },
    {
     "name": "stderr",
     "output_type": "stream",
     "text": [
      "Week: -:  48%|███████████████████████████████████▎                                     | 29/60 [00:33<00:54,  1.76s/it]"
     ]
    },
    {
     "name": "stdout",
     "output_type": "stream",
     "text": [
      "Si92CL3\n",
      "Saved.\n"
     ]
    },
    {
     "name": "stderr",
     "output_type": "stream",
     "text": [
      "Week: -:  55%|████████████████████████████████████████▏                                | 33/60 [00:35<00:22,  1.19it/s]"
     ]
    },
    {
     "name": "stdout",
     "output_type": "stream",
     "text": [
      "Si94CL3\n",
      "Saved.\n"
     ]
    },
    {
     "name": "stderr",
     "output_type": "stream",
     "text": [
      "Week: -:  62%|█████████████████████████████████████████████                            | 37/60 [00:40<00:32,  1.41s/it]"
     ]
    },
    {
     "name": "stdout",
     "output_type": "stream",
     "text": [
      "Si96CL3\n",
      "Saved.\n"
     ]
    },
    {
     "name": "stderr",
     "output_type": "stream",
     "text": [
      "Week: -:  68%|█████████████████████████████████████████████████▉                       | 41/60 [00:42<00:17,  1.08it/s]"
     ]
    },
    {
     "name": "stdout",
     "output_type": "stream",
     "text": [
      "Si98CL3\n",
      "Saved.\n"
     ]
    },
    {
     "name": "stderr",
     "output_type": "stream",
     "text": [
      "Week: -:  75%|██████████████████████████████████████████████████████▊                  | 45/60 [00:47<00:13,  1.09it/s]"
     ]
    },
    {
     "name": "stdout",
     "output_type": "stream",
     "text": [
      "Si100CL3\n",
      "Saved.\n"
     ]
    },
    {
     "name": "stderr",
     "output_type": "stream",
     "text": [
      "Week: -:  82%|███████████████████████████████████████████████████████████▌             | 49/60 [00:52<00:16,  1.47s/it]"
     ]
    },
    {
     "name": "stdout",
     "output_type": "stream",
     "text": [
      "Si102CL3\n",
      "Saved.\n"
     ]
    },
    {
     "name": "stderr",
     "output_type": "stream",
     "text": [
      "Week: -:  88%|████████████████████████████████████████████████████████████████▍        | 53/60 [00:53<00:05,  1.37it/s]"
     ]
    },
    {
     "name": "stdout",
     "output_type": "stream",
     "text": [
      "Si104CL3\n",
      "Saved.\n"
     ]
    },
    {
     "name": "stderr",
     "output_type": "stream",
     "text": [
      "Week: -: 100%|█████████████████████████████████████████████████████████████████████████| 60/60 [00:58<00:00,  1.02it/s]\n",
      "Week: A:   8%|██████▏                                                                   | 5/60 [00:02<00:29,  1.87it/s]"
     ]
    },
    {
     "name": "stdout",
     "output_type": "stream",
     "text": [
      "Si80CL3A\n",
      "Saved.\n"
     ]
    },
    {
     "name": "stderr",
     "output_type": "stream",
     "text": [
      "Week: A:  15%|███████████                                                               | 9/60 [00:05<00:31,  1.61it/s]"
     ]
    },
    {
     "name": "stdout",
     "output_type": "stream",
     "text": [
      "Si82CL3A\n",
      "Saved.\n"
     ]
    },
    {
     "name": "stderr",
     "output_type": "stream",
     "text": [
      "Week: A:  35%|█████████████████████████▌                                               | 21/60 [00:11<00:21,  1.81it/s]"
     ]
    },
    {
     "name": "stdout",
     "output_type": "stream",
     "text": [
      "Si88CL3A\n",
      "Saved.\n"
     ]
    },
    {
     "name": "stderr",
     "output_type": "stream",
     "text": [
      "Week: A:  42%|██████████████████████████████▍                                          | 25/60 [00:13<00:20,  1.75it/s]"
     ]
    },
    {
     "name": "stdout",
     "output_type": "stream",
     "text": [
      "Si90CL3A\n",
      "Saved.\n"
     ]
    },
    {
     "name": "stderr",
     "output_type": "stream",
     "text": [
      "Week: A:  48%|███████████████████████████████████▎                                     | 29/60 [00:16<00:19,  1.61it/s]"
     ]
    },
    {
     "name": "stdout",
     "output_type": "stream",
     "text": [
      "Si92CL3A\n",
      "Saved.\n"
     ]
    },
    {
     "name": "stderr",
     "output_type": "stream",
     "text": [
      "Week: A:  55%|████████████████████████████████████████▏                                | 33/60 [00:18<00:15,  1.76it/s]"
     ]
    },
    {
     "name": "stdout",
     "output_type": "stream",
     "text": [
      "Si94CL3A\n",
      "Saved.\n"
     ]
    },
    {
     "name": "stderr",
     "output_type": "stream",
     "text": [
      "Week: A:  62%|█████████████████████████████████████████████                            | 37/60 [00:21<00:16,  1.38it/s]"
     ]
    },
    {
     "name": "stdout",
     "output_type": "stream",
     "text": [
      "Si96CL3A\n",
      "Saved.\n"
     ]
    },
    {
     "name": "stderr",
     "output_type": "stream",
     "text": [
      "Week: A: 100%|█████████████████████████████████████████████████████████████████████████| 60/60 [00:31<00:00,  1.90it/s]\n",
      "Week: B:  15%|███████████                                                               | 9/60 [00:05<00:27,  1.88it/s]"
     ]
    },
    {
     "name": "stdout",
     "output_type": "stream",
     "text": [
      "Si82CL3B\n",
      "Saved.\n"
     ]
    },
    {
     "name": "stderr",
     "output_type": "stream",
     "text": [
      "Week: B:  22%|███████████████▊                                                         | 13/60 [00:08<00:41,  1.14it/s]"
     ]
    },
    {
     "name": "stdout",
     "output_type": "stream",
     "text": [
      "Si84CL3B\n",
      "Saved.\n"
     ]
    },
    {
     "name": "stderr",
     "output_type": "stream",
     "text": [
      "Week: B:  28%|████████████████████▋                                                    | 17/60 [00:10<00:26,  1.65it/s]"
     ]
    },
    {
     "name": "stdout",
     "output_type": "stream",
     "text": [
      "Si86CL3B\n",
      "Saved.\n"
     ]
    },
    {
     "name": "stderr",
     "output_type": "stream",
     "text": [
      "Week: B:  35%|█████████████████████████▌                                               | 21/60 [00:13<00:34,  1.13it/s]"
     ]
    },
    {
     "name": "stdout",
     "output_type": "stream",
     "text": [
      "Si88CL3B\n",
      "Saved.\n"
     ]
    },
    {
     "name": "stderr",
     "output_type": "stream",
     "text": [
      "Week: B:  42%|██████████████████████████████▍                                          | 25/60 [00:16<00:23,  1.50it/s]"
     ]
    },
    {
     "name": "stdout",
     "output_type": "stream",
     "text": [
      "Si90CL3B\n",
      "Saved.\n"
     ]
    },
    {
     "name": "stderr",
     "output_type": "stream",
     "text": [
      "Week: B:  48%|███████████████████████████████████▎                                     | 29/60 [00:17<00:16,  1.89it/s]"
     ]
    },
    {
     "name": "stdout",
     "output_type": "stream",
     "text": [
      "Si92CL3B\n",
      "Saved.\n"
     ]
    },
    {
     "name": "stderr",
     "output_type": "stream",
     "text": [
      "Week: B:  55%|████████████████████████████████████████▏                                | 33/60 [00:22<00:22,  1.20it/s]"
     ]
    },
    {
     "name": "stdout",
     "output_type": "stream",
     "text": [
      "Si94CL3B\n",
      "Saved.\n"
     ]
    },
    {
     "name": "stderr",
     "output_type": "stream",
     "text": [
      "Week: B:  62%|█████████████████████████████████████████████                            | 37/60 [00:25<00:20,  1.10it/s]"
     ]
    },
    {
     "name": "stdout",
     "output_type": "stream",
     "text": [
      "Si96CL3B\n",
      "Saved.\n"
     ]
    },
    {
     "name": "stderr",
     "output_type": "stream",
     "text": [
      "Week: B: 100%|█████████████████████████████████████████████████████████████████████████| 60/60 [00:39<00:00,  1.52it/s]\n",
      "Week: C: 100%|█████████████████████████████████████████████████████████████████████████| 60/60 [00:38<00:00,  1.56it/s]\n",
      "Week: D:  15%|███████████                                                               | 9/60 [00:06<00:24,  2.07it/s]"
     ]
    },
    {
     "name": "stdout",
     "output_type": "stream",
     "text": [
      "Si82CL3D\n",
      "Saved.\n"
     ]
    },
    {
     "name": "stderr",
     "output_type": "stream",
     "text": [
      "Week: D:  28%|████████████████████▋                                                    | 17/60 [00:10<00:21,  2.04it/s]"
     ]
    },
    {
     "name": "stdout",
     "output_type": "stream",
     "text": [
      "Si86CL3D\n",
      "Saved.\n"
     ]
    },
    {
     "name": "stderr",
     "output_type": "stream",
     "text": [
      "Week: D:  35%|█████████████████████████▌                                               | 21/60 [00:13<00:27,  1.41it/s]"
     ]
    },
    {
     "name": "stdout",
     "output_type": "stream",
     "text": [
      "Si88CL3D\n",
      "Saved.\n"
     ]
    },
    {
     "name": "stderr",
     "output_type": "stream",
     "text": [
      "Week: D:  42%|██████████████████████████████▍                                          | 25/60 [00:15<00:20,  1.68it/s]"
     ]
    },
    {
     "name": "stdout",
     "output_type": "stream",
     "text": [
      "Si90CL3D\n",
      "Saved.\n"
     ]
    },
    {
     "name": "stderr",
     "output_type": "stream",
     "text": [
      "Week: D:  48%|███████████████████████████████████▎                                     | 29/60 [00:18<00:24,  1.29it/s]"
     ]
    },
    {
     "name": "stdout",
     "output_type": "stream",
     "text": [
      "Si92CL3D\n",
      "Saved.\n"
     ]
    },
    {
     "name": "stderr",
     "output_type": "stream",
     "text": [
      "Week: D:  55%|████████████████████████████████████████▏                                | 33/60 [00:20<00:17,  1.52it/s]"
     ]
    },
    {
     "name": "stdout",
     "output_type": "stream",
     "text": [
      "Si94CL3D\n",
      "Saved.\n"
     ]
    },
    {
     "name": "stderr",
     "output_type": "stream",
     "text": [
      "Week: D:  62%|█████████████████████████████████████████████                            | 37/60 [00:22<00:11,  1.94it/s]"
     ]
    },
    {
     "name": "stdout",
     "output_type": "stream",
     "text": [
      "Si96CL3D\n",
      "Saved.\n"
     ]
    },
    {
     "name": "stderr",
     "output_type": "stream",
     "text": [
      "Week: D: 100%|█████████████████████████████████████████████████████████████████████████| 60/60 [00:43<00:00,  1.37it/s]\n",
      "Week: E: 100%|█████████████████████████████████████████████████████████████████████████| 60/60 [00:30<00:00,  1.95it/s]\n"
     ]
    },
    {
     "name": "stdout",
     "output_type": "stream",
     "text": [
      "- month: M\n"
     ]
    },
    {
     "name": "stderr",
     "output_type": "stream",
     "text": [
      "Week: -: 100%|█████████████████████████████████████████████████████████████████████████| 60/60 [00:32<00:00,  1.87it/s]\n",
      "Week: A: 100%|█████████████████████████████████████████████████████████████████████████| 60/60 [00:34<00:00,  1.73it/s]\n",
      "Week: B: 100%|█████████████████████████████████████████████████████████████████████████| 60/60 [00:41<00:00,  1.45it/s]\n",
      "Week: C:  28%|████████████████████▋                                                    | 17/60 [00:33<05:11,  7.24s/it]"
     ]
    },
    {
     "name": "stdout",
     "output_type": "stream",
     "text": [
      "Произошла ошибка типа: ConnectTimeout\n"
     ]
    },
    {
     "name": "stderr",
     "output_type": "stream",
     "text": [
      "Week: C: 100%|█████████████████████████████████████████████████████████████████████████| 60/60 [00:54<00:00,  1.10it/s]\n",
      "Week: D: 100%|█████████████████████████████████████████████████████████████████████████| 60/60 [00:24<00:00,  2.41it/s]\n",
      "Week: E: 100%|█████████████████████████████████████████████████████████████████████████| 60/60 [00:31<00:00,  1.91it/s]\n"
     ]
    },
    {
     "name": "stdout",
     "output_type": "stream",
     "text": [
      "- month: N\n"
     ]
    },
    {
     "name": "stderr",
     "output_type": "stream",
     "text": [
      "Week: -: 100%|█████████████████████████████████████████████████████████████████████████| 60/60 [00:28<00:00,  2.09it/s]\n",
      "Week: A: 100%|█████████████████████████████████████████████████████████████████████████| 60/60 [00:20<00:00,  2.97it/s]\n",
      "Week: B: 100%|█████████████████████████████████████████████████████████████████████████| 60/60 [00:22<00:00,  2.69it/s]\n",
      "Week: C: 100%|█████████████████████████████████████████████████████████████████████████| 60/60 [00:20<00:00,  2.93it/s]\n",
      "Week: D: 100%|█████████████████████████████████████████████████████████████████████████| 60/60 [00:32<00:00,  1.87it/s]\n",
      "Week: E: 100%|█████████████████████████████████████████████████████████████████████████| 60/60 [00:34<00:00,  1.76it/s]\n"
     ]
    },
    {
     "name": "stdout",
     "output_type": "stream",
     "text": [
      "- month: O\n"
     ]
    },
    {
     "name": "stderr",
     "output_type": "stream",
     "text": [
      "Week: -: 100%|█████████████████████████████████████████████████████████████████████████| 60/60 [00:21<00:00,  2.85it/s]\n",
      "Week: A: 100%|█████████████████████████████████████████████████████████████████████████| 60/60 [00:20<00:00,  2.97it/s]\n",
      "Week: B: 100%|█████████████████████████████████████████████████████████████████████████| 60/60 [00:21<00:00,  2.81it/s]\n",
      "Week: C: 100%|█████████████████████████████████████████████████████████████████████████| 60/60 [00:19<00:00,  3.07it/s]\n",
      "Week: D: 100%|█████████████████████████████████████████████████████████████████████████| 60/60 [00:19<00:00,  3.11it/s]\n",
      "Week: E: 100%|█████████████████████████████████████████████████████████████████████████| 60/60 [00:20<00:00,  2.99it/s]\n"
     ]
    },
    {
     "name": "stdout",
     "output_type": "stream",
     "text": [
      "- month: P\n"
     ]
    },
    {
     "name": "stderr",
     "output_type": "stream",
     "text": [
      "Week: -: 100%|█████████████████████████████████████████████████████████████████████████| 60/60 [00:19<00:00,  3.03it/s]\n",
      "Week: A: 100%|█████████████████████████████████████████████████████████████████████████| 60/60 [00:24<00:00,  2.44it/s]\n",
      "Week: B: 100%|█████████████████████████████████████████████████████████████████████████| 60/60 [00:19<00:00,  3.11it/s]\n",
      "Week: C: 100%|█████████████████████████████████████████████████████████████████████████| 60/60 [00:21<00:00,  2.84it/s]\n",
      "Week: D: 100%|█████████████████████████████████████████████████████████████████████████| 60/60 [00:19<00:00,  3.09it/s]\n",
      "Week: E: 100%|█████████████████████████████████████████████████████████████████████████| 60/60 [00:19<00:00,  3.14it/s]\n"
     ]
    },
    {
     "name": "stdout",
     "output_type": "stream",
     "text": [
      "- month: Q\n"
     ]
    },
    {
     "name": "stderr",
     "output_type": "stream",
     "text": [
      "Week: -: 100%|█████████████████████████████████████████████████████████████████████████| 60/60 [00:22<00:00,  2.66it/s]\n",
      "Week: A: 100%|█████████████████████████████████████████████████████████████████████████| 60/60 [00:20<00:00,  2.91it/s]\n",
      "Week: B: 100%|█████████████████████████████████████████████████████████████████████████| 60/60 [00:20<00:00,  2.96it/s]\n",
      "Week: C: 100%|█████████████████████████████████████████████████████████████████████████| 60/60 [00:20<00:00,  2.89it/s]\n",
      "Week: D: 100%|█████████████████████████████████████████████████████████████████████████| 60/60 [00:21<00:00,  2.80it/s]\n",
      "Week: E: 100%|█████████████████████████████████████████████████████████████████████████| 60/60 [00:23<00:00,  2.56it/s]\n"
     ]
    },
    {
     "name": "stdout",
     "output_type": "stream",
     "text": [
      "- month: R\n"
     ]
    },
    {
     "name": "stderr",
     "output_type": "stream",
     "text": [
      "Week: -: 100%|█████████████████████████████████████████████████████████████████████████| 60/60 [00:23<00:00,  2.56it/s]\n",
      "Week: A: 100%|█████████████████████████████████████████████████████████████████████████| 60/60 [00:24<00:00,  2.44it/s]\n",
      "Week: B: 100%|█████████████████████████████████████████████████████████████████████████| 60/60 [00:26<00:00,  2.26it/s]\n",
      "Week: C: 100%|█████████████████████████████████████████████████████████████████████████| 60/60 [00:24<00:00,  2.41it/s]\n",
      "Week: D: 100%|█████████████████████████████████████████████████████████████████████████| 60/60 [00:23<00:00,  2.51it/s]\n",
      "Week: E:  37%|██████████████████████████▊                                              | 22/60 [00:29<04:11,  6.62s/it]"
     ]
    },
    {
     "name": "stdout",
     "output_type": "stream",
     "text": [
      "Произошла ошибка типа: ConnectTimeout\n"
     ]
    },
    {
     "name": "stderr",
     "output_type": "stream",
     "text": [
      "Week: E: 100%|█████████████████████████████████████████████████████████████████████████| 60/60 [00:48<00:00,  1.25it/s]\n"
     ]
    },
    {
     "name": "stdout",
     "output_type": "stream",
     "text": [
      "- month: S\n"
     ]
    },
    {
     "name": "stderr",
     "output_type": "stream",
     "text": [
      "Week: -: 100%|█████████████████████████████████████████████████████████████████████████| 60/60 [00:31<00:00,  1.91it/s]\n",
      "Week: A: 100%|█████████████████████████████████████████████████████████████████████████| 60/60 [00:31<00:00,  1.91it/s]\n",
      "Week: B: 100%|█████████████████████████████████████████████████████████████████████████| 60/60 [00:37<00:00,  1.59it/s]\n",
      "Week: C: 100%|█████████████████████████████████████████████████████████████████████████| 60/60 [00:32<00:00,  1.84it/s]\n",
      "Week: D: 100%|█████████████████████████████████████████████████████████████████████████| 60/60 [00:33<00:00,  1.79it/s]\n",
      "Week: E: 100%|█████████████████████████████████████████████████████████████████████████| 60/60 [00:33<00:00,  1.80it/s]\n"
     ]
    },
    {
     "name": "stdout",
     "output_type": "stream",
     "text": [
      "- month: T\n"
     ]
    },
    {
     "name": "stderr",
     "output_type": "stream",
     "text": [
      "Week: -:  48%|███████████████████████████████████▎                                     | 29/60 [00:15<00:19,  1.63it/s]"
     ]
    },
    {
     "name": "stdout",
     "output_type": "stream",
     "text": [
      "Si92CT3\n",
      "Saved.\n"
     ]
    },
    {
     "name": "stderr",
     "output_type": "stream",
     "text": [
      "Week: -: 100%|█████████████████████████████████████████████████████████████████████████| 60/60 [00:32<00:00,  1.82it/s]\n",
      "Week: A: 100%|█████████████████████████████████████████████████████████████████████████| 60/60 [00:32<00:00,  1.86it/s]\n",
      "Week: B: 100%|█████████████████████████████████████████████████████████████████████████| 60/60 [00:33<00:00,  1.78it/s]\n",
      "Week: C: 100%|█████████████████████████████████████████████████████████████████████████| 60/60 [00:45<00:00,  1.32it/s]\n",
      "Week: D:  47%|██████████████████████████████████                                       | 28/60 [00:36<03:33,  6.67s/it]"
     ]
    },
    {
     "name": "stdout",
     "output_type": "stream",
     "text": [
      "Произошла ошибка типа: ConnectTimeout\n"
     ]
    },
    {
     "name": "stderr",
     "output_type": "stream",
     "text": [
      "Week: D: 100%|█████████████████████████████████████████████████████████████████████████| 60/60 [00:58<00:00,  1.02it/s]\n",
      "Week: E:  62%|█████████████████████████████████████████████                            | 37/60 [00:23<00:16,  1.40it/s]"
     ]
    },
    {
     "name": "stdout",
     "output_type": "stream",
     "text": [
      "Si96CT3E\n",
      "Saved.\n"
     ]
    },
    {
     "name": "stderr",
     "output_type": "stream",
     "text": [
      "Week: E:  68%|█████████████████████████████████████████████████▉                       | 41/60 [00:27<00:19,  1.01s/it]"
     ]
    },
    {
     "name": "stdout",
     "output_type": "stream",
     "text": [
      "Si98CT3E\n",
      "Saved.\n"
     ]
    },
    {
     "name": "stderr",
     "output_type": "stream",
     "text": [
      "Week: E: 100%|█████████████████████████████████████████████████████████████████████████| 60/60 [00:40<00:00,  1.49it/s]\n"
     ]
    },
    {
     "name": "stdout",
     "output_type": "stream",
     "text": [
      "- month: U\n"
     ]
    },
    {
     "name": "stderr",
     "output_type": "stream",
     "text": [
      "Week: -:  62%|█████████████████████████████████████████████                            | 37/60 [00:25<00:14,  1.54it/s]"
     ]
    },
    {
     "name": "stdout",
     "output_type": "stream",
     "text": [
      "Si96CU3\n",
      "Saved.\n"
     ]
    },
    {
     "name": "stderr",
     "output_type": "stream",
     "text": [
      "Week: -:  68%|█████████████████████████████████████████████████▉                       | 41/60 [00:31<00:25,  1.35s/it]"
     ]
    },
    {
     "name": "stdout",
     "output_type": "stream",
     "text": [
      "Si98CU3\n",
      "Saved.\n"
     ]
    },
    {
     "name": "stderr",
     "output_type": "stream",
     "text": [
      "Week: -:  75%|██████████████████████████████████████████████████████▊                  | 45/60 [00:33<00:13,  1.14it/s]"
     ]
    },
    {
     "name": "stdout",
     "output_type": "stream",
     "text": [
      "Si100CU3\n",
      "Saved.\n"
     ]
    },
    {
     "name": "stderr",
     "output_type": "stream",
     "text": [
      "Week: -: 100%|█████████████████████████████████████████████████████████████████████████| 60/60 [00:46<00:00,  1.30it/s]\n",
      "Week: A:  10%|███████▍                                                                  | 6/60 [00:24<06:50,  7.59s/it]"
     ]
    },
    {
     "name": "stdout",
     "output_type": "stream",
     "text": [
      "Произошла ошибка типа: ConnectTimeout\n"
     ]
    },
    {
     "name": "stderr",
     "output_type": "stream",
     "text": [
      "Week: A:  55%|████████████████████████████████████████▏                                | 33/60 [00:44<00:19,  1.41it/s]"
     ]
    },
    {
     "name": "stdout",
     "output_type": "stream",
     "text": [
      "Si94CU3A\n",
      "Saved.\n"
     ]
    },
    {
     "name": "stderr",
     "output_type": "stream",
     "text": [
      "Week: A:  62%|█████████████████████████████████████████████                            | 37/60 [00:47<00:15,  1.47it/s]"
     ]
    },
    {
     "name": "stdout",
     "output_type": "stream",
     "text": [
      "Si96CU3A\n",
      "Saved.\n"
     ]
    },
    {
     "name": "stderr",
     "output_type": "stream",
     "text": [
      "Week: A: 100%|█████████████████████████████████████████████████████████████████████████| 60/60 [01:01<00:00,  1.02s/it]\n",
      "Week: B:  55%|████████████████████████████████████████▏                                | 33/60 [00:14<00:12,  2.11it/s]"
     ]
    },
    {
     "name": "stdout",
     "output_type": "stream",
     "text": [
      "Si94CU3B\n",
      "Saved.\n"
     ]
    },
    {
     "name": "stderr",
     "output_type": "stream",
     "text": [
      "Week: B:  62%|█████████████████████████████████████████████                            | 37/60 [00:16<00:10,  2.09it/s]"
     ]
    },
    {
     "name": "stdout",
     "output_type": "stream",
     "text": [
      "Si96CU3B\n",
      "Saved.\n"
     ]
    },
    {
     "name": "stderr",
     "output_type": "stream",
     "text": [
      "Week: B: 100%|█████████████████████████████████████████████████████████████████████████| 60/60 [00:25<00:00,  2.35it/s]\n",
      "Week: C: 100%|█████████████████████████████████████████████████████████████████████████| 60/60 [00:23<00:00,  2.53it/s]\n",
      "Week: D:  62%|█████████████████████████████████████████████                            | 37/60 [00:15<00:10,  2.14it/s]"
     ]
    },
    {
     "name": "stdout",
     "output_type": "stream",
     "text": [
      "Si96CU3D\n",
      "Saved.\n"
     ]
    },
    {
     "name": "stderr",
     "output_type": "stream",
     "text": [
      "Week: D:  68%|█████████████████████████████████████████████████▉                       | 41/60 [00:16<00:08,  2.18it/s]"
     ]
    },
    {
     "name": "stdout",
     "output_type": "stream",
     "text": [
      "Si98CU3D\n",
      "Saved.\n"
     ]
    },
    {
     "name": "stderr",
     "output_type": "stream",
     "text": [
      "Week: D:  82%|███████████████████████████████████████████████████████████▌             | 49/60 [00:20<00:04,  2.31it/s]"
     ]
    },
    {
     "name": "stdout",
     "output_type": "stream",
     "text": [
      "Si102CU3D\n",
      "Saved.\n"
     ]
    },
    {
     "name": "stderr",
     "output_type": "stream",
     "text": [
      "Week: D:  88%|████████████████████████████████████████████████████████████████▍        | 53/60 [00:22<00:03,  2.06it/s]"
     ]
    },
    {
     "name": "stdout",
     "output_type": "stream",
     "text": [
      "Si104CU3D\n",
      "Saved.\n"
     ]
    },
    {
     "name": "stderr",
     "output_type": "stream",
     "text": [
      "Week: D: 100%|█████████████████████████████████████████████████████████████████████████| 60/60 [00:25<00:00,  2.35it/s]\n",
      "Week: E: 100%|█████████████████████████████████████████████████████████████████████████| 60/60 [00:24<00:00,  2.42it/s]\n"
     ]
    },
    {
     "name": "stdout",
     "output_type": "stream",
     "text": [
      "- month: V\n"
     ]
    },
    {
     "name": "stderr",
     "output_type": "stream",
     "text": [
      "Week: -:  48%|███████████████████████████████████▎                                     | 29/60 [00:12<00:14,  2.19it/s]"
     ]
    },
    {
     "name": "stdout",
     "output_type": "stream",
     "text": [
      "Si92CV3\n",
      "Saved.\n"
     ]
    },
    {
     "name": "stderr",
     "output_type": "stream",
     "text": [
      "Week: -:  55%|████████████████████████████████████████▏                                | 33/60 [00:14<00:11,  2.25it/s]"
     ]
    },
    {
     "name": "stdout",
     "output_type": "stream",
     "text": [
      "Si94CV3\n",
      "Saved.\n"
     ]
    },
    {
     "name": "stderr",
     "output_type": "stream",
     "text": [
      "Week: -:  62%|█████████████████████████████████████████████                            | 37/60 [00:16<00:10,  2.21it/s]"
     ]
    },
    {
     "name": "stdout",
     "output_type": "stream",
     "text": [
      "Si96CV3\n",
      "Saved.\n"
     ]
    },
    {
     "name": "stderr",
     "output_type": "stream",
     "text": [
      "Week: -:  68%|█████████████████████████████████████████████████▉                       | 41/60 [00:17<00:08,  2.19it/s]"
     ]
    },
    {
     "name": "stdout",
     "output_type": "stream",
     "text": [
      "Si98CV3\n",
      "Saved.\n"
     ]
    },
    {
     "name": "stderr",
     "output_type": "stream",
     "text": [
      "Week: -:  75%|██████████████████████████████████████████████████████▊                  | 45/60 [00:19<00:06,  2.38it/s]"
     ]
    },
    {
     "name": "stdout",
     "output_type": "stream",
     "text": [
      "Si100CV3\n",
      "Saved.\n"
     ]
    },
    {
     "name": "stderr",
     "output_type": "stream",
     "text": [
      "Week: -:  82%|███████████████████████████████████████████████████████████▌             | 49/60 [00:21<00:05,  2.02it/s]"
     ]
    },
    {
     "name": "stdout",
     "output_type": "stream",
     "text": [
      "Si102CV3\n",
      "Saved.\n"
     ]
    },
    {
     "name": "stderr",
     "output_type": "stream",
     "text": [
      "Week: -:  88%|████████████████████████████████████████████████████████████████▍        | 53/60 [00:24<00:06,  1.10it/s]"
     ]
    },
    {
     "name": "stdout",
     "output_type": "stream",
     "text": [
      "Si104CV3\n",
      "Saved.\n"
     ]
    },
    {
     "name": "stderr",
     "output_type": "stream",
     "text": [
      "Week: -:  95%|█████████████████████████████████████████████████████████████████████▎   | 57/60 [00:26<00:01,  1.83it/s]"
     ]
    },
    {
     "name": "stdout",
     "output_type": "stream",
     "text": [
      "Si106CV3\n",
      "Saved.\n"
     ]
    },
    {
     "name": "stderr",
     "output_type": "stream",
     "text": [
      "Week: -: 100%|█████████████████████████████████████████████████████████████████████████| 60/60 [00:28<00:00,  2.14it/s]\n",
      "Week: A:  95%|█████████████████████████████████████████████████████████████████████▎   | 57/60 [00:24<00:01,  2.27it/s]"
     ]
    },
    {
     "name": "stdout",
     "output_type": "stream",
     "text": [
      "Si106CV3A\n",
      "Saved.\n"
     ]
    },
    {
     "name": "stderr",
     "output_type": "stream",
     "text": [
      "Week: A: 100%|█████████████████████████████████████████████████████████████████████████| 60/60 [00:25<00:00,  2.34it/s]\n",
      "Week: B:  42%|██████████████████████████████▍                                          | 25/60 [00:10<00:15,  2.28it/s]"
     ]
    },
    {
     "name": "stdout",
     "output_type": "stream",
     "text": [
      "Si90CV3B\n",
      "Saved.\n"
     ]
    },
    {
     "name": "stderr",
     "output_type": "stream",
     "text": [
      "Week: B:  62%|█████████████████████████████████████████████                            | 37/60 [00:17<00:12,  1.87it/s]"
     ]
    },
    {
     "name": "stdout",
     "output_type": "stream",
     "text": [
      "Si96CV3B\n",
      "Saved.\n"
     ]
    },
    {
     "name": "stderr",
     "output_type": "stream",
     "text": [
      "Week: B:  68%|█████████████████████████████████████████████████▉                       | 41/60 [00:18<00:09,  2.00it/s]"
     ]
    },
    {
     "name": "stdout",
     "output_type": "stream",
     "text": [
      "Si98CV3B\n",
      "Saved.\n"
     ]
    },
    {
     "name": "stderr",
     "output_type": "stream",
     "text": [
      "Week: B:  75%|██████████████████████████████████████████████████████▊                  | 45/60 [00:20<00:07,  2.11it/s]"
     ]
    },
    {
     "name": "stdout",
     "output_type": "stream",
     "text": [
      "Si100CV3B\n",
      "Saved.\n"
     ]
    },
    {
     "name": "stderr",
     "output_type": "stream",
     "text": [
      "Week: B:  82%|███████████████████████████████████████████████████████████▌             | 49/60 [00:22<00:05,  2.14it/s]"
     ]
    },
    {
     "name": "stdout",
     "output_type": "stream",
     "text": [
      "Si102CV3B\n",
      "Saved.\n"
     ]
    },
    {
     "name": "stderr",
     "output_type": "stream",
     "text": [
      "Week: B:  88%|████████████████████████████████████████████████████████████████▍        | 53/60 [00:24<00:02,  2.39it/s]"
     ]
    },
    {
     "name": "stdout",
     "output_type": "stream",
     "text": [
      "Si104CV3B\n",
      "Saved.\n"
     ]
    },
    {
     "name": "stderr",
     "output_type": "stream",
     "text": [
      "Week: B: 100%|█████████████████████████████████████████████████████████████████████████| 60/60 [00:27<00:00,  2.18it/s]\n",
      "Week: C:  43%|███████████████████████████████▋                                         | 26/60 [00:31<03:45,  6.62s/it]"
     ]
    },
    {
     "name": "stdout",
     "output_type": "stream",
     "text": [
      "Произошла ошибка типа: ConnectTimeout\n"
     ]
    },
    {
     "name": "stderr",
     "output_type": "stream",
     "text": [
      "Week: C: 100%|█████████████████████████████████████████████████████████████████████████| 60/60 [00:45<00:00,  1.32it/s]\n",
      "Week: D:  42%|██████████████████████████████▍                                          | 25/60 [00:09<00:17,  2.06it/s]"
     ]
    },
    {
     "name": "stdout",
     "output_type": "stream",
     "text": [
      "Si90CV3D\n",
      "Saved.\n"
     ]
    },
    {
     "name": "stderr",
     "output_type": "stream",
     "text": [
      "Week: D:  48%|███████████████████████████████████▎                                     | 29/60 [00:11<00:14,  2.10it/s]"
     ]
    },
    {
     "name": "stdout",
     "output_type": "stream",
     "text": [
      "Si92CV3D\n",
      "Saved.\n"
     ]
    },
    {
     "name": "stderr",
     "output_type": "stream",
     "text": [
      "Week: D:  55%|████████████████████████████████████████▏                                | 33/60 [00:13<00:12,  2.16it/s]"
     ]
    },
    {
     "name": "stdout",
     "output_type": "stream",
     "text": [
      "Si94CV3D\n",
      "Saved.\n"
     ]
    },
    {
     "name": "stderr",
     "output_type": "stream",
     "text": [
      "Week: D:  62%|█████████████████████████████████████████████                            | 37/60 [00:14<00:10,  2.22it/s]"
     ]
    },
    {
     "name": "stdout",
     "output_type": "stream",
     "text": [
      "Si96CV3D\n",
      "Saved.\n"
     ]
    },
    {
     "name": "stderr",
     "output_type": "stream",
     "text": [
      "Week: D:  68%|█████████████████████████████████████████████████▉                       | 41/60 [00:16<00:07,  2.42it/s]"
     ]
    },
    {
     "name": "stdout",
     "output_type": "stream",
     "text": [
      "Si98CV3D\n",
      "Saved.\n"
     ]
    },
    {
     "name": "stderr",
     "output_type": "stream",
     "text": [
      "Week: D:  75%|██████████████████████████████████████████████████████▊                  | 45/60 [00:17<00:06,  2.41it/s]"
     ]
    },
    {
     "name": "stdout",
     "output_type": "stream",
     "text": [
      "Si100CV3D\n",
      "Saved.\n"
     ]
    },
    {
     "name": "stderr",
     "output_type": "stream",
     "text": [
      "Week: D:  82%|███████████████████████████████████████████████████████████▌             | 49/60 [00:19<00:05,  2.09it/s]"
     ]
    },
    {
     "name": "stdout",
     "output_type": "stream",
     "text": [
      "Si102CV3D\n",
      "Saved.\n"
     ]
    },
    {
     "name": "stderr",
     "output_type": "stream",
     "text": [
      "Week: D:  88%|████████████████████████████████████████████████████████████████▍        | 53/60 [00:21<00:02,  2.36it/s]"
     ]
    },
    {
     "name": "stdout",
     "output_type": "stream",
     "text": [
      "Si104CV3D\n",
      "Saved.\n"
     ]
    },
    {
     "name": "stderr",
     "output_type": "stream",
     "text": [
      "Week: D:  95%|█████████████████████████████████████████████████████████████████████▎   | 57/60 [00:22<00:01,  2.60it/s]"
     ]
    },
    {
     "name": "stdout",
     "output_type": "stream",
     "text": [
      "Si106CV3D\n",
      "Saved.\n"
     ]
    },
    {
     "name": "stderr",
     "output_type": "stream",
     "text": [
      "Week: D: 100%|█████████████████████████████████████████████████████████████████████████| 60/60 [00:23<00:00,  2.54it/s]\n",
      "Week: E: 100%|█████████████████████████████████████████████████████████████████████████| 60/60 [00:22<00:00,  2.70it/s]\n"
     ]
    },
    {
     "name": "stdout",
     "output_type": "stream",
     "text": [
      "- month: W\n"
     ]
    },
    {
     "name": "stderr",
     "output_type": "stream",
     "text": [
      "Week: -:   8%|██████▏                                                                   | 5/60 [00:02<00:24,  2.26it/s]"
     ]
    },
    {
     "name": "stdout",
     "output_type": "stream",
     "text": [
      "Si80CW3\n",
      "Saved.\n"
     ]
    },
    {
     "name": "stderr",
     "output_type": "stream",
     "text": [
      "Week: -:  15%|███████████                                                               | 9/60 [00:03<00:21,  2.36it/s]"
     ]
    },
    {
     "name": "stdout",
     "output_type": "stream",
     "text": [
      "Si82CW3\n",
      "Saved.\n"
     ]
    },
    {
     "name": "stderr",
     "output_type": "stream",
     "text": [
      "Week: -:  22%|███████████████▊                                                         | 13/60 [00:05<00:19,  2.43it/s]"
     ]
    },
    {
     "name": "stdout",
     "output_type": "stream",
     "text": [
      "Si84CW3\n",
      "Saved.\n"
     ]
    },
    {
     "name": "stderr",
     "output_type": "stream",
     "text": [
      "Week: -:  28%|████████████████████▋                                                    | 17/60 [00:07<00:17,  2.46it/s]"
     ]
    },
    {
     "name": "stdout",
     "output_type": "stream",
     "text": [
      "Si86CW3\n",
      "Saved.\n"
     ]
    },
    {
     "name": "stderr",
     "output_type": "stream",
     "text": [
      "Week: -:  35%|█████████████████████████▌                                               | 21/60 [00:08<00:16,  2.38it/s]"
     ]
    },
    {
     "name": "stdout",
     "output_type": "stream",
     "text": [
      "Si88CW3\n",
      "Saved.\n"
     ]
    },
    {
     "name": "stderr",
     "output_type": "stream",
     "text": [
      "Week: -:  42%|██████████████████████████████▍                                          | 25/60 [00:10<00:16,  2.16it/s]"
     ]
    },
    {
     "name": "stdout",
     "output_type": "stream",
     "text": [
      "Si90CW3\n",
      "Saved.\n"
     ]
    },
    {
     "name": "stderr",
     "output_type": "stream",
     "text": [
      "Week: -:  48%|███████████████████████████████████▎                                     | 29/60 [00:12<00:14,  2.17it/s]"
     ]
    },
    {
     "name": "stdout",
     "output_type": "stream",
     "text": [
      "Si92CW3\n",
      "Saved.\n"
     ]
    },
    {
     "name": "stderr",
     "output_type": "stream",
     "text": [
      "Week: -:  55%|████████████████████████████████████████▏                                | 33/60 [00:13<00:11,  2.37it/s]"
     ]
    },
    {
     "name": "stdout",
     "output_type": "stream",
     "text": [
      "Si94CW3\n",
      "Saved.\n"
     ]
    },
    {
     "name": "stderr",
     "output_type": "stream",
     "text": [
      "Week: -:  62%|█████████████████████████████████████████████                            | 37/60 [00:15<00:11,  1.96it/s]"
     ]
    },
    {
     "name": "stdout",
     "output_type": "stream",
     "text": [
      "Si96CW3\n",
      "Saved.\n"
     ]
    },
    {
     "name": "stderr",
     "output_type": "stream",
     "text": [
      "Week: -:  75%|██████████████████████████████████████████████████████▊                  | 45/60 [00:18<00:05,  2.57it/s]"
     ]
    },
    {
     "name": "stdout",
     "output_type": "stream",
     "text": [
      "Si100CW3\n",
      "Saved.\n"
     ]
    },
    {
     "name": "stderr",
     "output_type": "stream",
     "text": [
      "Week: -:  88%|████████████████████████████████████████████████████████████████▍        | 53/60 [00:22<00:02,  2.44it/s]"
     ]
    },
    {
     "name": "stdout",
     "output_type": "stream",
     "text": [
      "Si104CW3\n",
      "Saved.\n"
     ]
    },
    {
     "name": "stderr",
     "output_type": "stream",
     "text": [
      "Week: -:  95%|█████████████████████████████████████████████████████████████████████▎   | 57/60 [00:23<00:01,  2.24it/s]"
     ]
    },
    {
     "name": "stdout",
     "output_type": "stream",
     "text": [
      "Si106CW3\n",
      "Saved.\n"
     ]
    },
    {
     "name": "stderr",
     "output_type": "stream",
     "text": [
      "Week: -: 100%|█████████████████████████████████████████████████████████████████████████| 60/60 [00:24<00:00,  2.40it/s]\n",
      "Week: A:  35%|█████████████████████████▌                                               | 21/60 [00:08<00:15,  2.46it/s]"
     ]
    },
    {
     "name": "stdout",
     "output_type": "stream",
     "text": [
      "Si88CW3A\n",
      "Saved.\n"
     ]
    },
    {
     "name": "stderr",
     "output_type": "stream",
     "text": [
      "Week: A:  42%|██████████████████████████████▍                                          | 25/60 [00:10<00:16,  2.16it/s]"
     ]
    },
    {
     "name": "stdout",
     "output_type": "stream",
     "text": [
      "Si90CW3A\n",
      "Saved.\n"
     ]
    },
    {
     "name": "stderr",
     "output_type": "stream",
     "text": [
      "Week: A:  48%|███████████████████████████████████▎                                     | 29/60 [00:12<00:15,  2.01it/s]"
     ]
    },
    {
     "name": "stdout",
     "output_type": "stream",
     "text": [
      "Si92CW3A\n",
      "Saved.\n"
     ]
    },
    {
     "name": "stderr",
     "output_type": "stream",
     "text": [
      "Week: A:  55%|████████████████████████████████████████▏                                | 33/60 [00:13<00:12,  2.11it/s]"
     ]
    },
    {
     "name": "stdout",
     "output_type": "stream",
     "text": [
      "Si94CW3A\n",
      "Saved.\n"
     ]
    },
    {
     "name": "stderr",
     "output_type": "stream",
     "text": [
      "Week: A:  62%|█████████████████████████████████████████████                            | 37/60 [00:16<00:12,  1.82it/s]"
     ]
    },
    {
     "name": "stdout",
     "output_type": "stream",
     "text": [
      "Si96CW3A\n",
      "Saved.\n"
     ]
    },
    {
     "name": "stderr",
     "output_type": "stream",
     "text": [
      "Week: A:  68%|█████████████████████████████████████████████████▉                       | 41/60 [00:18<00:12,  1.51it/s]"
     ]
    },
    {
     "name": "stdout",
     "output_type": "stream",
     "text": [
      "Si98CW3A\n",
      "Saved.\n"
     ]
    },
    {
     "name": "stderr",
     "output_type": "stream",
     "text": [
      "Week: A:  75%|██████████████████████████████████████████████████████▊                  | 45/60 [00:20<00:08,  1.81it/s]"
     ]
    },
    {
     "name": "stdout",
     "output_type": "stream",
     "text": [
      "Si100CW3A\n",
      "Saved.\n"
     ]
    },
    {
     "name": "stderr",
     "output_type": "stream",
     "text": [
      "Week: A:  82%|███████████████████████████████████████████████████████████▌             | 49/60 [00:23<00:07,  1.53it/s]"
     ]
    },
    {
     "name": "stdout",
     "output_type": "stream",
     "text": [
      "Si102CW3A\n",
      "Saved.\n"
     ]
    },
    {
     "name": "stderr",
     "output_type": "stream",
     "text": [
      "Week: A:  88%|████████████████████████████████████████████████████████████████▍        | 53/60 [00:25<00:03,  2.01it/s]"
     ]
    },
    {
     "name": "stdout",
     "output_type": "stream",
     "text": [
      "Si104CW3A\n",
      "Saved.\n"
     ]
    },
    {
     "name": "stderr",
     "output_type": "stream",
     "text": [
      "Week: A:  95%|█████████████████████████████████████████████████████████████████████▎   | 57/60 [00:27<00:01,  1.52it/s]"
     ]
    },
    {
     "name": "stdout",
     "output_type": "stream",
     "text": [
      "Si106CW3A\n",
      "Saved.\n"
     ]
    },
    {
     "name": "stderr",
     "output_type": "stream",
     "text": [
      "Week: A: 100%|█████████████████████████████████████████████████████████████████████████| 60/60 [00:29<00:00,  2.06it/s]\n",
      "Week: B:  28%|████████████████████▋                                                    | 17/60 [00:07<00:20,  2.10it/s]"
     ]
    },
    {
     "name": "stdout",
     "output_type": "stream",
     "text": [
      "Si86CW3B\n",
      "Saved.\n"
     ]
    },
    {
     "name": "stderr",
     "output_type": "stream",
     "text": [
      "Week: B:  35%|█████████████████████████▌                                               | 21/60 [00:09<00:17,  2.17it/s]"
     ]
    },
    {
     "name": "stdout",
     "output_type": "stream",
     "text": [
      "Si88CW3B\n",
      "Saved.\n"
     ]
    },
    {
     "name": "stderr",
     "output_type": "stream",
     "text": [
      "Week: B:  42%|██████████████████████████████▍                                          | 25/60 [00:10<00:14,  2.34it/s]"
     ]
    },
    {
     "name": "stdout",
     "output_type": "stream",
     "text": [
      "Si90CW3B\n",
      "Saved.\n"
     ]
    },
    {
     "name": "stderr",
     "output_type": "stream",
     "text": [
      "Week: B:  48%|███████████████████████████████████▎                                     | 29/60 [00:12<00:15,  2.04it/s]"
     ]
    },
    {
     "name": "stdout",
     "output_type": "stream",
     "text": [
      "Si92CW3B\n",
      "Saved.\n"
     ]
    },
    {
     "name": "stderr",
     "output_type": "stream",
     "text": [
      "Week: B:  55%|████████████████████████████████████████▏                                | 33/60 [00:14<00:11,  2.29it/s]"
     ]
    },
    {
     "name": "stdout",
     "output_type": "stream",
     "text": [
      "Si94CW3B\n",
      "Saved.\n"
     ]
    },
    {
     "name": "stderr",
     "output_type": "stream",
     "text": [
      "Week: B:  62%|█████████████████████████████████████████████                            | 37/60 [00:15<00:09,  2.42it/s]"
     ]
    },
    {
     "name": "stdout",
     "output_type": "stream",
     "text": [
      "Si96CW3B\n",
      "Saved.\n"
     ]
    },
    {
     "name": "stderr",
     "output_type": "stream",
     "text": [
      "Week: B:  68%|█████████████████████████████████████████████████▉                       | 41/60 [00:17<00:08,  2.27it/s]"
     ]
    },
    {
     "name": "stdout",
     "output_type": "stream",
     "text": [
      "Si98CW3B\n",
      "Saved.\n"
     ]
    },
    {
     "name": "stderr",
     "output_type": "stream",
     "text": [
      "Week: B:  75%|██████████████████████████████████████████████████████▊                  | 45/60 [00:19<00:05,  2.55it/s]"
     ]
    },
    {
     "name": "stdout",
     "output_type": "stream",
     "text": [
      "Si100CW3B\n",
      "Saved.\n"
     ]
    },
    {
     "name": "stderr",
     "output_type": "stream",
     "text": [
      "Week: B:  88%|████████████████████████████████████████████████████████████████▍        | 53/60 [00:22<00:02,  2.45it/s]"
     ]
    },
    {
     "name": "stdout",
     "output_type": "stream",
     "text": [
      "Si104CW3B\n",
      "Saved.\n"
     ]
    },
    {
     "name": "stderr",
     "output_type": "stream",
     "text": [
      "Week: B: 100%|█████████████████████████████████████████████████████████████████████████| 60/60 [00:24<00:00,  2.41it/s]\n",
      "Week: C: 100%|█████████████████████████████████████████████████████████████████████████| 60/60 [00:24<00:00,  2.42it/s]\n",
      "Week: D:  28%|████████████████████▋                                                    | 17/60 [00:06<00:17,  2.40it/s]"
     ]
    },
    {
     "name": "stdout",
     "output_type": "stream",
     "text": [
      "Si86CW3D\n",
      "Saved.\n"
     ]
    },
    {
     "name": "stderr",
     "output_type": "stream",
     "text": [
      "Week: D:  35%|█████████████████████████▌                                               | 21/60 [00:08<00:22,  1.75it/s]"
     ]
    },
    {
     "name": "stdout",
     "output_type": "stream",
     "text": [
      "Si88CW3D\n",
      "Saved.\n"
     ]
    },
    {
     "name": "stderr",
     "output_type": "stream",
     "text": [
      "Week: D:  42%|██████████████████████████████▍                                          | 25/60 [00:10<00:16,  2.12it/s]"
     ]
    },
    {
     "name": "stdout",
     "output_type": "stream",
     "text": [
      "Si90CW3D\n",
      "Saved.\n"
     ]
    },
    {
     "name": "stderr",
     "output_type": "stream",
     "text": [
      "Week: D:  48%|███████████████████████████████████▎                                     | 29/60 [00:12<00:15,  2.00it/s]"
     ]
    },
    {
     "name": "stdout",
     "output_type": "stream",
     "text": [
      "Si92CW3D\n",
      "Saved.\n"
     ]
    },
    {
     "name": "stderr",
     "output_type": "stream",
     "text": [
      "Week: D:  55%|████████████████████████████████████████▏                                | 33/60 [00:13<00:11,  2.43it/s]"
     ]
    },
    {
     "name": "stdout",
     "output_type": "stream",
     "text": [
      "Si94CW3D\n",
      "Saved.\n"
     ]
    },
    {
     "name": "stderr",
     "output_type": "stream",
     "text": [
      "Week: D:  62%|█████████████████████████████████████████████                            | 37/60 [00:15<00:10,  2.17it/s]"
     ]
    },
    {
     "name": "stdout",
     "output_type": "stream",
     "text": [
      "Si96CW3D\n",
      "Saved.\n"
     ]
    },
    {
     "name": "stderr",
     "output_type": "stream",
     "text": [
      "Week: D:  68%|█████████████████████████████████████████████████▉                       | 41/60 [00:17<00:10,  1.88it/s]"
     ]
    },
    {
     "name": "stdout",
     "output_type": "stream",
     "text": [
      "Si98CW3D\n",
      "Saved.\n"
     ]
    },
    {
     "name": "stderr",
     "output_type": "stream",
     "text": [
      "Week: D:  75%|██████████████████████████████████████████████████████▊                  | 45/60 [00:19<00:07,  2.09it/s]"
     ]
    },
    {
     "name": "stdout",
     "output_type": "stream",
     "text": [
      "Si100CW3D\n",
      "Saved.\n"
     ]
    },
    {
     "name": "stderr",
     "output_type": "stream",
     "text": [
      "Week: D:  82%|███████████████████████████████████████████████████████████▌             | 49/60 [00:21<00:04,  2.41it/s]"
     ]
    },
    {
     "name": "stdout",
     "output_type": "stream",
     "text": [
      "Si102CW3D\n",
      "Saved.\n"
     ]
    },
    {
     "name": "stderr",
     "output_type": "stream",
     "text": [
      "Week: D: 100%|█████████████████████████████████████████████████████████████████████████| 60/60 [00:25<00:00,  2.38it/s]\n",
      "Week: E:   8%|██████▏                                                                   | 5/60 [00:01<00:20,  2.70it/s]"
     ]
    },
    {
     "name": "stdout",
     "output_type": "stream",
     "text": [
      "Si80CW3E\n",
      "Saved.\n"
     ]
    },
    {
     "name": "stderr",
     "output_type": "stream",
     "text": [
      "Week: E:  15%|███████████                                                               | 9/60 [00:03<00:22,  2.22it/s]"
     ]
    },
    {
     "name": "stdout",
     "output_type": "stream",
     "text": [
      "Si82CW3E\n",
      "Saved.\n"
     ]
    },
    {
     "name": "stderr",
     "output_type": "stream",
     "text": [
      "Week: E:  22%|███████████████▊                                                         | 13/60 [00:04<00:16,  2.77it/s]"
     ]
    },
    {
     "name": "stdout",
     "output_type": "stream",
     "text": [
      "Si84CW3E\n",
      "Saved.\n"
     ]
    },
    {
     "name": "stderr",
     "output_type": "stream",
     "text": [
      "Week: E:  28%|████████████████████▋                                                    | 17/60 [00:06<00:16,  2.57it/s]"
     ]
    },
    {
     "name": "stdout",
     "output_type": "stream",
     "text": [
      "Si86CW3E\n",
      "Saved.\n"
     ]
    },
    {
     "name": "stderr",
     "output_type": "stream",
     "text": [
      "Week: E:  35%|█████████████████████████▌                                               | 21/60 [00:08<00:23,  1.64it/s]"
     ]
    },
    {
     "name": "stdout",
     "output_type": "stream",
     "text": [
      "Si88CW3E\n",
      "Saved.\n"
     ]
    },
    {
     "name": "stderr",
     "output_type": "stream",
     "text": [
      "Week: E:  42%|██████████████████████████████▍                                          | 25/60 [00:10<00:16,  2.09it/s]"
     ]
    },
    {
     "name": "stdout",
     "output_type": "stream",
     "text": [
      "Si90CW3E\n",
      "Saved.\n"
     ]
    },
    {
     "name": "stderr",
     "output_type": "stream",
     "text": [
      "Week: E:  48%|███████████████████████████████████▎                                     | 29/60 [00:12<00:14,  2.14it/s]"
     ]
    },
    {
     "name": "stdout",
     "output_type": "stream",
     "text": [
      "Si92CW3E\n",
      "Saved.\n"
     ]
    },
    {
     "name": "stderr",
     "output_type": "stream",
     "text": [
      "Week: E:  55%|████████████████████████████████████████▏                                | 33/60 [00:14<00:13,  1.98it/s]"
     ]
    },
    {
     "name": "stdout",
     "output_type": "stream",
     "text": [
      "Si94CW3E\n",
      "Saved.\n"
     ]
    },
    {
     "name": "stderr",
     "output_type": "stream",
     "text": [
      "Week: E:  62%|█████████████████████████████████████████████                            | 37/60 [00:17<00:19,  1.19it/s]"
     ]
    },
    {
     "name": "stdout",
     "output_type": "stream",
     "text": [
      "Si96CW3E\n",
      "Saved.\n"
     ]
    },
    {
     "name": "stderr",
     "output_type": "stream",
     "text": [
      "Week: E:  68%|█████████████████████████████████████████████████▉                       | 41/60 [00:18<00:09,  1.94it/s]"
     ]
    },
    {
     "name": "stdout",
     "output_type": "stream",
     "text": [
      "Si98CW3E\n",
      "Saved.\n"
     ]
    },
    {
     "name": "stderr",
     "output_type": "stream",
     "text": [
      "Week: E:  75%|██████████████████████████████████████████████████████▊                  | 45/60 [00:20<00:07,  2.11it/s]"
     ]
    },
    {
     "name": "stdout",
     "output_type": "stream",
     "text": [
      "Si100CW3E\n",
      "Saved.\n"
     ]
    },
    {
     "name": "stderr",
     "output_type": "stream",
     "text": [
      "Week: E:  82%|███████████████████████████████████████████████████████████▌             | 49/60 [00:24<00:10,  1.04it/s]"
     ]
    },
    {
     "name": "stdout",
     "output_type": "stream",
     "text": [
      "Si102CW3E\n",
      "Saved.\n"
     ]
    },
    {
     "name": "stderr",
     "output_type": "stream",
     "text": [
      "Week: E: 100%|█████████████████████████████████████████████████████████████████████████| 60/60 [00:28<00:00,  2.11it/s]\n"
     ]
    },
    {
     "name": "stdout",
     "output_type": "stream",
     "text": [
      "- month: X\n"
     ]
    },
    {
     "name": "stderr",
     "output_type": "stream",
     "text": [
      "Week: -:   8%|██████▏                                                                   | 5/60 [00:01<00:24,  2.26it/s]"
     ]
    },
    {
     "name": "stdout",
     "output_type": "stream",
     "text": [
      "Si80CX3\n",
      "Saved.\n"
     ]
    },
    {
     "name": "stderr",
     "output_type": "stream",
     "text": [
      "Week: -:  22%|███████████████▊                                                         | 13/60 [00:06<00:31,  1.50it/s]"
     ]
    },
    {
     "name": "stdout",
     "output_type": "stream",
     "text": [
      "Si84CX3\n",
      "Saved.\n"
     ]
    },
    {
     "name": "stderr",
     "output_type": "stream",
     "text": [
      "Week: -:  28%|████████████████████▋                                                    | 17/60 [00:07<00:22,  1.90it/s]"
     ]
    },
    {
     "name": "stdout",
     "output_type": "stream",
     "text": [
      "Si86CX3\n",
      "Saved.\n"
     ]
    },
    {
     "name": "stderr",
     "output_type": "stream",
     "text": [
      "Week: -:  35%|█████████████████████████▌                                               | 21/60 [00:09<00:18,  2.07it/s]"
     ]
    },
    {
     "name": "stdout",
     "output_type": "stream",
     "text": [
      "Si88CX3\n",
      "Saved.\n"
     ]
    },
    {
     "name": "stderr",
     "output_type": "stream",
     "text": [
      "Week: -:  42%|██████████████████████████████▍                                          | 25/60 [00:11<00:20,  1.69it/s]"
     ]
    },
    {
     "name": "stdout",
     "output_type": "stream",
     "text": [
      "Si90CX3\n",
      "Saved.\n"
     ]
    },
    {
     "name": "stderr",
     "output_type": "stream",
     "text": [
      "Week: -:  48%|███████████████████████████████████▎                                     | 29/60 [00:13<00:16,  1.92it/s]"
     ]
    },
    {
     "name": "stdout",
     "output_type": "stream",
     "text": [
      "Si92CX3\n",
      "Saved.\n"
     ]
    },
    {
     "name": "stderr",
     "output_type": "stream",
     "text": [
      "Week: -:  55%|████████████████████████████████████████▏                                | 33/60 [00:15<00:15,  1.75it/s]"
     ]
    },
    {
     "name": "stdout",
     "output_type": "stream",
     "text": [
      "Si94CX3\n",
      "Saved.\n"
     ]
    },
    {
     "name": "stderr",
     "output_type": "stream",
     "text": [
      "Week: -:  62%|█████████████████████████████████████████████                            | 37/60 [00:17<00:14,  1.62it/s]"
     ]
    },
    {
     "name": "stdout",
     "output_type": "stream",
     "text": [
      "Si96CX3\n",
      "Saved.\n"
     ]
    },
    {
     "name": "stderr",
     "output_type": "stream",
     "text": [
      "Week: -:  68%|█████████████████████████████████████████████████▉                       | 41/60 [00:19<00:09,  1.96it/s]"
     ]
    },
    {
     "name": "stdout",
     "output_type": "stream",
     "text": [
      "Si98CX3\n",
      "Saved.\n"
     ]
    },
    {
     "name": "stderr",
     "output_type": "stream",
     "text": [
      "Week: -:  75%|██████████████████████████████████████████████████████▊                  | 45/60 [00:21<00:06,  2.24it/s]"
     ]
    },
    {
     "name": "stdout",
     "output_type": "stream",
     "text": [
      "Si100CX3\n",
      "Saved.\n"
     ]
    },
    {
     "name": "stderr",
     "output_type": "stream",
     "text": [
      "Week: -:  82%|███████████████████████████████████████████████████████████▌             | 49/60 [00:22<00:04,  2.55it/s]"
     ]
    },
    {
     "name": "stdout",
     "output_type": "stream",
     "text": [
      "Si102CX3\n",
      "Saved.\n"
     ]
    },
    {
     "name": "stderr",
     "output_type": "stream",
     "text": [
      "Week: -:  88%|████████████████████████████████████████████████████████████████▍        | 53/60 [00:24<00:03,  2.33it/s]"
     ]
    },
    {
     "name": "stdout",
     "output_type": "stream",
     "text": [
      "Si104CX3\n",
      "Saved.\n"
     ]
    },
    {
     "name": "stderr",
     "output_type": "stream",
     "text": [
      "Week: -:  95%|█████████████████████████████████████████████████████████████████████▎   | 57/60 [00:26<00:01,  2.33it/s]"
     ]
    },
    {
     "name": "stdout",
     "output_type": "stream",
     "text": [
      "Si106CX3\n",
      "Saved.\n"
     ]
    },
    {
     "name": "stderr",
     "output_type": "stream",
     "text": [
      "Week: -: 100%|█████████████████████████████████████████████████████████████████████████| 60/60 [00:27<00:00,  2.18it/s]\n",
      "Week: A:  28%|████████████████████▋                                                    | 17/60 [00:06<00:19,  2.19it/s]"
     ]
    },
    {
     "name": "stdout",
     "output_type": "stream",
     "text": [
      "Si86CX3A\n",
      "Saved.\n"
     ]
    },
    {
     "name": "stderr",
     "output_type": "stream",
     "text": [
      "Week: A:  35%|█████████████████████████▌                                               | 21/60 [00:08<00:18,  2.08it/s]"
     ]
    },
    {
     "name": "stdout",
     "output_type": "stream",
     "text": [
      "Si88CX3A\n",
      "Saved.\n"
     ]
    },
    {
     "name": "stderr",
     "output_type": "stream",
     "text": [
      "Week: A:  42%|██████████████████████████████▍                                          | 25/60 [00:12<00:32,  1.07it/s]"
     ]
    },
    {
     "name": "stdout",
     "output_type": "stream",
     "text": [
      "Si90CX3A\n",
      "Saved.\n"
     ]
    },
    {
     "name": "stderr",
     "output_type": "stream",
     "text": [
      "Week: A:  48%|███████████████████████████████████▎                                     | 29/60 [00:14<00:21,  1.43it/s]"
     ]
    },
    {
     "name": "stdout",
     "output_type": "stream",
     "text": [
      "Si92CX3A\n",
      "Saved.\n"
     ]
    },
    {
     "name": "stderr",
     "output_type": "stream",
     "text": [
      "Week: A:  55%|████████████████████████████████████████▏                                | 33/60 [00:16<00:16,  1.61it/s]"
     ]
    },
    {
     "name": "stdout",
     "output_type": "stream",
     "text": [
      "Si94CX3A\n",
      "Saved.\n"
     ]
    },
    {
     "name": "stderr",
     "output_type": "stream",
     "text": [
      "Week: A: 100%|█████████████████████████████████████████████████████████████████████████| 60/60 [00:28<00:00,  2.07it/s]\n",
      "Week: B:  15%|███████████                                                               | 9/60 [00:04<00:24,  2.05it/s]"
     ]
    },
    {
     "name": "stdout",
     "output_type": "stream",
     "text": [
      "Si82CX3B\n",
      "Saved.\n"
     ]
    },
    {
     "name": "stderr",
     "output_type": "stream",
     "text": [
      "Week: B:  22%|███████████████▊                                                         | 13/60 [00:05<00:21,  2.17it/s]"
     ]
    },
    {
     "name": "stdout",
     "output_type": "stream",
     "text": [
      "Si84CX3B\n",
      "Saved.\n"
     ]
    },
    {
     "name": "stderr",
     "output_type": "stream",
     "text": [
      "Week: B:  28%|████████████████████▋                                                    | 17/60 [00:07<00:21,  1.97it/s]"
     ]
    },
    {
     "name": "stdout",
     "output_type": "stream",
     "text": [
      "Si86CX3B\n",
      "Saved.\n"
     ]
    },
    {
     "name": "stderr",
     "output_type": "stream",
     "text": [
      "Week: B:  35%|█████████████████████████▌                                               | 21/60 [00:09<00:17,  2.27it/s]"
     ]
    },
    {
     "name": "stdout",
     "output_type": "stream",
     "text": [
      "Si88CX3B\n",
      "Saved.\n"
     ]
    },
    {
     "name": "stderr",
     "output_type": "stream",
     "text": [
      "Week: B:  42%|██████████████████████████████▍                                          | 25/60 [00:11<00:16,  2.15it/s]"
     ]
    },
    {
     "name": "stdout",
     "output_type": "stream",
     "text": [
      "Si90CX3B\n",
      "Saved.\n"
     ]
    },
    {
     "name": "stderr",
     "output_type": "stream",
     "text": [
      "Week: B:  48%|███████████████████████████████████▎                                     | 29/60 [00:13<00:15,  2.00it/s]"
     ]
    },
    {
     "name": "stdout",
     "output_type": "stream",
     "text": [
      "Si92CX3B\n",
      "Saved.\n"
     ]
    },
    {
     "name": "stderr",
     "output_type": "stream",
     "text": [
      "Week: B:  55%|████████████████████████████████████████▏                                | 33/60 [00:15<00:13,  2.00it/s]"
     ]
    },
    {
     "name": "stdout",
     "output_type": "stream",
     "text": [
      "Si94CX3B\n",
      "Saved.\n"
     ]
    },
    {
     "name": "stderr",
     "output_type": "stream",
     "text": [
      "Week: B:  62%|█████████████████████████████████████████████                            | 37/60 [00:16<00:10,  2.25it/s]"
     ]
    },
    {
     "name": "stdout",
     "output_type": "stream",
     "text": [
      "Si96CX3B\n",
      "Saved.\n"
     ]
    },
    {
     "name": "stderr",
     "output_type": "stream",
     "text": [
      "Week: B:  68%|█████████████████████████████████████████████████▉                       | 41/60 [00:18<00:08,  2.16it/s]"
     ]
    },
    {
     "name": "stdout",
     "output_type": "stream",
     "text": [
      "Si98CX3B\n",
      "Saved.\n"
     ]
    },
    {
     "name": "stderr",
     "output_type": "stream",
     "text": [
      "Week: B:  75%|██████████████████████████████████████████████████████▊                  | 45/60 [00:20<00:06,  2.34it/s]"
     ]
    },
    {
     "name": "stdout",
     "output_type": "stream",
     "text": [
      "Si100CX3B\n",
      "Saved.\n"
     ]
    },
    {
     "name": "stderr",
     "output_type": "stream",
     "text": [
      "Week: B: 100%|█████████████████████████████████████████████████████████████████████████| 60/60 [00:26<00:00,  2.28it/s]\n",
      "Week: C: 100%|█████████████████████████████████████████████████████████████████████████| 60/60 [00:24<00:00,  2.40it/s]\n",
      "Week: D:  15%|███████████                                                               | 9/60 [00:03<00:21,  2.33it/s]"
     ]
    },
    {
     "name": "stdout",
     "output_type": "stream",
     "text": [
      "Si82CX3D\n",
      "Saved.\n"
     ]
    },
    {
     "name": "stderr",
     "output_type": "stream",
     "text": [
      "Week: D:  35%|█████████████████████████▌                                               | 21/60 [00:09<00:21,  1.85it/s]"
     ]
    },
    {
     "name": "stdout",
     "output_type": "stream",
     "text": [
      "Si88CX3D\n",
      "Saved.\n"
     ]
    },
    {
     "name": "stderr",
     "output_type": "stream",
     "text": [
      "Week: D:  42%|██████████████████████████████▍                                          | 25/60 [00:10<00:15,  2.19it/s]"
     ]
    },
    {
     "name": "stdout",
     "output_type": "stream",
     "text": [
      "Si90CX3D\n",
      "Saved.\n"
     ]
    },
    {
     "name": "stderr",
     "output_type": "stream",
     "text": [
      "Week: D:  48%|███████████████████████████████████▎                                     | 29/60 [00:12<00:12,  2.40it/s]"
     ]
    },
    {
     "name": "stdout",
     "output_type": "stream",
     "text": [
      "Si92CX3D\n",
      "Saved.\n"
     ]
    },
    {
     "name": "stderr",
     "output_type": "stream",
     "text": [
      "Week: D:  55%|████████████████████████████████████████▏                                | 33/60 [00:14<00:11,  2.36it/s]"
     ]
    },
    {
     "name": "stdout",
     "output_type": "stream",
     "text": [
      "Si94CX3D\n",
      "Saved.\n"
     ]
    },
    {
     "name": "stderr",
     "output_type": "stream",
     "text": [
      "Week: D:  62%|█████████████████████████████████████████████                            | 37/60 [00:15<00:09,  2.30it/s]"
     ]
    },
    {
     "name": "stdout",
     "output_type": "stream",
     "text": [
      "Si96CX3D\n",
      "Saved.\n"
     ]
    },
    {
     "name": "stderr",
     "output_type": "stream",
     "text": [
      "Week: D:  68%|█████████████████████████████████████████████████▉                       | 41/60 [00:17<00:07,  2.39it/s]"
     ]
    },
    {
     "name": "stdout",
     "output_type": "stream",
     "text": [
      "Si98CX3D\n",
      "Saved.\n"
     ]
    },
    {
     "name": "stderr",
     "output_type": "stream",
     "text": [
      "Week: D: 100%|█████████████████████████████████████████████████████████████████████████| 60/60 [00:25<00:00,  2.36it/s]\n",
      "Week: E: 100%|█████████████████████████████████████████████████████████████████████████| 60/60 [00:26<00:00,  2.25it/s]\n"
     ]
    },
    {
     "name": "stdout",
     "output_type": "stream",
     "text": [
      "- month: Y\n"
     ]
    },
    {
     "name": "stderr",
     "output_type": "stream",
     "text": [
      "Week: -: 100%|█████████████████████████████████████████████████████████████████████████| 60/60 [00:22<00:00,  2.71it/s]\n",
      "Week: A: 100%|█████████████████████████████████████████████████████████████████████████| 60/60 [00:22<00:00,  2.70it/s]\n",
      "Week: B: 100%|█████████████████████████████████████████████████████████████████████████| 60/60 [00:23<00:00,  2.54it/s]\n",
      "Week: C: 100%|█████████████████████████████████████████████████████████████████████████| 60/60 [00:22<00:00,  2.67it/s]\n",
      "Week: D: 100%|█████████████████████████████████████████████████████████████████████████| 60/60 [00:23<00:00,  2.58it/s]\n",
      "Week: E: 100%|█████████████████████████████████████████████████████████████████████████| 60/60 [00:25<00:00,  2.36it/s]\n"
     ]
    },
    {
     "name": "stdout",
     "output_type": "stream",
     "text": [
      "- month: Z\n"
     ]
    },
    {
     "name": "stderr",
     "output_type": "stream",
     "text": [
      "Week: -: 100%|█████████████████████████████████████████████████████████████████████████| 60/60 [00:21<00:00,  2.74it/s]\n",
      "Week: A: 100%|█████████████████████████████████████████████████████████████████████████| 60/60 [00:23<00:00,  2.60it/s]\n",
      "Week: B: 100%|█████████████████████████████████████████████████████████████████████████| 60/60 [00:20<00:00,  2.86it/s]\n",
      "Week: C: 100%|█████████████████████████████████████████████████████████████████████████| 60/60 [00:21<00:00,  2.77it/s]\n",
      "Week: D: 100%|█████████████████████████████████████████████████████████████████████████| 60/60 [00:20<00:00,  2.87it/s]\n",
      "Week: E: 100%|█████████████████████████████████████████████████████████████████████████| 60/60 [00:23<00:00,  2.57it/s]\n"
     ]
    },
    {
     "name": "stdout",
     "output_type": "stream",
     "text": [
      "2024 year is being parsed\n",
      "- month: G\n"
     ]
    },
    {
     "name": "stderr",
     "output_type": "stream",
     "text": [
      "Week: -:  28%|████████████████████▋                                                    | 17/60 [00:09<00:28,  1.53it/s]"
     ]
    },
    {
     "name": "stdout",
     "output_type": "stream",
     "text": [
      "Si86CG4\n",
      "Saved.\n"
     ]
    },
    {
     "name": "stderr",
     "output_type": "stream",
     "text": [
      "Week: -:  32%|███████████████████████                                                  | 19/60 [00:12<00:39,  1.05it/s]"
     ]
    },
    {
     "name": "stdout",
     "output_type": "stream",
     "text": [
      "Si87CG4\n",
      "Saved.\n"
     ]
    },
    {
     "name": "stderr",
     "output_type": "stream",
     "text": [
      "Week: -:  33%|████████████████████████▎                                                | 20/60 [00:12<00:31,  1.26it/s]"
     ]
    },
    {
     "name": "stdout",
     "output_type": "stream",
     "text": [
      "Si87.5CG4\n",
      "Saved.\n"
     ]
    },
    {
     "name": "stderr",
     "output_type": "stream",
     "text": [
      "Week: -:  35%|█████████████████████████▌                                               | 21/60 [00:13<00:29,  1.31it/s]"
     ]
    },
    {
     "name": "stdout",
     "output_type": "stream",
     "text": [
      "Si88CG4\n",
      "Saved.\n"
     ]
    },
    {
     "name": "stderr",
     "output_type": "stream",
     "text": [
      "Week: -:  37%|██████████████████████████▊                                              | 22/60 [00:14<00:29,  1.30it/s]"
     ]
    },
    {
     "name": "stdout",
     "output_type": "stream",
     "text": [
      "Si88.5CG4\n",
      "Saved.\n"
     ]
    },
    {
     "name": "stderr",
     "output_type": "stream",
     "text": [
      "Week: -:  38%|███████████████████████████▉                                             | 23/60 [00:15<00:30,  1.23it/s]"
     ]
    },
    {
     "name": "stdout",
     "output_type": "stream",
     "text": [
      "Si89CG4\n",
      "Saved.\n"
     ]
    },
    {
     "name": "stderr",
     "output_type": "stream",
     "text": [
      "Week: -:  42%|██████████████████████████████▍                                          | 25/60 [00:16<00:25,  1.38it/s]"
     ]
    },
    {
     "name": "stdout",
     "output_type": "stream",
     "text": [
      "Si90CG4\n",
      "Saved.\n"
     ]
    },
    {
     "name": "stderr",
     "output_type": "stream",
     "text": [
      "Week: -:  43%|███████████████████████████████▋                                         | 26/60 [00:16<00:24,  1.42it/s]"
     ]
    },
    {
     "name": "stdout",
     "output_type": "stream",
     "text": [
      "Si90.5CG4\n",
      "Saved.\n"
     ]
    },
    {
     "name": "stderr",
     "output_type": "stream",
     "text": [
      "Week: -:  45%|████████████████████████████████▊                                        | 27/60 [00:18<00:27,  1.20it/s]"
     ]
    },
    {
     "name": "stdout",
     "output_type": "stream",
     "text": [
      "Si91CG4\n",
      "Saved.\n"
     ]
    },
    {
     "name": "stderr",
     "output_type": "stream",
     "text": [
      "Week: -:  47%|██████████████████████████████████                                       | 28/60 [00:18<00:25,  1.25it/s]"
     ]
    },
    {
     "name": "stdout",
     "output_type": "stream",
     "text": [
      "Si91.5CG4\n",
      "Saved.\n"
     ]
    },
    {
     "name": "stderr",
     "output_type": "stream",
     "text": [
      "Week: -:  55%|████████████████████████████████████████▏                                | 33/60 [00:22<00:24,  1.09it/s]"
     ]
    },
    {
     "name": "stdout",
     "output_type": "stream",
     "text": [
      "Si94CG4\n",
      "Saved.\n"
     ]
    },
    {
     "name": "stderr",
     "output_type": "stream",
     "text": [
      "Week: -: 100%|█████████████████████████████████████████████████████████████████████████| 60/60 [00:32<00:00,  1.84it/s]\n",
      "Week: A:  25%|██████████████████▎                                                      | 15/60 [00:06<00:17,  2.62it/s]"
     ]
    },
    {
     "name": "stdout",
     "output_type": "stream",
     "text": [
      "Si85CG4A\n",
      "Saved.\n"
     ]
    },
    {
     "name": "stderr",
     "output_type": "stream",
     "text": [
      "Week: A:  35%|█████████████████████████▌                                               | 21/60 [00:09<00:21,  1.84it/s]"
     ]
    },
    {
     "name": "stdout",
     "output_type": "stream",
     "text": [
      "Si88CG4A\n",
      "Saved.\n"
     ]
    },
    {
     "name": "stderr",
     "output_type": "stream",
     "text": [
      "Week: A:  38%|███████████████████████████▉                                             | 23/60 [00:10<00:18,  2.00it/s]"
     ]
    },
    {
     "name": "stdout",
     "output_type": "stream",
     "text": [
      "Si89CG4A\n",
      "Saved.\n"
     ]
    },
    {
     "name": "stderr",
     "output_type": "stream",
     "text": [
      "Week: A: 100%|█████████████████████████████████████████████████████████████████████████| 60/60 [00:25<00:00,  2.40it/s]\n",
      "Week: B: 100%|█████████████████████████████████████████████████████████████████████████| 60/60 [00:19<00:00,  3.00it/s]\n",
      "Week: C: 100%|█████████████████████████████████████████████████████████████████████████| 60/60 [00:20<00:00,  2.92it/s]\n",
      "Week: D: 100%|█████████████████████████████████████████████████████████████████████████| 60/60 [00:21<00:00,  2.81it/s]\n",
      "Week: E: 100%|█████████████████████████████████████████████████████████████████████████| 60/60 [00:20<00:00,  2.99it/s]\n"
     ]
    },
    {
     "name": "stdout",
     "output_type": "stream",
     "text": [
      "- month: H\n"
     ]
    },
    {
     "name": "stderr",
     "output_type": "stream",
     "text": [
      "Week: -:  27%|███████████████████▍                                                     | 16/60 [00:05<00:20,  2.19it/s]"
     ]
    },
    {
     "name": "stdout",
     "output_type": "stream",
     "text": [
      "Si85.5CH4\n",
      "Saved.\n"
     ]
    },
    {
     "name": "stderr",
     "output_type": "stream",
     "text": [
      "Week: -:  28%|████████████████████▋                                                    | 17/60 [00:07<00:28,  1.48it/s]"
     ]
    },
    {
     "name": "stdout",
     "output_type": "stream",
     "text": [
      "Si86CH4\n",
      "Saved.\n"
     ]
    },
    {
     "name": "stderr",
     "output_type": "stream",
     "text": [
      "Week: -:  32%|███████████████████████                                                  | 19/60 [00:09<00:39,  1.03it/s]"
     ]
    },
    {
     "name": "stdout",
     "output_type": "stream",
     "text": [
      "Si87CH4\n",
      "Saved.\n"
     ]
    },
    {
     "name": "stderr",
     "output_type": "stream",
     "text": [
      "Week: -:  35%|█████████████████████████▌                                               | 21/60 [00:10<00:25,  1.51it/s]"
     ]
    },
    {
     "name": "stdout",
     "output_type": "stream",
     "text": [
      "Si88CH4\n",
      "Saved.\n"
     ]
    },
    {
     "name": "stderr",
     "output_type": "stream",
     "text": [
      "Week: -:  38%|███████████████████████████▉                                             | 23/60 [00:11<00:20,  1.80it/s]"
     ]
    },
    {
     "name": "stdout",
     "output_type": "stream",
     "text": [
      "Si89CH4\n",
      "Saved.\n"
     ]
    },
    {
     "name": "stderr",
     "output_type": "stream",
     "text": [
      "Week: -:  42%|██████████████████████████████▍                                          | 25/60 [00:12<00:20,  1.68it/s]"
     ]
    },
    {
     "name": "stdout",
     "output_type": "stream",
     "text": [
      "Si90CH4\n",
      "Saved.\n"
     ]
    },
    {
     "name": "stderr",
     "output_type": "stream",
     "text": [
      "Week: -:  48%|███████████████████████████████████▎                                     | 29/60 [00:14<00:16,  1.84it/s]"
     ]
    },
    {
     "name": "stdout",
     "output_type": "stream",
     "text": [
      "Si92CH4\n",
      "Saved.\n"
     ]
    },
    {
     "name": "stderr",
     "output_type": "stream",
     "text": [
      "Week: -:  67%|████████████████████████████████████████████████▋                        | 40/60 [00:38<02:11,  6.56s/it]"
     ]
    },
    {
     "name": "stdout",
     "output_type": "stream",
     "text": [
      "Произошла ошибка типа: ConnectTimeout\n"
     ]
    },
    {
     "name": "stderr",
     "output_type": "stream",
     "text": [
      "Week: -: 100%|█████████████████████████████████████████████████████████████████████████| 60/60 [00:54<00:00,  1.10it/s]\n",
      "Week: A: 100%|█████████████████████████████████████████████████████████████████████████| 60/60 [00:20<00:00,  2.94it/s]\n",
      "Week: B: 100%|█████████████████████████████████████████████████████████████████████████| 60/60 [00:19<00:00,  3.04it/s]\n",
      "Week: C: 100%|█████████████████████████████████████████████████████████████████████████| 60/60 [00:18<00:00,  3.18it/s]\n",
      "Week: D:  37%|██████████████████████████▊                                              | 22/60 [00:07<00:14,  2.70it/s]"
     ]
    },
    {
     "name": "stdout",
     "output_type": "stream",
     "text": [
      "Si88.5CH4D\n",
      "Saved.\n"
     ]
    },
    {
     "name": "stderr",
     "output_type": "stream",
     "text": [
      "Week: D:  45%|████████████████████████████████▊                                        | 27/60 [00:08<00:12,  2.63it/s]"
     ]
    },
    {
     "name": "stdout",
     "output_type": "stream",
     "text": [
      "Si91CH4D\n",
      "Saved.\n"
     ]
    },
    {
     "name": "stderr",
     "output_type": "stream",
     "text": [
      "Week: D:  52%|█████████████████████████████████████▋                                   | 31/60 [00:10<00:11,  2.57it/s]"
     ]
    },
    {
     "name": "stdout",
     "output_type": "stream",
     "text": [
      "Si93CH4D\n",
      "Saved.\n"
     ]
    },
    {
     "name": "stderr",
     "output_type": "stream",
     "text": [
      "Week: D: 100%|█████████████████████████████████████████████████████████████████████████| 60/60 [00:20<00:00,  2.97it/s]\n",
      "Week: E:  38%|███████████████████████████▉                                             | 23/60 [00:07<00:13,  2.73it/s]"
     ]
    },
    {
     "name": "stdout",
     "output_type": "stream",
     "text": [
      "Si89CH4E\n",
      "Saved.\n"
     ]
    },
    {
     "name": "stderr",
     "output_type": "stream",
     "text": [
      "Week: E:  40%|█████████████████████████████▏                                           | 24/60 [00:08<00:15,  2.35it/s]"
     ]
    },
    {
     "name": "stdout",
     "output_type": "stream",
     "text": [
      "Si89.5CH4E\n",
      "Saved.\n"
     ]
    },
    {
     "name": "stderr",
     "output_type": "stream",
     "text": [
      "Week: E:  42%|██████████████████████████████▍                                          | 25/60 [00:08<00:15,  2.31it/s]"
     ]
    },
    {
     "name": "stdout",
     "output_type": "stream",
     "text": [
      "Si90CH4E\n",
      "Saved.\n"
     ]
    },
    {
     "name": "stderr",
     "output_type": "stream",
     "text": [
      "Week: E:  48%|███████████████████████████████████▎                                     | 29/60 [00:10<00:16,  1.90it/s]"
     ]
    },
    {
     "name": "stdout",
     "output_type": "stream",
     "text": [
      "Si92CH4E\n",
      "Saved.\n"
     ]
    },
    {
     "name": "stderr",
     "output_type": "stream",
     "text": [
      "Week: E: 100%|█████████████████████████████████████████████████████████████████████████| 60/60 [00:20<00:00,  2.91it/s]\n"
     ]
    },
    {
     "name": "stdout",
     "output_type": "stream",
     "text": [
      "- month: I\n"
     ]
    },
    {
     "name": "stderr",
     "output_type": "stream",
     "text": [
      "Week: -: 100%|█████████████████████████████████████████████████████████████████████████| 60/60 [00:19<00:00,  3.11it/s]\n",
      "Week: A:  38%|███████████████████████████▉                                             | 23/60 [00:07<00:14,  2.57it/s]"
     ]
    },
    {
     "name": "stdout",
     "output_type": "stream",
     "text": [
      "Si89CI4A\n",
      "Saved.\n"
     ]
    },
    {
     "name": "stderr",
     "output_type": "stream",
     "text": [
      "Week: A:  45%|████████████████████████████████▊                                        | 27/60 [00:09<00:17,  1.92it/s]"
     ]
    },
    {
     "name": "stdout",
     "output_type": "stream",
     "text": [
      "Si91CI4A\n",
      "Saved.\n"
     ]
    },
    {
     "name": "stderr",
     "output_type": "stream",
     "text": [
      "Week: A:  53%|██████████████████████████████████████▉                                  | 32/60 [00:11<00:12,  2.32it/s]"
     ]
    },
    {
     "name": "stdout",
     "output_type": "stream",
     "text": [
      "Si93.5CI4A\n",
      "Saved.\n"
     ]
    },
    {
     "name": "stderr",
     "output_type": "stream",
     "text": [
      "Week: A: 100%|█████████████████████████████████████████████████████████████████████████| 60/60 [00:22<00:00,  2.65it/s]\n",
      "Week: B:  38%|███████████████████████████▉                                             | 23/60 [00:07<00:14,  2.51it/s]"
     ]
    },
    {
     "name": "stdout",
     "output_type": "stream",
     "text": [
      "Si89CI4B\n",
      "Saved.\n"
     ]
    },
    {
     "name": "stderr",
     "output_type": "stream",
     "text": [
      "Week: B:  45%|████████████████████████████████▊                                        | 27/60 [00:09<00:12,  2.57it/s]"
     ]
    },
    {
     "name": "stdout",
     "output_type": "stream",
     "text": [
      "Si91CI4B\n",
      "Saved.\n"
     ]
    },
    {
     "name": "stderr",
     "output_type": "stream",
     "text": [
      "Week: B:  48%|███████████████████████████████████▎                                     | 29/60 [00:10<00:11,  2.59it/s]"
     ]
    },
    {
     "name": "stdout",
     "output_type": "stream",
     "text": [
      "Si92CI4B\n",
      "Saved.\n"
     ]
    },
    {
     "name": "stderr",
     "output_type": "stream",
     "text": [
      "Week: B: 100%|█████████████████████████████████████████████████████████████████████████| 60/60 [00:20<00:00,  2.98it/s]\n",
      "Week: C:  38%|███████████████████████████▉                                             | 23/60 [00:08<00:16,  2.23it/s]"
     ]
    },
    {
     "name": "stdout",
     "output_type": "stream",
     "text": [
      "Si89CI4C\n",
      "Saved.\n"
     ]
    },
    {
     "name": "stderr",
     "output_type": "stream",
     "text": [
      "Week: C:  42%|██████████████████████████████▍                                          | 25/60 [00:08<00:15,  2.30it/s]"
     ]
    },
    {
     "name": "stdout",
     "output_type": "stream",
     "text": [
      "Si90CI4C\n",
      "Saved.\n"
     ]
    },
    {
     "name": "stderr",
     "output_type": "stream",
     "text": [
      "Week: C:  43%|███████████████████████████████▋                                         | 26/60 [00:09<00:14,  2.43it/s]"
     ]
    },
    {
     "name": "stdout",
     "output_type": "stream",
     "text": [
      "Si90.5CI4C\n",
      "Saved.\n"
     ]
    },
    {
     "name": "stderr",
     "output_type": "stream",
     "text": [
      "Week: C:  45%|████████████████████████████████▊                                        | 27/60 [00:09<00:13,  2.43it/s]"
     ]
    },
    {
     "name": "stdout",
     "output_type": "stream",
     "text": [
      "Si91CI4C\n",
      "Saved.\n"
     ]
    },
    {
     "name": "stderr",
     "output_type": "stream",
     "text": [
      "Week: C:  47%|██████████████████████████████████                                       | 28/60 [00:10<00:13,  2.42it/s]"
     ]
    },
    {
     "name": "stdout",
     "output_type": "stream",
     "text": [
      "Si91.5CI4C\n",
      "Saved.\n"
     ]
    },
    {
     "name": "stderr",
     "output_type": "stream",
     "text": [
      "Week: C:  48%|███████████████████████████████████▎                                     | 29/60 [00:10<00:13,  2.27it/s]"
     ]
    },
    {
     "name": "stdout",
     "output_type": "stream",
     "text": [
      "Si92CI4C\n",
      "Saved.\n"
     ]
    },
    {
     "name": "stderr",
     "output_type": "stream",
     "text": [
      "Week: C: 100%|█████████████████████████████████████████████████████████████████████████| 60/60 [00:21<00:00,  2.83it/s]\n",
      "Week: D:  38%|███████████████████████████▉                                             | 23/60 [00:07<00:13,  2.75it/s]"
     ]
    },
    {
     "name": "stdout",
     "output_type": "stream",
     "text": [
      "Si89CI4D\n",
      "Saved.\n"
     ]
    },
    {
     "name": "stderr",
     "output_type": "stream",
     "text": [
      "Week: D:  50%|████████████████████████████████████▌                                    | 30/60 [00:10<00:12,  2.44it/s]"
     ]
    },
    {
     "name": "stdout",
     "output_type": "stream",
     "text": [
      "Si92.5CI4D\n",
      "Saved.\n"
     ]
    },
    {
     "name": "stderr",
     "output_type": "stream",
     "text": [
      "Week: D: 100%|█████████████████████████████████████████████████████████████████████████| 60/60 [00:20<00:00,  2.89it/s]\n",
      "Week: E: 100%|█████████████████████████████████████████████████████████████████████████| 60/60 [00:20<00:00,  2.97it/s]\n"
     ]
    },
    {
     "name": "stdout",
     "output_type": "stream",
     "text": [
      "- month: J\n"
     ]
    },
    {
     "name": "stderr",
     "output_type": "stream",
     "text": [
      "Week: -: 100%|█████████████████████████████████████████████████████████████████████████| 60/60 [00:19<00:00,  3.06it/s]\n",
      "Week: A:  38%|███████████████████████████▉                                             | 23/60 [00:07<00:12,  2.88it/s]"
     ]
    },
    {
     "name": "stdout",
     "output_type": "stream",
     "text": [
      "Si89CJ4A\n",
      "Saved.\n"
     ]
    },
    {
     "name": "stderr",
     "output_type": "stream",
     "text": [
      "Week: A:  47%|██████████████████████████████████                                       | 28/60 [00:09<00:12,  2.50it/s]"
     ]
    },
    {
     "name": "stdout",
     "output_type": "stream",
     "text": [
      "Si91.5CJ4A\n",
      "Saved.\n"
     ]
    },
    {
     "name": "stderr",
     "output_type": "stream",
     "text": [
      "Week: A:  52%|█████████████████████████████████████▋                                   | 31/60 [00:11<00:12,  2.23it/s]"
     ]
    },
    {
     "name": "stdout",
     "output_type": "stream",
     "text": [
      "Si93CJ4A\n",
      "Saved.\n"
     ]
    },
    {
     "name": "stderr",
     "output_type": "stream",
     "text": [
      "Week: A:  55%|████████████████████████████████████████▏                                | 33/60 [00:11<00:11,  2.40it/s]"
     ]
    },
    {
     "name": "stdout",
     "output_type": "stream",
     "text": [
      "Si94CJ4A\n",
      "Saved.\n"
     ]
    },
    {
     "name": "stderr",
     "output_type": "stream",
     "text": [
      "Week: A:  62%|█████████████████████████████████████████████                            | 37/60 [00:13<00:09,  2.40it/s]"
     ]
    },
    {
     "name": "stdout",
     "output_type": "stream",
     "text": [
      "Si96CJ4A\n",
      "Saved.\n"
     ]
    },
    {
     "name": "stderr",
     "output_type": "stream",
     "text": [
      "Week: A: 100%|█████████████████████████████████████████████████████████████████████████| 60/60 [00:20<00:00,  2.88it/s]\n",
      "Week: B:  58%|██████████████████████████████████████████▌                              | 35/60 [00:12<00:10,  2.41it/s]"
     ]
    },
    {
     "name": "stdout",
     "output_type": "stream",
     "text": [
      "Si95CJ4B\n",
      "Saved.\n"
     ]
    },
    {
     "name": "stderr",
     "output_type": "stream",
     "text": [
      "Week: B:  60%|███████████████████████████████████████████▊                             | 36/60 [00:12<00:10,  2.35it/s]"
     ]
    },
    {
     "name": "stdout",
     "output_type": "stream",
     "text": [
      "Si95.5CJ4B\n",
      "Saved.\n"
     ]
    },
    {
     "name": "stderr",
     "output_type": "stream",
     "text": [
      "Week: B:  62%|█████████████████████████████████████████████                            | 37/60 [00:12<00:09,  2.36it/s]"
     ]
    },
    {
     "name": "stdout",
     "output_type": "stream",
     "text": [
      "Si96CJ4B\n",
      "Saved.\n"
     ]
    },
    {
     "name": "stderr",
     "output_type": "stream",
     "text": [
      "Week: B:  63%|██████████████████████████████████████████████▏                          | 38/60 [00:13<00:08,  2.45it/s]"
     ]
    },
    {
     "name": "stdout",
     "output_type": "stream",
     "text": [
      "Si96.5CJ4B\n",
      "Saved.\n"
     ]
    },
    {
     "name": "stderr",
     "output_type": "stream",
     "text": [
      "Week: B: 100%|█████████████████████████████████████████████████████████████████████████| 60/60 [00:21<00:00,  2.85it/s]\n",
      "Week: C:  58%|██████████████████████████████████████████▌                              | 35/60 [00:12<00:09,  2.55it/s]"
     ]
    },
    {
     "name": "stdout",
     "output_type": "stream",
     "text": [
      "Si95CJ4C\n",
      "Saved.\n"
     ]
    },
    {
     "name": "stderr",
     "output_type": "stream",
     "text": [
      "Week: C:  60%|███████████████████████████████████████████▊                             | 36/60 [00:12<00:10,  2.36it/s]"
     ]
    },
    {
     "name": "stdout",
     "output_type": "stream",
     "text": [
      "Si95.5CJ4C\n",
      "Saved.\n"
     ]
    },
    {
     "name": "stderr",
     "output_type": "stream",
     "text": [
      "Week: C:  62%|█████████████████████████████████████████████                            | 37/60 [00:12<00:09,  2.46it/s]"
     ]
    },
    {
     "name": "stdout",
     "output_type": "stream",
     "text": [
      "Si96CJ4C\n",
      "Saved.\n"
     ]
    },
    {
     "name": "stderr",
     "output_type": "stream",
     "text": [
      "Week: C:  63%|██████████████████████████████████████████████▏                          | 38/60 [00:13<00:08,  2.61it/s]"
     ]
    },
    {
     "name": "stdout",
     "output_type": "stream",
     "text": [
      "Si96.5CJ4C\n",
      "Saved.\n"
     ]
    },
    {
     "name": "stderr",
     "output_type": "stream",
     "text": [
      "Week: C:  65%|███████████████████████████████████████████████▍                         | 39/60 [00:13<00:07,  2.66it/s]"
     ]
    },
    {
     "name": "stdout",
     "output_type": "stream",
     "text": [
      "Si97CJ4C\n",
      "Saved.\n"
     ]
    },
    {
     "name": "stderr",
     "output_type": "stream",
     "text": [
      "Week: C: 100%|█████████████████████████████████████████████████████████████████████████| 60/60 [00:20<00:00,  2.88it/s]\n",
      "Week: D:  58%|██████████████████████████████████████████▌                              | 35/60 [00:12<00:09,  2.63it/s]"
     ]
    },
    {
     "name": "stdout",
     "output_type": "stream",
     "text": [
      "Si95CJ4D\n",
      "Saved.\n"
     ]
    },
    {
     "name": "stderr",
     "output_type": "stream",
     "text": [
      "Week: D:  62%|█████████████████████████████████████████████                            | 37/60 [00:13<00:08,  2.73it/s]"
     ]
    },
    {
     "name": "stdout",
     "output_type": "stream",
     "text": [
      "Si96CJ4D\n",
      "Saved.\n"
     ]
    },
    {
     "name": "stderr",
     "output_type": "stream",
     "text": [
      "Week: D:  65%|███████████████████████████████████████████████▍                         | 39/60 [00:13<00:07,  2.73it/s]"
     ]
    },
    {
     "name": "stdout",
     "output_type": "stream",
     "text": [
      "Si97CJ4D\n",
      "Saved.\n"
     ]
    },
    {
     "name": "stderr",
     "output_type": "stream",
     "text": [
      "Week: D: 100%|█████████████████████████████████████████████████████████████████████████| 60/60 [00:21<00:00,  2.81it/s]\n",
      "Week: E:  62%|█████████████████████████████████████████████                            | 37/60 [00:12<00:09,  2.51it/s]"
     ]
    },
    {
     "name": "stdout",
     "output_type": "stream",
     "text": [
      "Si96CJ4E\n",
      "Saved.\n"
     ]
    },
    {
     "name": "stderr",
     "output_type": "stream",
     "text": [
      "Week: E:  65%|███████████████████████████████████████████████▍                         | 39/60 [00:13<00:09,  2.27it/s]"
     ]
    },
    {
     "name": "stdout",
     "output_type": "stream",
     "text": [
      "Si97CJ4E\n",
      "Saved.\n"
     ]
    },
    {
     "name": "stderr",
     "output_type": "stream",
     "text": [
      "Week: E: 100%|█████████████████████████████████████████████████████████████████████████| 60/60 [00:21<00:00,  2.75it/s]\n"
     ]
    },
    {
     "name": "stdout",
     "output_type": "stream",
     "text": [
      "- month: K\n"
     ]
    },
    {
     "name": "stderr",
     "output_type": "stream",
     "text": [
      "Week: -: 100%|█████████████████████████████████████████████████████████████████████████| 60/60 [00:22<00:00,  2.67it/s]\n",
      "Week: A:  58%|██████████████████████████████████████████▌                              | 35/60 [00:12<00:10,  2.48it/s]"
     ]
    },
    {
     "name": "stdout",
     "output_type": "stream",
     "text": [
      "Si95CK4A\n",
      "Saved.\n"
     ]
    },
    {
     "name": "stderr",
     "output_type": "stream",
     "text": [
      "Week: A:  65%|███████████████████████████████████████████████▍                         | 39/60 [00:13<00:07,  2.75it/s]"
     ]
    },
    {
     "name": "stdout",
     "output_type": "stream",
     "text": [
      "Si97CK4A\n",
      "Saved.\n"
     ]
    },
    {
     "name": "stderr",
     "output_type": "stream",
     "text": [
      "Week: A:  67%|████████████████████████████████████████████████▋                        | 40/60 [00:13<00:07,  2.73it/s]"
     ]
    },
    {
     "name": "stdout",
     "output_type": "stream",
     "text": [
      "Si97.5CK4A\n",
      "Saved.\n"
     ]
    },
    {
     "name": "stderr",
     "output_type": "stream",
     "text": [
      "Week: A:  68%|█████████████████████████████████████████████████▉                       | 41/60 [00:14<00:07,  2.63it/s]"
     ]
    },
    {
     "name": "stdout",
     "output_type": "stream",
     "text": [
      "Si98CK4A\n",
      "Saved.\n"
     ]
    },
    {
     "name": "stderr",
     "output_type": "stream",
     "text": [
      "Week: A:  72%|████████████████████████████████████████████████████▎                    | 43/60 [00:15<00:07,  2.23it/s]"
     ]
    },
    {
     "name": "stdout",
     "output_type": "stream",
     "text": [
      "Si99CK4A\n",
      "Saved.\n"
     ]
    },
    {
     "name": "stderr",
     "output_type": "stream",
     "text": [
      "Week: A:  73%|█████████████████████████████████████████████████████▌                   | 44/60 [00:15<00:07,  2.17it/s]"
     ]
    },
    {
     "name": "stdout",
     "output_type": "stream",
     "text": [
      "Si99.5CK4A\n",
      "Saved.\n"
     ]
    },
    {
     "name": "stderr",
     "output_type": "stream",
     "text": [
      "Week: A: 100%|█████████████████████████████████████████████████████████████████████████| 60/60 [00:21<00:00,  2.82it/s]\n",
      "Week: B:  68%|█████████████████████████████████████████████████▉                       | 41/60 [00:14<00:07,  2.58it/s]"
     ]
    },
    {
     "name": "stdout",
     "output_type": "stream",
     "text": [
      "Si98CK4B\n",
      "Saved.\n"
     ]
    },
    {
     "name": "stderr",
     "output_type": "stream",
     "text": [
      "Week: B:  72%|████████████████████████████████████████████████████▎                    | 43/60 [00:15<00:06,  2.54it/s]"
     ]
    },
    {
     "name": "stdout",
     "output_type": "stream",
     "text": [
      "Si99CK4B\n",
      "Saved.\n"
     ]
    },
    {
     "name": "stderr",
     "output_type": "stream",
     "text": [
      "Week: B:  73%|█████████████████████████████████████████████████████▌                   | 44/60 [00:15<00:06,  2.52it/s]"
     ]
    },
    {
     "name": "stdout",
     "output_type": "stream",
     "text": [
      "Si99.5CK4B\n",
      "Saved.\n"
     ]
    },
    {
     "name": "stderr",
     "output_type": "stream",
     "text": [
      "Week: B: 100%|█████████████████████████████████████████████████████████████████████████| 60/60 [00:20<00:00,  2.86it/s]\n",
      "Week: C:  68%|█████████████████████████████████████████████████▉                       | 41/60 [00:17<00:08,  2.30it/s]"
     ]
    },
    {
     "name": "stdout",
     "output_type": "stream",
     "text": [
      "Si98CK4C\n",
      "Saved.\n"
     ]
    },
    {
     "name": "stderr",
     "output_type": "stream",
     "text": [
      "Week: C:  72%|████████████████████████████████████████████████████▎                    | 43/60 [00:17<00:06,  2.55it/s]"
     ]
    },
    {
     "name": "stdout",
     "output_type": "stream",
     "text": [
      "Si99CK4C\n",
      "Saved.\n"
     ]
    },
    {
     "name": "stderr",
     "output_type": "stream",
     "text": [
      "Week: C:  73%|█████████████████████████████████████████████████████▌                   | 44/60 [00:18<00:06,  2.64it/s]"
     ]
    },
    {
     "name": "stdout",
     "output_type": "stream",
     "text": [
      "Si99.5CK4C\n",
      "Saved.\n"
     ]
    },
    {
     "name": "stderr",
     "output_type": "stream",
     "text": [
      "Week: C:  75%|██████████████████████████████████████████████████████▊                  | 45/60 [00:18<00:05,  2.52it/s]"
     ]
    },
    {
     "name": "stdout",
     "output_type": "stream",
     "text": [
      "Si100CK4C\n",
      "Saved.\n"
     ]
    },
    {
     "name": "stderr",
     "output_type": "stream",
     "text": [
      "Week: C:  78%|█████████████████████████████████████████████████████████▏               | 47/60 [00:19<00:05,  2.49it/s]"
     ]
    },
    {
     "name": "stdout",
     "output_type": "stream",
     "text": [
      "Si101CK4C\n",
      "Saved.\n"
     ]
    },
    {
     "name": "stderr",
     "output_type": "stream",
     "text": [
      "Week: C:  80%|██████████████████████████████████████████████████████████▍              | 48/60 [00:19<00:04,  2.60it/s]"
     ]
    },
    {
     "name": "stdout",
     "output_type": "stream",
     "text": [
      "Si101.5CK4C\n",
      "Saved.\n"
     ]
    },
    {
     "name": "stderr",
     "output_type": "stream",
     "text": [
      "Week: C:  82%|███████████████████████████████████████████████████████████▌             | 49/60 [00:20<00:04,  2.68it/s]"
     ]
    },
    {
     "name": "stdout",
     "output_type": "stream",
     "text": [
      "Si102CK4C\n",
      "Saved.\n"
     ]
    },
    {
     "name": "stderr",
     "output_type": "stream",
     "text": [
      "Week: C: 100%|█████████████████████████████████████████████████████████████████████████| 60/60 [00:23<00:00,  2.55it/s]\n",
      "Week: D:  78%|█████████████████████████████████████████████████████████▏               | 47/60 [00:16<00:04,  2.82it/s]"
     ]
    },
    {
     "name": "stdout",
     "output_type": "stream",
     "text": [
      "Si101CK4D\n",
      "Saved.\n"
     ]
    },
    {
     "name": "stderr",
     "output_type": "stream",
     "text": [
      "Week: D:  82%|███████████████████████████████████████████████████████████▌             | 49/60 [00:16<00:03,  2.78it/s]"
     ]
    },
    {
     "name": "stdout",
     "output_type": "stream",
     "text": [
      "Si102CK4D\n",
      "Saved.\n"
     ]
    },
    {
     "name": "stderr",
     "output_type": "stream",
     "text": [
      "Week: D:  83%|████████████████████████████████████████████████████████████▊            | 50/60 [00:17<00:03,  2.72it/s]"
     ]
    },
    {
     "name": "stdout",
     "output_type": "stream",
     "text": [
      "Si102.5CK4D\n",
      "Saved.\n"
     ]
    },
    {
     "name": "stderr",
     "output_type": "stream",
     "text": [
      "Week: D:  92%|██████████████████████████████████████████████████████████████████▉      | 55/60 [00:18<00:01,  3.16it/s]"
     ]
    },
    {
     "name": "stdout",
     "output_type": "stream",
     "text": [
      "Si105CK4D\n",
      "Saved.\n"
     ]
    },
    {
     "name": "stderr",
     "output_type": "stream",
     "text": [
      "Week: D:  93%|████████████████████████████████████████████████████████████████████▏    | 56/60 [00:19<00:01,  2.98it/s]"
     ]
    },
    {
     "name": "stdout",
     "output_type": "stream",
     "text": [
      "Si105.5CK4D\n",
      "Saved.\n"
     ]
    },
    {
     "name": "stderr",
     "output_type": "stream",
     "text": [
      "Week: D: 100%|█████████████████████████████████████████████████████████████████████████| 60/60 [00:20<00:00,  2.93it/s]\n"
     ]
    },
    {
     "name": "stdout",
     "output_type": "stream",
     "text": [
      "Si107.5CK4D\n",
      "Saved.\n"
     ]
    },
    {
     "name": "stderr",
     "output_type": "stream",
     "text": [
      "Week: E: 100%|█████████████████████████████████████████████████████████████████████████| 60/60 [00:21<00:00,  2.84it/s]\n"
     ]
    },
    {
     "name": "stdout",
     "output_type": "stream",
     "text": [
      "- month: L\n"
     ]
    },
    {
     "name": "stderr",
     "output_type": "stream",
     "text": [
      "Week: -: 100%|█████████████████████████████████████████████████████████████████████████| 60/60 [00:20<00:00,  2.88it/s]\n",
      "Week: A:  77%|███████████████████████████████████████████████████████▉                 | 46/60 [00:14<00:04,  3.26it/s]"
     ]
    },
    {
     "name": "stdout",
     "output_type": "stream",
     "text": [
      "Si100.5CL4A\n",
      "Saved.\n"
     ]
    },
    {
     "name": "stderr",
     "output_type": "stream",
     "text": [
      "Week: A:  80%|██████████████████████████████████████████████████████████▍              | 48/60 [00:15<00:03,  3.11it/s]"
     ]
    },
    {
     "name": "stdout",
     "output_type": "stream",
     "text": [
      "Si101.5CL4A\n",
      "Saved.\n"
     ]
    },
    {
     "name": "stderr",
     "output_type": "stream",
     "text": [
      "Week: A:  90%|█████████████████████████████████████████████████████████████████▋       | 54/60 [00:17<00:02,  2.76it/s]"
     ]
    },
    {
     "name": "stdout",
     "output_type": "stream",
     "text": [
      "Si104.5CL4A\n",
      "Saved.\n"
     ]
    },
    {
     "name": "stderr",
     "output_type": "stream",
     "text": [
      "Week: A: 100%|█████████████████████████████████████████████████████████████████████████| 60/60 [00:19<00:00,  3.07it/s]\n",
      "Week: B:  93%|████████████████████████████████████████████████████████████████████▏    | 56/60 [00:22<00:01,  2.10it/s]"
     ]
    },
    {
     "name": "stdout",
     "output_type": "stream",
     "text": [
      "Si105.5CL4B\n",
      "Saved.\n"
     ]
    },
    {
     "name": "stderr",
     "output_type": "stream",
     "text": [
      "Week: B: 100%|█████████████████████████████████████████████████████████████████████████| 60/60 [00:23<00:00,  2.54it/s]\n"
     ]
    },
    {
     "name": "stdout",
     "output_type": "stream",
     "text": [
      "Si107.5CL4B\n",
      "Saved.\n"
     ]
    },
    {
     "name": "stderr",
     "output_type": "stream",
     "text": [
      "Week: C: 100%|█████████████████████████████████████████████████████████████████████████| 60/60 [00:19<00:00,  3.08it/s]\n",
      "Week: D: 100%|█████████████████████████████████████████████████████████████████████████| 60/60 [00:19<00:00,  3.08it/s]\n",
      "Week: E: 100%|█████████████████████████████████████████████████████████████████████████| 60/60 [00:20<00:00,  2.94it/s]\n"
     ]
    },
    {
     "name": "stdout",
     "output_type": "stream",
     "text": [
      "- month: M\n"
     ]
    },
    {
     "name": "stderr",
     "output_type": "stream",
     "text": [
      "Week: -:   2%|█▏                                                                        | 1/60 [00:00<00:29,  2.03it/s]"
     ]
    },
    {
     "name": "stdout",
     "output_type": "stream",
     "text": [
      "Si78CM4\n",
      "Saved.\n"
     ]
    },
    {
     "name": "stderr",
     "output_type": "stream",
     "text": [
      "Week: -:   8%|██████▏                                                                   | 5/60 [00:02<00:24,  2.27it/s]"
     ]
    },
    {
     "name": "stdout",
     "output_type": "stream",
     "text": [
      "Si80CM4\n",
      "Saved.\n"
     ]
    },
    {
     "name": "stderr",
     "output_type": "stream",
     "text": [
      "Week: -:  15%|███████████                                                               | 9/60 [00:03<00:21,  2.43it/s]"
     ]
    },
    {
     "name": "stdout",
     "output_type": "stream",
     "text": [
      "Si82CM4\n",
      "Saved.\n"
     ]
    },
    {
     "name": "stderr",
     "output_type": "stream",
     "text": [
      "Week: -:  22%|███████████████▊                                                         | 13/60 [00:04<00:17,  2.66it/s]"
     ]
    },
    {
     "name": "stdout",
     "output_type": "stream",
     "text": [
      "Si84CM4\n",
      "Saved.\n"
     ]
    },
    {
     "name": "stderr",
     "output_type": "stream",
     "text": [
      "Week: -:  28%|████████████████████▋                                                    | 17/60 [00:06<00:17,  2.53it/s]"
     ]
    },
    {
     "name": "stdout",
     "output_type": "stream",
     "text": [
      "Si86CM4\n",
      "Saved.\n"
     ]
    },
    {
     "name": "stderr",
     "output_type": "stream",
     "text": [
      "Week: -:  35%|█████████████████████████▌                                               | 21/60 [00:08<00:16,  2.35it/s]"
     ]
    },
    {
     "name": "stdout",
     "output_type": "stream",
     "text": [
      "Si88CM4\n",
      "Saved.\n"
     ]
    },
    {
     "name": "stderr",
     "output_type": "stream",
     "text": [
      "Week: -:  42%|██████████████████████████████▍                                          | 25/60 [00:09<00:16,  2.10it/s]"
     ]
    },
    {
     "name": "stdout",
     "output_type": "stream",
     "text": [
      "Si90CM4\n",
      "Saved.\n"
     ]
    },
    {
     "name": "stderr",
     "output_type": "stream",
     "text": [
      "Week: -:  48%|███████████████████████████████████▎                                     | 29/60 [00:11<00:15,  1.99it/s]"
     ]
    },
    {
     "name": "stdout",
     "output_type": "stream",
     "text": [
      "Si92CM4\n",
      "Saved.\n"
     ]
    },
    {
     "name": "stderr",
     "output_type": "stream",
     "text": [
      "Week: -:  55%|████████████████████████████████████████▏                                | 33/60 [00:13<00:10,  2.48it/s]"
     ]
    },
    {
     "name": "stdout",
     "output_type": "stream",
     "text": [
      "Si94CM4\n",
      "Saved.\n"
     ]
    },
    {
     "name": "stderr",
     "output_type": "stream",
     "text": [
      "Week: -:  62%|█████████████████████████████████████████████                            | 37/60 [00:14<00:10,  2.28it/s]"
     ]
    },
    {
     "name": "stdout",
     "output_type": "stream",
     "text": [
      "Si96CM4\n",
      "Saved.\n"
     ]
    },
    {
     "name": "stderr",
     "output_type": "stream",
     "text": [
      "Week: -:  68%|█████████████████████████████████████████████████▉                       | 41/60 [00:16<00:09,  2.11it/s]"
     ]
    },
    {
     "name": "stdout",
     "output_type": "stream",
     "text": [
      "Si98CM4\n",
      "Saved.\n"
     ]
    },
    {
     "name": "stderr",
     "output_type": "stream",
     "text": [
      "Week: -: 100%|█████████████████████████████████████████████████████████████████████████| 60/60 [00:23<00:00,  2.59it/s]\n",
      "Week: A:  35%|█████████████████████████▌                                               | 21/60 [00:07<00:15,  2.58it/s]"
     ]
    },
    {
     "name": "stdout",
     "output_type": "stream",
     "text": [
      "Si88CM4A\n",
      "Saved.\n"
     ]
    },
    {
     "name": "stderr",
     "output_type": "stream",
     "text": [
      "Week: A:  42%|██████████████████████████████▍                                          | 25/60 [00:09<00:12,  2.76it/s]"
     ]
    },
    {
     "name": "stdout",
     "output_type": "stream",
     "text": [
      "Si90CM4A\n",
      "Saved.\n"
     ]
    },
    {
     "name": "stderr",
     "output_type": "stream",
     "text": [
      "Week: A:  48%|███████████████████████████████████▎                                     | 29/60 [00:10<00:10,  2.87it/s]"
     ]
    },
    {
     "name": "stdout",
     "output_type": "stream",
     "text": [
      "Si92CM4A\n",
      "Saved.\n"
     ]
    },
    {
     "name": "stderr",
     "output_type": "stream",
     "text": [
      "Week: A:  55%|████████████████████████████████████████▏                                | 33/60 [00:11<00:09,  2.74it/s]"
     ]
    },
    {
     "name": "stdout",
     "output_type": "stream",
     "text": [
      "Si94CM4A\n",
      "Saved.\n"
     ]
    },
    {
     "name": "stderr",
     "output_type": "stream",
     "text": [
      "Week: A:  75%|██████████████████████████████████████████████████████▊                  | 45/60 [00:15<00:04,  3.01it/s]"
     ]
    },
    {
     "name": "stdout",
     "output_type": "stream",
     "text": [
      "Si100CM4A\n",
      "Saved.\n"
     ]
    },
    {
     "name": "stderr",
     "output_type": "stream",
     "text": [
      "Week: A: 100%|█████████████████████████████████████████████████████████████████████████| 60/60 [00:20<00:00,  2.92it/s]\n",
      "Week: B:  22%|███████████████▊                                                         | 13/60 [00:04<00:17,  2.75it/s]"
     ]
    },
    {
     "name": "stdout",
     "output_type": "stream",
     "text": [
      "Si84CM4B\n",
      "Saved.\n"
     ]
    },
    {
     "name": "stderr",
     "output_type": "stream",
     "text": [
      "Week: B:  28%|████████████████████▋                                                    | 17/60 [00:05<00:15,  2.84it/s]"
     ]
    },
    {
     "name": "stdout",
     "output_type": "stream",
     "text": [
      "Si86CM4B\n",
      "Saved.\n"
     ]
    },
    {
     "name": "stderr",
     "output_type": "stream",
     "text": [
      "Week: B:  35%|█████████████████████████▌                                               | 21/60 [00:07<00:15,  2.48it/s]"
     ]
    },
    {
     "name": "stdout",
     "output_type": "stream",
     "text": [
      "Si88CM4B\n",
      "Saved.\n"
     ]
    },
    {
     "name": "stderr",
     "output_type": "stream",
     "text": [
      "Week: B:  42%|██████████████████████████████▍                                          | 25/60 [00:08<00:12,  2.75it/s]"
     ]
    },
    {
     "name": "stdout",
     "output_type": "stream",
     "text": [
      "Si90CM4B\n",
      "Saved.\n"
     ]
    },
    {
     "name": "stderr",
     "output_type": "stream",
     "text": [
      "Week: B:  48%|███████████████████████████████████▎                                     | 29/60 [00:09<00:10,  3.02it/s]"
     ]
    },
    {
     "name": "stdout",
     "output_type": "stream",
     "text": [
      "Si92CM4B\n",
      "Saved.\n"
     ]
    },
    {
     "name": "stderr",
     "output_type": "stream",
     "text": [
      "Week: B:  55%|████████████████████████████████████████▏                                | 33/60 [00:11<00:09,  2.71it/s]"
     ]
    },
    {
     "name": "stdout",
     "output_type": "stream",
     "text": [
      "Si94CM4B\n",
      "Saved.\n"
     ]
    },
    {
     "name": "stderr",
     "output_type": "stream",
     "text": [
      "Week: B:  68%|█████████████████████████████████████████████████▉                       | 41/60 [00:14<00:06,  2.75it/s]"
     ]
    },
    {
     "name": "stdout",
     "output_type": "stream",
     "text": [
      "Si98CM4B\n",
      "Saved.\n"
     ]
    },
    {
     "name": "stderr",
     "output_type": "stream",
     "text": [
      "Week: B: 100%|█████████████████████████████████████████████████████████████████████████| 60/60 [00:20<00:00,  2.89it/s]\n",
      "Week: C: 100%|█████████████████████████████████████████████████████████████████████████| 60/60 [00:19<00:00,  3.12it/s]\n",
      "Week: D:  15%|███████████                                                               | 9/60 [00:03<00:23,  2.21it/s]"
     ]
    },
    {
     "name": "stdout",
     "output_type": "stream",
     "text": [
      "Si82CM4D\n",
      "Saved.\n"
     ]
    },
    {
     "name": "stderr",
     "output_type": "stream",
     "text": [
      "Week: D:  28%|████████████████████▋                                                    | 17/60 [00:06<00:15,  2.72it/s]"
     ]
    },
    {
     "name": "stdout",
     "output_type": "stream",
     "text": [
      "Si86CM4D\n",
      "Saved.\n"
     ]
    },
    {
     "name": "stderr",
     "output_type": "stream",
     "text": [
      "Week: D:  35%|█████████████████████████▌                                               | 21/60 [00:07<00:13,  2.81it/s]"
     ]
    },
    {
     "name": "stdout",
     "output_type": "stream",
     "text": [
      "Si88CM4D\n",
      "Saved.\n"
     ]
    },
    {
     "name": "stderr",
     "output_type": "stream",
     "text": [
      "Week: D:  42%|██████████████████████████████▍                                          | 25/60 [00:09<00:13,  2.58it/s]"
     ]
    },
    {
     "name": "stdout",
     "output_type": "stream",
     "text": [
      "Si90CM4D\n",
      "Saved.\n"
     ]
    },
    {
     "name": "stderr",
     "output_type": "stream",
     "text": [
      "Week: D:  48%|███████████████████████████████████▎                                     | 29/60 [00:10<00:12,  2.54it/s]"
     ]
    },
    {
     "name": "stdout",
     "output_type": "stream",
     "text": [
      "Si92CM4D\n",
      "Saved.\n"
     ]
    },
    {
     "name": "stderr",
     "output_type": "stream",
     "text": [
      "Week: D:  55%|████████████████████████████████████████▏                                | 33/60 [00:12<00:11,  2.33it/s]"
     ]
    },
    {
     "name": "stdout",
     "output_type": "stream",
     "text": [
      "Si94CM4D\n",
      "Saved.\n"
     ]
    },
    {
     "name": "stderr",
     "output_type": "stream",
     "text": [
      "Week: D:  62%|█████████████████████████████████████████████                            | 37/60 [00:13<00:09,  2.42it/s]"
     ]
    },
    {
     "name": "stdout",
     "output_type": "stream",
     "text": [
      "Si96CM4D\n",
      "Saved.\n"
     ]
    },
    {
     "name": "stderr",
     "output_type": "stream",
     "text": [
      "Week: D:  68%|█████████████████████████████████████████████████▉                       | 41/60 [00:15<00:07,  2.38it/s]"
     ]
    },
    {
     "name": "stdout",
     "output_type": "stream",
     "text": [
      "Si98CM4D\n",
      "Saved.\n"
     ]
    },
    {
     "name": "stderr",
     "output_type": "stream",
     "text": [
      "Week: D:  75%|██████████████████████████████████████████████████████▊                  | 45/60 [00:16<00:06,  2.44it/s]"
     ]
    },
    {
     "name": "stdout",
     "output_type": "stream",
     "text": [
      "Si100CM4D\n",
      "Saved.\n"
     ]
    },
    {
     "name": "stderr",
     "output_type": "stream",
     "text": [
      "Week: D: 100%|█████████████████████████████████████████████████████████████████████████| 60/60 [00:22<00:00,  2.70it/s]\n",
      "Week: E: 100%|█████████████████████████████████████████████████████████████████████████| 60/60 [00:22<00:00,  2.71it/s]\n"
     ]
    },
    {
     "name": "stdout",
     "output_type": "stream",
     "text": [
      "- month: N\n"
     ]
    },
    {
     "name": "stderr",
     "output_type": "stream",
     "text": [
      "Week: -:  15%|███████████                                                               | 9/60 [00:04<00:23,  2.15it/s]"
     ]
    },
    {
     "name": "stdout",
     "output_type": "stream",
     "text": [
      "Si82CN4\n",
      "Saved.\n"
     ]
    },
    {
     "name": "stderr",
     "output_type": "stream",
     "text": [
      "Week: -:  22%|███████████████▊                                                         | 13/60 [00:05<00:20,  2.31it/s]"
     ]
    },
    {
     "name": "stdout",
     "output_type": "stream",
     "text": [
      "Si84CN4\n",
      "Saved.\n"
     ]
    },
    {
     "name": "stderr",
     "output_type": "stream",
     "text": [
      "Week: -:  28%|████████████████████▋                                                    | 17/60 [00:08<00:26,  1.64it/s]"
     ]
    },
    {
     "name": "stdout",
     "output_type": "stream",
     "text": [
      "Si86CN4\n",
      "Saved.\n"
     ]
    },
    {
     "name": "stderr",
     "output_type": "stream",
     "text": [
      "Week: -:  35%|█████████████████████████▌                                               | 21/60 [00:11<00:27,  1.41it/s]"
     ]
    },
    {
     "name": "stdout",
     "output_type": "stream",
     "text": [
      "Si88CN4\n",
      "Saved.\n"
     ]
    },
    {
     "name": "stderr",
     "output_type": "stream",
     "text": [
      "Week: -:  42%|██████████████████████████████▍                                          | 25/60 [00:13<00:20,  1.69it/s]"
     ]
    },
    {
     "name": "stdout",
     "output_type": "stream",
     "text": [
      "Si90CN4\n",
      "Saved.\n"
     ]
    },
    {
     "name": "stderr",
     "output_type": "stream",
     "text": [
      "Week: -:  48%|███████████████████████████████████▎                                     | 29/60 [00:16<00:23,  1.30it/s]"
     ]
    },
    {
     "name": "stdout",
     "output_type": "stream",
     "text": [
      "Si92CN4\n",
      "Saved.\n"
     ]
    },
    {
     "name": "stderr",
     "output_type": "stream",
     "text": [
      "Week: -:  55%|████████████████████████████████████████▏                                | 33/60 [00:18<00:20,  1.32it/s]"
     ]
    },
    {
     "name": "stdout",
     "output_type": "stream",
     "text": [
      "Si94CN4\n",
      "Saved.\n"
     ]
    },
    {
     "name": "stderr",
     "output_type": "stream",
     "text": [
      "Week: -:  62%|█████████████████████████████████████████████                            | 37/60 [00:20<00:13,  1.70it/s]"
     ]
    },
    {
     "name": "stdout",
     "output_type": "stream",
     "text": [
      "Si96CN4\n",
      "Saved.\n"
     ]
    },
    {
     "name": "stderr",
     "output_type": "stream",
     "text": [
      "Week: -:  68%|█████████████████████████████████████████████████▉                       | 41/60 [00:22<00:10,  1.77it/s]"
     ]
    },
    {
     "name": "stdout",
     "output_type": "stream",
     "text": [
      "Si98CN4\n",
      "Saved.\n"
     ]
    },
    {
     "name": "stderr",
     "output_type": "stream",
     "text": [
      "Week: -:  75%|██████████████████████████████████████████████████████▊                  | 45/60 [00:24<00:07,  2.11it/s]"
     ]
    },
    {
     "name": "stdout",
     "output_type": "stream",
     "text": [
      "Si100CN4\n",
      "Saved.\n"
     ]
    },
    {
     "name": "stderr",
     "output_type": "stream",
     "text": [
      "Week: -: 100%|█████████████████████████████████████████████████████████████████████████| 60/60 [00:29<00:00,  2.05it/s]\n",
      "Week: A:  15%|███████████                                                               | 9/60 [00:03<00:18,  2.78it/s]"
     ]
    },
    {
     "name": "stdout",
     "output_type": "stream",
     "text": [
      "Si82CN4A\n",
      "Saved.\n"
     ]
    },
    {
     "name": "stderr",
     "output_type": "stream",
     "text": [
      "Week: A:  22%|███████████████▊                                                         | 13/60 [00:04<00:16,  2.80it/s]"
     ]
    },
    {
     "name": "stdout",
     "output_type": "stream",
     "text": [
      "Si84CN4A\n",
      "Saved.\n"
     ]
    },
    {
     "name": "stderr",
     "output_type": "stream",
     "text": [
      "Week: A:  28%|████████████████████▋                                                    | 17/60 [00:06<00:15,  2.75it/s]"
     ]
    },
    {
     "name": "stdout",
     "output_type": "stream",
     "text": [
      "Si86CN4A\n",
      "Saved.\n"
     ]
    },
    {
     "name": "stderr",
     "output_type": "stream",
     "text": [
      "Week: A:  35%|█████████████████████████▌                                               | 21/60 [00:07<00:16,  2.37it/s]"
     ]
    },
    {
     "name": "stdout",
     "output_type": "stream",
     "text": [
      "Si88CN4A\n",
      "Saved.\n"
     ]
    },
    {
     "name": "stderr",
     "output_type": "stream",
     "text": [
      "Week: A:  42%|██████████████████████████████▍                                          | 25/60 [00:09<00:20,  1.68it/s]"
     ]
    },
    {
     "name": "stdout",
     "output_type": "stream",
     "text": [
      "Si90CN4A\n",
      "Saved.\n"
     ]
    },
    {
     "name": "stderr",
     "output_type": "stream",
     "text": [
      "Week: A:  48%|███████████████████████████████████▎                                     | 29/60 [00:11<00:15,  2.02it/s]"
     ]
    },
    {
     "name": "stdout",
     "output_type": "stream",
     "text": [
      "Si92CN4A\n",
      "Saved.\n"
     ]
    },
    {
     "name": "stderr",
     "output_type": "stream",
     "text": [
      "Week: A:  55%|████████████████████████████████████████▏                                | 33/60 [00:13<00:15,  1.78it/s]"
     ]
    },
    {
     "name": "stdout",
     "output_type": "stream",
     "text": [
      "Si94CN4A\n",
      "Saved.\n"
     ]
    },
    {
     "name": "stderr",
     "output_type": "stream",
     "text": [
      "Week: A: 100%|█████████████████████████████████████████████████████████████████████████| 60/60 [00:22<00:00,  2.64it/s]\n",
      "Week: B:  15%|███████████                                                               | 9/60 [00:05<00:24,  2.09it/s]"
     ]
    },
    {
     "name": "stdout",
     "output_type": "stream",
     "text": [
      "Si82CN4B\n",
      "Saved.\n"
     ]
    },
    {
     "name": "stderr",
     "output_type": "stream",
     "text": [
      "Week: B:  35%|█████████████████████████▌                                               | 21/60 [00:09<00:16,  2.31it/s]"
     ]
    },
    {
     "name": "stdout",
     "output_type": "stream",
     "text": [
      "Si88CN4B\n",
      "Saved.\n"
     ]
    },
    {
     "name": "stderr",
     "output_type": "stream",
     "text": [
      "Week: B:  42%|██████████████████████████████▍                                          | 25/60 [00:10<00:13,  2.68it/s]"
     ]
    },
    {
     "name": "stdout",
     "output_type": "stream",
     "text": [
      "Si90CN4B\n",
      "Saved.\n"
     ]
    },
    {
     "name": "stderr",
     "output_type": "stream",
     "text": [
      "Week: B:  48%|███████████████████████████████████▎                                     | 29/60 [00:12<00:12,  2.45it/s]"
     ]
    },
    {
     "name": "stdout",
     "output_type": "stream",
     "text": [
      "Si92CN4B\n",
      "Saved.\n"
     ]
    },
    {
     "name": "stderr",
     "output_type": "stream",
     "text": [
      "Week: B:  55%|████████████████████████████████████████▏                                | 33/60 [00:13<00:10,  2.51it/s]"
     ]
    },
    {
     "name": "stdout",
     "output_type": "stream",
     "text": [
      "Si94CN4B\n",
      "Saved.\n"
     ]
    },
    {
     "name": "stderr",
     "output_type": "stream",
     "text": [
      "Week: B:  62%|█████████████████████████████████████████████                            | 37/60 [00:15<00:10,  2.26it/s]"
     ]
    },
    {
     "name": "stdout",
     "output_type": "stream",
     "text": [
      "Si96CN4B\n",
      "Saved.\n"
     ]
    },
    {
     "name": "stderr",
     "output_type": "stream",
     "text": [
      "Week: B:  68%|█████████████████████████████████████████████████▉                       | 41/60 [00:17<00:09,  2.08it/s]"
     ]
    },
    {
     "name": "stdout",
     "output_type": "stream",
     "text": [
      "Si98CN4B\n",
      "Saved.\n"
     ]
    },
    {
     "name": "stderr",
     "output_type": "stream",
     "text": [
      "Week: B:  75%|██████████████████████████████████████████████████████▊                  | 45/60 [00:19<00:07,  1.94it/s]"
     ]
    },
    {
     "name": "stdout",
     "output_type": "stream",
     "text": [
      "Si100CN4B\n",
      "Saved.\n"
     ]
    },
    {
     "name": "stderr",
     "output_type": "stream",
     "text": [
      "Week: B: 100%|█████████████████████████████████████████████████████████████████████████| 60/60 [00:25<00:00,  2.36it/s]\n",
      "Week: C: 100%|█████████████████████████████████████████████████████████████████████████| 60/60 [00:22<00:00,  2.67it/s]\n",
      "Week: D:  35%|█████████████████████████▌                                               | 21/60 [00:08<00:20,  1.92it/s]"
     ]
    },
    {
     "name": "stdout",
     "output_type": "stream",
     "text": [
      "Si88CN4D\n",
      "Saved.\n"
     ]
    },
    {
     "name": "stderr",
     "output_type": "stream",
     "text": [
      "Week: D:  42%|██████████████████████████████▍                                          | 25/60 [00:10<00:20,  1.67it/s]"
     ]
    },
    {
     "name": "stdout",
     "output_type": "stream",
     "text": [
      "Si90CN4D\n",
      "Saved.\n"
     ]
    },
    {
     "name": "stderr",
     "output_type": "stream",
     "text": [
      "Week: D:  48%|███████████████████████████████████▎                                     | 29/60 [00:12<00:14,  2.12it/s]"
     ]
    },
    {
     "name": "stdout",
     "output_type": "stream",
     "text": [
      "Si92CN4D\n",
      "Saved.\n"
     ]
    },
    {
     "name": "stderr",
     "output_type": "stream",
     "text": [
      "Week: D:  55%|████████████████████████████████████████▏                                | 33/60 [00:13<00:10,  2.49it/s]"
     ]
    },
    {
     "name": "stdout",
     "output_type": "stream",
     "text": [
      "Si94CN4D\n",
      "Saved.\n"
     ]
    },
    {
     "name": "stderr",
     "output_type": "stream",
     "text": [
      "Week: D:  62%|█████████████████████████████████████████████                            | 37/60 [00:15<00:09,  2.54it/s]"
     ]
    },
    {
     "name": "stdout",
     "output_type": "stream",
     "text": [
      "Si96CN4D\n",
      "Saved.\n"
     ]
    },
    {
     "name": "stderr",
     "output_type": "stream",
     "text": [
      "Week: D: 100%|█████████████████████████████████████████████████████████████████████████| 60/60 [00:23<00:00,  2.56it/s]\n",
      "Week: E:  35%|█████████████████████████▌                                               | 21/60 [00:07<00:14,  2.72it/s]"
     ]
    },
    {
     "name": "stdout",
     "output_type": "stream",
     "text": [
      "Si88CN4E\n",
      "Saved.\n"
     ]
    },
    {
     "name": "stderr",
     "output_type": "stream",
     "text": [
      "Week: E:  42%|██████████████████████████████▍                                          | 25/60 [00:08<00:12,  2.77it/s]"
     ]
    },
    {
     "name": "stdout",
     "output_type": "stream",
     "text": [
      "Si90CN4E\n",
      "Saved.\n"
     ]
    },
    {
     "name": "stderr",
     "output_type": "stream",
     "text": [
      "Week: E:  48%|███████████████████████████████████▎                                     | 29/60 [00:10<00:11,  2.73it/s]"
     ]
    },
    {
     "name": "stdout",
     "output_type": "stream",
     "text": [
      "Si92CN4E\n",
      "Saved.\n"
     ]
    },
    {
     "name": "stderr",
     "output_type": "stream",
     "text": [
      "Week: E:  55%|████████████████████████████████████████▏                                | 33/60 [00:11<00:10,  2.59it/s]"
     ]
    },
    {
     "name": "stdout",
     "output_type": "stream",
     "text": [
      "Si94CN4E\n",
      "Saved.\n"
     ]
    },
    {
     "name": "stderr",
     "output_type": "stream",
     "text": [
      "Week: E:  62%|█████████████████████████████████████████████                            | 37/60 [00:14<00:18,  1.25it/s]"
     ]
    },
    {
     "name": "stdout",
     "output_type": "stream",
     "text": [
      "Si96CN4E\n",
      "Saved.\n"
     ]
    },
    {
     "name": "stderr",
     "output_type": "stream",
     "text": [
      "Week: E:  68%|█████████████████████████████████████████████████▉                       | 41/60 [00:15<00:08,  2.14it/s]"
     ]
    },
    {
     "name": "stdout",
     "output_type": "stream",
     "text": [
      "Si98CN4E\n",
      "Saved.\n"
     ]
    },
    {
     "name": "stderr",
     "output_type": "stream",
     "text": [
      "Week: E:  75%|██████████████████████████████████████████████████████▊                  | 45/60 [00:17<00:05,  2.71it/s]"
     ]
    },
    {
     "name": "stdout",
     "output_type": "stream",
     "text": [
      "Si100CN4E\n",
      "Saved.\n"
     ]
    },
    {
     "name": "stderr",
     "output_type": "stream",
     "text": [
      "Week: E: 100%|█████████████████████████████████████████████████████████████████████████| 60/60 [00:22<00:00,  2.69it/s]\n"
     ]
    },
    {
     "name": "stdout",
     "output_type": "stream",
     "text": [
      "- month: O\n"
     ]
    },
    {
     "name": "stderr",
     "output_type": "stream",
     "text": [
      "Week: -:   2%|█▏                                                                        | 1/60 [00:00<00:29,  2.00it/s]"
     ]
    },
    {
     "name": "stdout",
     "output_type": "stream",
     "text": [
      "Si78CO4\n",
      "Saved.\n"
     ]
    },
    {
     "name": "stderr",
     "output_type": "stream",
     "text": [
      "Week: -:  15%|███████████                                                               | 9/60 [00:03<00:20,  2.50it/s]"
     ]
    },
    {
     "name": "stdout",
     "output_type": "stream",
     "text": [
      "Si82CO4\n",
      "Saved.\n"
     ]
    },
    {
     "name": "stderr",
     "output_type": "stream",
     "text": [
      "Week: -:  22%|███████████████▊                                                         | 13/60 [00:04<00:18,  2.48it/s]"
     ]
    },
    {
     "name": "stdout",
     "output_type": "stream",
     "text": [
      "Si84CO4\n",
      "Saved.\n"
     ]
    },
    {
     "name": "stderr",
     "output_type": "stream",
     "text": [
      "Week: -:  28%|████████████████████▋                                                    | 17/60 [00:06<00:19,  2.19it/s]"
     ]
    },
    {
     "name": "stdout",
     "output_type": "stream",
     "text": [
      "Si86CO4\n",
      "Saved.\n"
     ]
    },
    {
     "name": "stderr",
     "output_type": "stream",
     "text": [
      "Week: -:  35%|█████████████████████████▌                                               | 21/60 [00:08<00:15,  2.56it/s]"
     ]
    },
    {
     "name": "stdout",
     "output_type": "stream",
     "text": [
      "Si88CO4\n",
      "Saved.\n"
     ]
    },
    {
     "name": "stderr",
     "output_type": "stream",
     "text": [
      "Week: -:  42%|██████████████████████████████▍                                          | 25/60 [00:09<00:15,  2.28it/s]"
     ]
    },
    {
     "name": "stdout",
     "output_type": "stream",
     "text": [
      "Si90CO4\n",
      "Saved.\n"
     ]
    },
    {
     "name": "stderr",
     "output_type": "stream",
     "text": [
      "Week: -:  48%|███████████████████████████████████▎                                     | 29/60 [00:11<00:15,  2.01it/s]"
     ]
    },
    {
     "name": "stdout",
     "output_type": "stream",
     "text": [
      "Si92CO4\n",
      "Saved.\n"
     ]
    },
    {
     "name": "stderr",
     "output_type": "stream",
     "text": [
      "Week: -:  55%|████████████████████████████████████████▏                                | 33/60 [00:13<00:12,  2.23it/s]"
     ]
    },
    {
     "name": "stdout",
     "output_type": "stream",
     "text": [
      "Si94CO4\n",
      "Saved.\n"
     ]
    },
    {
     "name": "stderr",
     "output_type": "stream",
     "text": [
      "Week: -:  62%|█████████████████████████████████████████████                            | 37/60 [00:15<00:14,  1.54it/s]"
     ]
    },
    {
     "name": "stdout",
     "output_type": "stream",
     "text": [
      "Si96CO4\n",
      "Saved.\n"
     ]
    },
    {
     "name": "stderr",
     "output_type": "stream",
     "text": [
      "Week: -:  68%|█████████████████████████████████████████████████▉                       | 41/60 [00:17<00:11,  1.71it/s]"
     ]
    },
    {
     "name": "stdout",
     "output_type": "stream",
     "text": [
      "Si98CO4\n",
      "Saved.\n"
     ]
    },
    {
     "name": "stderr",
     "output_type": "stream",
     "text": [
      "Week: -:  75%|██████████████████████████████████████████████████████▊                  | 45/60 [00:19<00:08,  1.79it/s]"
     ]
    },
    {
     "name": "stdout",
     "output_type": "stream",
     "text": [
      "Si100CO4\n",
      "Saved.\n"
     ]
    },
    {
     "name": "stderr",
     "output_type": "stream",
     "text": [
      "Week: -:  82%|███████████████████████████████████████████████████████████▌             | 49/60 [00:21<00:05,  1.98it/s]"
     ]
    },
    {
     "name": "stdout",
     "output_type": "stream",
     "text": [
      "Si102CO4\n",
      "Saved.\n"
     ]
    },
    {
     "name": "stderr",
     "output_type": "stream",
     "text": [
      "Week: -:  88%|████████████████████████████████████████████████████████████████▍        | 53/60 [00:23<00:03,  2.13it/s]"
     ]
    },
    {
     "name": "stdout",
     "output_type": "stream",
     "text": [
      "Si104CO4\n",
      "Saved.\n"
     ]
    },
    {
     "name": "stderr",
     "output_type": "stream",
     "text": [
      "Week: -: 100%|█████████████████████████████████████████████████████████████████████████| 60/60 [00:26<00:00,  2.28it/s]\n",
      "Week: A:  28%|████████████████████▋                                                    | 17/60 [00:06<00:16,  2.65it/s]"
     ]
    },
    {
     "name": "stdout",
     "output_type": "stream",
     "text": [
      "Si86CO4A\n",
      "Saved.\n"
     ]
    },
    {
     "name": "stderr",
     "output_type": "stream",
     "text": [
      "Week: A:  35%|█████████████████████████▌                                               | 21/60 [00:07<00:13,  2.80it/s]"
     ]
    },
    {
     "name": "stdout",
     "output_type": "stream",
     "text": [
      "Si88CO4A\n",
      "Saved.\n"
     ]
    },
    {
     "name": "stderr",
     "output_type": "stream",
     "text": [
      "Week: A:  42%|██████████████████████████████▍                                          | 25/60 [00:08<00:13,  2.50it/s]"
     ]
    },
    {
     "name": "stdout",
     "output_type": "stream",
     "text": [
      "Si90CO4A\n",
      "Saved.\n"
     ]
    },
    {
     "name": "stderr",
     "output_type": "stream",
     "text": [
      "Week: A:  48%|███████████████████████████████████▎                                     | 29/60 [00:10<00:12,  2.56it/s]"
     ]
    },
    {
     "name": "stdout",
     "output_type": "stream",
     "text": [
      "Si92CO4A\n",
      "Saved.\n"
     ]
    },
    {
     "name": "stderr",
     "output_type": "stream",
     "text": [
      "Week: A:  55%|████████████████████████████████████████▏                                | 33/60 [00:11<00:09,  2.93it/s]"
     ]
    },
    {
     "name": "stdout",
     "output_type": "stream",
     "text": [
      "Si94CO4A\n",
      "Saved.\n"
     ]
    },
    {
     "name": "stderr",
     "output_type": "stream",
     "text": [
      "Week: A:  62%|█████████████████████████████████████████████                            | 37/60 [00:12<00:07,  2.90it/s]"
     ]
    },
    {
     "name": "stdout",
     "output_type": "stream",
     "text": [
      "Si96CO4A\n",
      "Saved.\n"
     ]
    },
    {
     "name": "stderr",
     "output_type": "stream",
     "text": [
      "Week: A:  68%|█████████████████████████████████████████████████▉                       | 41/60 [00:14<00:06,  2.85it/s]"
     ]
    },
    {
     "name": "stdout",
     "output_type": "stream",
     "text": [
      "Si98CO4A\n",
      "Saved.\n"
     ]
    },
    {
     "name": "stderr",
     "output_type": "stream",
     "text": [
      "Week: A: 100%|█████████████████████████████████████████████████████████████████████████| 60/60 [00:20<00:00,  2.94it/s]\n",
      "Week: B:   8%|██████▏                                                                   | 5/60 [00:01<00:17,  3.21it/s]"
     ]
    },
    {
     "name": "stdout",
     "output_type": "stream",
     "text": [
      "Si80CO4B\n",
      "Saved.\n"
     ]
    },
    {
     "name": "stderr",
     "output_type": "stream",
     "text": [
      "Week: B:  15%|███████████                                                               | 9/60 [00:03<00:19,  2.60it/s]"
     ]
    },
    {
     "name": "stdout",
     "output_type": "stream",
     "text": [
      "Si82CO4B\n",
      "Saved.\n"
     ]
    },
    {
     "name": "stderr",
     "output_type": "stream",
     "text": [
      "Week: B:  28%|████████████████████▋                                                    | 17/60 [00:05<00:14,  2.93it/s]"
     ]
    },
    {
     "name": "stdout",
     "output_type": "stream",
     "text": [
      "Si86CO4B\n",
      "Saved.\n"
     ]
    },
    {
     "name": "stderr",
     "output_type": "stream",
     "text": [
      "Week: B:  35%|█████████████████████████▌                                               | 21/60 [00:07<00:13,  2.82it/s]"
     ]
    },
    {
     "name": "stdout",
     "output_type": "stream",
     "text": [
      "Si88CO4B\n",
      "Saved.\n"
     ]
    },
    {
     "name": "stderr",
     "output_type": "stream",
     "text": [
      "Week: B:  42%|██████████████████████████████▍                                          | 25/60 [00:08<00:13,  2.57it/s]"
     ]
    },
    {
     "name": "stdout",
     "output_type": "stream",
     "text": [
      "Si90CO4B\n",
      "Saved.\n"
     ]
    },
    {
     "name": "stderr",
     "output_type": "stream",
     "text": [
      "Week: B:  48%|███████████████████████████████████▎                                     | 29/60 [00:10<00:13,  2.24it/s]"
     ]
    },
    {
     "name": "stdout",
     "output_type": "stream",
     "text": [
      "Si92CO4B\n",
      "Saved.\n"
     ]
    },
    {
     "name": "stderr",
     "output_type": "stream",
     "text": [
      "Week: B:  55%|████████████████████████████████████████▏                                | 33/60 [00:11<00:09,  2.90it/s]"
     ]
    },
    {
     "name": "stdout",
     "output_type": "stream",
     "text": [
      "Si94CO4B\n",
      "Saved.\n"
     ]
    },
    {
     "name": "stderr",
     "output_type": "stream",
     "text": [
      "Week: B:  62%|█████████████████████████████████████████████                            | 37/60 [00:12<00:07,  2.97it/s]"
     ]
    },
    {
     "name": "stdout",
     "output_type": "stream",
     "text": [
      "Si96CO4B\n",
      "Saved.\n"
     ]
    },
    {
     "name": "stderr",
     "output_type": "stream",
     "text": [
      "Week: B:  68%|█████████████████████████████████████████████████▉                       | 41/60 [00:14<00:06,  2.92it/s]"
     ]
    },
    {
     "name": "stdout",
     "output_type": "stream",
     "text": [
      "Si98CO4B\n",
      "Saved.\n"
     ]
    },
    {
     "name": "stderr",
     "output_type": "stream",
     "text": [
      "Week: B: 100%|█████████████████████████████████████████████████████████████████████████| 60/60 [00:20<00:00,  2.95it/s]\n",
      "Week: C: 100%|█████████████████████████████████████████████████████████████████████████| 60/60 [00:20<00:00,  2.94it/s]\n",
      "Week: D:  35%|█████████████████████████▌                                               | 21/60 [00:07<00:14,  2.70it/s]"
     ]
    },
    {
     "name": "stdout",
     "output_type": "stream",
     "text": [
      "Si88CO4D\n",
      "Saved.\n"
     ]
    },
    {
     "name": "stderr",
     "output_type": "stream",
     "text": [
      "Week: D:  42%|██████████████████████████████▍                                          | 25/60 [00:08<00:14,  2.43it/s]"
     ]
    },
    {
     "name": "stdout",
     "output_type": "stream",
     "text": [
      "Si90CO4D\n",
      "Saved.\n"
     ]
    },
    {
     "name": "stderr",
     "output_type": "stream",
     "text": [
      "Week: D:  48%|███████████████████████████████████▎                                     | 29/60 [00:10<00:11,  2.82it/s]"
     ]
    },
    {
     "name": "stdout",
     "output_type": "stream",
     "text": [
      "Si92CO4D\n",
      "Saved.\n"
     ]
    },
    {
     "name": "stderr",
     "output_type": "stream",
     "text": [
      "Week: D:  55%|████████████████████████████████████████▏                                | 33/60 [00:12<00:12,  2.19it/s]"
     ]
    },
    {
     "name": "stdout",
     "output_type": "stream",
     "text": [
      "Si94CO4D\n",
      "Saved.\n"
     ]
    },
    {
     "name": "stderr",
     "output_type": "stream",
     "text": [
      "Week: D:  62%|█████████████████████████████████████████████                            | 37/60 [00:13<00:10,  2.25it/s]"
     ]
    },
    {
     "name": "stdout",
     "output_type": "stream",
     "text": [
      "Si96CO4D\n",
      "Saved.\n"
     ]
    },
    {
     "name": "stderr",
     "output_type": "stream",
     "text": [
      "Week: D:  68%|█████████████████████████████████████████████████▉                       | 41/60 [00:15<00:07,  2.48it/s]"
     ]
    },
    {
     "name": "stdout",
     "output_type": "stream",
     "text": [
      "Si98CO4D\n",
      "Saved.\n"
     ]
    },
    {
     "name": "stderr",
     "output_type": "stream",
     "text": [
      "Week: D:  75%|██████████████████████████████████████████████████████▊                  | 45/60 [00:16<00:05,  2.59it/s]"
     ]
    },
    {
     "name": "stdout",
     "output_type": "stream",
     "text": [
      "Si100CO4D\n",
      "Saved.\n"
     ]
    },
    {
     "name": "stderr",
     "output_type": "stream",
     "text": [
      "Week: D:  82%|███████████████████████████████████████████████████████████▌             | 49/60 [00:18<00:04,  2.38it/s]"
     ]
    },
    {
     "name": "stdout",
     "output_type": "stream",
     "text": [
      "Si102CO4D\n",
      "Saved.\n"
     ]
    },
    {
     "name": "stderr",
     "output_type": "stream",
     "text": [
      "Week: D: 100%|█████████████████████████████████████████████████████████████████████████| 60/60 [00:21<00:00,  2.74it/s]\n",
      "Week: E: 100%|█████████████████████████████████████████████████████████████████████████| 60/60 [00:19<00:00,  3.11it/s]\n"
     ]
    },
    {
     "name": "stdout",
     "output_type": "stream",
     "text": [
      "- month: P\n"
     ]
    },
    {
     "name": "stderr",
     "output_type": "stream",
     "text": [
      "Week: -:  28%|████████████████████▋                                                    | 17/60 [00:06<00:17,  2.49it/s]"
     ]
    },
    {
     "name": "stdout",
     "output_type": "stream",
     "text": [
      "Si86CP4\n",
      "Saved.\n"
     ]
    },
    {
     "name": "stderr",
     "output_type": "stream",
     "text": [
      "Week: -:  35%|█████████████████████████▌                                               | 21/60 [00:07<00:19,  1.98it/s]"
     ]
    },
    {
     "name": "stdout",
     "output_type": "stream",
     "text": [
      "Si88CP4\n",
      "Saved.\n"
     ]
    },
    {
     "name": "stderr",
     "output_type": "stream",
     "text": [
      "Week: -:  42%|██████████████████████████████▍                                          | 25/60 [00:11<00:27,  1.26it/s]"
     ]
    },
    {
     "name": "stdout",
     "output_type": "stream",
     "text": [
      "Si90CP4\n",
      "Saved.\n"
     ]
    },
    {
     "name": "stderr",
     "output_type": "stream",
     "text": [
      "Week: -:  48%|███████████████████████████████████▎                                     | 29/60 [00:13<00:16,  1.89it/s]"
     ]
    },
    {
     "name": "stdout",
     "output_type": "stream",
     "text": [
      "Si92CP4\n",
      "Saved.\n"
     ]
    },
    {
     "name": "stderr",
     "output_type": "stream",
     "text": [
      "Week: -:  55%|████████████████████████████████████████▏                                | 33/60 [00:14<00:10,  2.49it/s]"
     ]
    },
    {
     "name": "stdout",
     "output_type": "stream",
     "text": [
      "Si94CP4\n",
      "Saved.\n"
     ]
    },
    {
     "name": "stderr",
     "output_type": "stream",
     "text": [
      "Week: -:  62%|█████████████████████████████████████████████                            | 37/60 [00:16<00:08,  2.67it/s]"
     ]
    },
    {
     "name": "stdout",
     "output_type": "stream",
     "text": [
      "Si96CP4\n",
      "Saved.\n"
     ]
    },
    {
     "name": "stderr",
     "output_type": "stream",
     "text": [
      "Week: -:  68%|█████████████████████████████████████████████████▉                       | 41/60 [00:18<00:12,  1.54it/s]"
     ]
    },
    {
     "name": "stdout",
     "output_type": "stream",
     "text": [
      "Si98CP4\n",
      "Saved.\n"
     ]
    },
    {
     "name": "stderr",
     "output_type": "stream",
     "text": [
      "Week: -:  75%|██████████████████████████████████████████████████████▊                  | 45/60 [00:19<00:06,  2.24it/s]"
     ]
    },
    {
     "name": "stdout",
     "output_type": "stream",
     "text": [
      "Si100CP4\n",
      "Saved.\n"
     ]
    },
    {
     "name": "stderr",
     "output_type": "stream",
     "text": [
      "Week: -: 100%|█████████████████████████████████████████████████████████████████████████| 60/60 [00:25<00:00,  2.36it/s]\n",
      "Week: A:  28%|████████████████████▋                                                    | 17/60 [00:05<00:14,  2.98it/s]"
     ]
    },
    {
     "name": "stdout",
     "output_type": "stream",
     "text": [
      "Si86CP4A\n",
      "Saved.\n"
     ]
    },
    {
     "name": "stderr",
     "output_type": "stream",
     "text": [
      "Week: A:  35%|█████████████████████████▌                                               | 21/60 [00:06<00:13,  2.81it/s]"
     ]
    },
    {
     "name": "stdout",
     "output_type": "stream",
     "text": [
      "Si88CP4A\n",
      "Saved.\n"
     ]
    },
    {
     "name": "stderr",
     "output_type": "stream",
     "text": [
      "Week: A:  42%|██████████████████████████████▍                                          | 25/60 [00:08<00:12,  2.82it/s]"
     ]
    },
    {
     "name": "stdout",
     "output_type": "stream",
     "text": [
      "Si90CP4A\n",
      "Saved.\n"
     ]
    },
    {
     "name": "stderr",
     "output_type": "stream",
     "text": [
      "Week: A:  48%|███████████████████████████████████▎                                     | 29/60 [00:09<00:12,  2.46it/s]"
     ]
    },
    {
     "name": "stdout",
     "output_type": "stream",
     "text": [
      "Si92CP4A\n",
      "Saved.\n"
     ]
    },
    {
     "name": "stderr",
     "output_type": "stream",
     "text": [
      "Week: A:  55%|████████████████████████████████████████▏                                | 33/60 [00:10<00:10,  2.68it/s]"
     ]
    },
    {
     "name": "stdout",
     "output_type": "stream",
     "text": [
      "Si94CP4A\n",
      "Saved.\n"
     ]
    },
    {
     "name": "stderr",
     "output_type": "stream",
     "text": [
      "Week: A:  62%|█████████████████████████████████████████████                            | 37/60 [00:12<00:09,  2.41it/s]"
     ]
    },
    {
     "name": "stdout",
     "output_type": "stream",
     "text": [
      "Si96CP4A\n",
      "Saved.\n"
     ]
    },
    {
     "name": "stderr",
     "output_type": "stream",
     "text": [
      "Week: A: 100%|█████████████████████████████████████████████████████████████████████████| 60/60 [00:22<00:00,  2.63it/s]\n",
      "Week: B:  15%|███████████                                                               | 9/60 [00:03<00:22,  2.29it/s]"
     ]
    },
    {
     "name": "stdout",
     "output_type": "stream",
     "text": [
      "Si82CP4B\n",
      "Saved.\n"
     ]
    },
    {
     "name": "stderr",
     "output_type": "stream",
     "text": [
      "Week: B:  42%|██████████████████████████████▍                                          | 25/60 [00:09<00:11,  3.11it/s]"
     ]
    },
    {
     "name": "stdout",
     "output_type": "stream",
     "text": [
      "Si90CP4B\n",
      "Saved.\n"
     ]
    },
    {
     "name": "stderr",
     "output_type": "stream",
     "text": [
      "Week: B:  48%|███████████████████████████████████▎                                     | 29/60 [00:10<00:14,  2.13it/s]"
     ]
    },
    {
     "name": "stdout",
     "output_type": "stream",
     "text": [
      "Si92CP4B\n",
      "Saved.\n"
     ]
    },
    {
     "name": "stderr",
     "output_type": "stream",
     "text": [
      "Week: B:  55%|████████████████████████████████████████▏                                | 33/60 [00:12<00:10,  2.47it/s]"
     ]
    },
    {
     "name": "stdout",
     "output_type": "stream",
     "text": [
      "Si94CP4B\n",
      "Saved.\n"
     ]
    },
    {
     "name": "stderr",
     "output_type": "stream",
     "text": [
      "Week: B:  62%|█████████████████████████████████████████████                            | 37/60 [00:13<00:07,  2.91it/s]"
     ]
    },
    {
     "name": "stdout",
     "output_type": "stream",
     "text": [
      "Si96CP4B\n",
      "Saved.\n"
     ]
    },
    {
     "name": "stderr",
     "output_type": "stream",
     "text": [
      "Week: B: 100%|█████████████████████████████████████████████████████████████████████████| 60/60 [00:20<00:00,  2.91it/s]\n",
      "Week: C: 100%|█████████████████████████████████████████████████████████████████████████| 60/60 [00:19<00:00,  3.14it/s]\n",
      "Week: D:  35%|█████████████████████████▌                                               | 21/60 [00:06<00:14,  2.68it/s]"
     ]
    },
    {
     "name": "stdout",
     "output_type": "stream",
     "text": [
      "Si88CP4D\n",
      "Saved.\n"
     ]
    },
    {
     "name": "stderr",
     "output_type": "stream",
     "text": [
      "Week: D:  42%|██████████████████████████████▍                                          | 25/60 [00:08<00:14,  2.41it/s]"
     ]
    },
    {
     "name": "stdout",
     "output_type": "stream",
     "text": [
      "Si90CP4D\n",
      "Saved.\n"
     ]
    },
    {
     "name": "stderr",
     "output_type": "stream",
     "text": [
      "Week: D:  48%|███████████████████████████████████▎                                     | 29/60 [00:10<00:12,  2.52it/s]"
     ]
    },
    {
     "name": "stdout",
     "output_type": "stream",
     "text": [
      "Si92CP4D\n",
      "Saved.\n"
     ]
    },
    {
     "name": "stderr",
     "output_type": "stream",
     "text": [
      "Week: D:  50%|████████████████████████████████████▌                                    | 30/60 [00:10<00:11,  2.66it/s]"
     ]
    },
    {
     "name": "stdout",
     "output_type": "stream",
     "text": [
      "Si92.5CP4D\n",
      "Saved.\n"
     ]
    },
    {
     "name": "stderr",
     "output_type": "stream",
     "text": [
      "Week: D:  55%|████████████████████████████████████████▏                                | 33/60 [00:11<00:09,  2.72it/s]"
     ]
    },
    {
     "name": "stdout",
     "output_type": "stream",
     "text": [
      "Si94CP4D\n",
      "Saved.\n"
     ]
    },
    {
     "name": "stderr",
     "output_type": "stream",
     "text": [
      "Week: D:  62%|█████████████████████████████████████████████                            | 37/60 [00:12<00:08,  2.71it/s]"
     ]
    },
    {
     "name": "stdout",
     "output_type": "stream",
     "text": [
      "Si96CP4D\n",
      "Saved.\n"
     ]
    },
    {
     "name": "stderr",
     "output_type": "stream",
     "text": [
      "Week: D:  68%|█████████████████████████████████████████████████▉                       | 41/60 [00:14<00:06,  2.89it/s]"
     ]
    },
    {
     "name": "stdout",
     "output_type": "stream",
     "text": [
      "Si98CP4D\n",
      "Saved.\n"
     ]
    },
    {
     "name": "stderr",
     "output_type": "stream",
     "text": [
      "Week: D:  75%|██████████████████████████████████████████████████████▊                  | 45/60 [00:15<00:05,  2.80it/s]"
     ]
    },
    {
     "name": "stdout",
     "output_type": "stream",
     "text": [
      "Si100CP4D\n",
      "Saved.\n"
     ]
    },
    {
     "name": "stderr",
     "output_type": "stream",
     "text": [
      "Week: D: 100%|█████████████████████████████████████████████████████████████████████████| 60/60 [00:20<00:00,  2.91it/s]\n",
      "Week: E: 100%|█████████████████████████████████████████████████████████████████████████| 60/60 [00:19<00:00,  3.15it/s]\n"
     ]
    },
    {
     "name": "stdout",
     "output_type": "stream",
     "text": [
      "- month: Q\n"
     ]
    },
    {
     "name": "stderr",
     "output_type": "stream",
     "text": [
      "Week: -:  35%|█████████████████████████▌                                               | 21/60 [00:07<00:17,  2.24it/s]"
     ]
    },
    {
     "name": "stdout",
     "output_type": "stream",
     "text": [
      "Si88CQ4\n",
      "Saved.\n"
     ]
    },
    {
     "name": "stderr",
     "output_type": "stream",
     "text": [
      "Week: -:  38%|███████████████████████████▉                                             | 23/60 [00:08<00:15,  2.45it/s]"
     ]
    },
    {
     "name": "stdout",
     "output_type": "stream",
     "text": [
      "Si89CQ4\n",
      "Saved.\n"
     ]
    },
    {
     "name": "stderr",
     "output_type": "stream",
     "text": [
      "Week: -:  42%|██████████████████████████████▍                                          | 25/60 [00:09<00:14,  2.45it/s]"
     ]
    },
    {
     "name": "stdout",
     "output_type": "stream",
     "text": [
      "Si90CQ4\n",
      "Saved.\n"
     ]
    },
    {
     "name": "stderr",
     "output_type": "stream",
     "text": [
      "Week: -:  43%|███████████████████████████████▋                                         | 26/60 [00:09<00:13,  2.45it/s]"
     ]
    },
    {
     "name": "stdout",
     "output_type": "stream",
     "text": [
      "Si90.5CQ4\n",
      "Saved.\n"
     ]
    },
    {
     "name": "stderr",
     "output_type": "stream",
     "text": [
      "Week: -:  45%|████████████████████████████████▊                                        | 27/60 [00:10<00:13,  2.50it/s]"
     ]
    },
    {
     "name": "stdout",
     "output_type": "stream",
     "text": [
      "Si91CQ4\n",
      "Saved.\n"
     ]
    },
    {
     "name": "stderr",
     "output_type": "stream",
     "text": [
      "Week: -:  47%|██████████████████████████████████                                       | 28/60 [00:10<00:13,  2.43it/s]"
     ]
    },
    {
     "name": "stdout",
     "output_type": "stream",
     "text": [
      "Si91.5CQ4\n",
      "Saved.\n"
     ]
    },
    {
     "name": "stderr",
     "output_type": "stream",
     "text": [
      "Week: -:  48%|███████████████████████████████████▎                                     | 29/60 [00:11<00:16,  1.89it/s]"
     ]
    },
    {
     "name": "stdout",
     "output_type": "stream",
     "text": [
      "Si92CQ4\n",
      "Saved.\n"
     ]
    },
    {
     "name": "stderr",
     "output_type": "stream",
     "text": [
      "Week: -:  50%|████████████████████████████████████▌                                    | 30/60 [00:11<00:14,  2.05it/s]"
     ]
    },
    {
     "name": "stdout",
     "output_type": "stream",
     "text": [
      "Si92.5CQ4\n",
      "Saved.\n"
     ]
    },
    {
     "name": "stderr",
     "output_type": "stream",
     "text": [
      "Week: -:  52%|█████████████████████████████████████▋                                   | 31/60 [00:12<00:13,  2.22it/s]"
     ]
    },
    {
     "name": "stdout",
     "output_type": "stream",
     "text": [
      "Si93CQ4\n",
      "Saved.\n"
     ]
    },
    {
     "name": "stderr",
     "output_type": "stream",
     "text": [
      "Week: -:  53%|██████████████████████████████████████▉                                  | 32/60 [00:12<00:12,  2.26it/s]"
     ]
    },
    {
     "name": "stdout",
     "output_type": "stream",
     "text": [
      "Si93.5CQ4\n",
      "Saved.\n"
     ]
    },
    {
     "name": "stderr",
     "output_type": "stream",
     "text": [
      "Week: -:  55%|████████████████████████████████████████▏                                | 33/60 [00:13<00:13,  2.01it/s]"
     ]
    },
    {
     "name": "stdout",
     "output_type": "stream",
     "text": [
      "Si94CQ4\n",
      "Saved.\n"
     ]
    },
    {
     "name": "stderr",
     "output_type": "stream",
     "text": [
      "Week: -:  57%|█████████████████████████████████████████▎                               | 34/60 [00:13<00:12,  2.03it/s]"
     ]
    },
    {
     "name": "stdout",
     "output_type": "stream",
     "text": [
      "Si94.5CQ4\n",
      "Saved.\n"
     ]
    },
    {
     "name": "stderr",
     "output_type": "stream",
     "text": [
      "Week: -:  58%|██████████████████████████████████████████▌                              | 35/60 [00:14<00:12,  1.98it/s]"
     ]
    },
    {
     "name": "stdout",
     "output_type": "stream",
     "text": [
      "Si95CQ4\n",
      "Saved.\n"
     ]
    },
    {
     "name": "stderr",
     "output_type": "stream",
     "text": [
      "Week: -:  68%|█████████████████████████████████████████████████▉                       | 41/60 [00:16<00:07,  2.55it/s]"
     ]
    },
    {
     "name": "stdout",
     "output_type": "stream",
     "text": [
      "Si98CQ4\n",
      "Saved.\n"
     ]
    },
    {
     "name": "stderr",
     "output_type": "stream",
     "text": [
      "Week: -:  75%|██████████████████████████████████████████████████████▊                  | 45/60 [00:18<00:06,  2.31it/s]"
     ]
    },
    {
     "name": "stdout",
     "output_type": "stream",
     "text": [
      "Si100CQ4\n",
      "Saved.\n"
     ]
    },
    {
     "name": "stderr",
     "output_type": "stream",
     "text": [
      "Week: -:  82%|███████████████████████████████████████████████████████████▌             | 49/60 [00:19<00:04,  2.50it/s]"
     ]
    },
    {
     "name": "stdout",
     "output_type": "stream",
     "text": [
      "Si102CQ4\n",
      "Saved.\n"
     ]
    },
    {
     "name": "stderr",
     "output_type": "stream",
     "text": [
      "Week: -: 100%|█████████████████████████████████████████████████████████████████████████| 60/60 [00:23<00:00,  2.58it/s]\n",
      "Week: A:  45%|████████████████████████████████▊                                        | 27/60 [00:08<00:11,  2.91it/s]"
     ]
    },
    {
     "name": "stdout",
     "output_type": "stream",
     "text": [
      "Si91CQ4A\n",
      "Saved.\n"
     ]
    },
    {
     "name": "stderr",
     "output_type": "stream",
     "text": [
      "Week: A:  47%|██████████████████████████████████                                       | 28/60 [00:09<00:10,  2.95it/s]"
     ]
    },
    {
     "name": "stdout",
     "output_type": "stream",
     "text": [
      "Si91.5CQ4A\n",
      "Saved.\n"
     ]
    },
    {
     "name": "stderr",
     "output_type": "stream",
     "text": [
      "Week: A:  48%|███████████████████████████████████▎                                     | 29/60 [00:09<00:11,  2.79it/s]"
     ]
    },
    {
     "name": "stdout",
     "output_type": "stream",
     "text": [
      "Si92CQ4A\n",
      "Saved.\n"
     ]
    },
    {
     "name": "stderr",
     "output_type": "stream",
     "text": [
      "Week: A:  50%|████████████████████████████████████▌                                    | 30/60 [00:10<00:10,  2.82it/s]"
     ]
    },
    {
     "name": "stdout",
     "output_type": "stream",
     "text": [
      "Si92.5CQ4A\n",
      "Saved.\n"
     ]
    },
    {
     "name": "stderr",
     "output_type": "stream",
     "text": [
      "Week: A:  52%|█████████████████████████████████████▋                                   | 31/60 [00:10<00:11,  2.59it/s]"
     ]
    },
    {
     "name": "stdout",
     "output_type": "stream",
     "text": [
      "Si93CQ4A\n",
      "Saved.\n"
     ]
    },
    {
     "name": "stderr",
     "output_type": "stream",
     "text": [
      "Week: A:  53%|██████████████████████████████████████▉                                  | 32/60 [00:10<00:11,  2.47it/s]"
     ]
    },
    {
     "name": "stdout",
     "output_type": "stream",
     "text": [
      "Si93.5CQ4A\n",
      "Saved.\n"
     ]
    },
    {
     "name": "stderr",
     "output_type": "stream",
     "text": [
      "Week: A:  55%|████████████████████████████████████████▏                                | 33/60 [00:11<00:10,  2.46it/s]"
     ]
    },
    {
     "name": "stdout",
     "output_type": "stream",
     "text": [
      "Si94CQ4A\n",
      "Saved.\n"
     ]
    },
    {
     "name": "stderr",
     "output_type": "stream",
     "text": [
      "Week: A:  58%|██████████████████████████████████████████▌                              | 35/60 [00:11<00:09,  2.69it/s]"
     ]
    },
    {
     "name": "stdout",
     "output_type": "stream",
     "text": [
      "Si95CQ4A\n",
      "Saved.\n"
     ]
    },
    {
     "name": "stderr",
     "output_type": "stream",
     "text": [
      "Week: A:  60%|███████████████████████████████████████████▊                             | 36/60 [00:12<00:08,  2.73it/s]"
     ]
    },
    {
     "name": "stdout",
     "output_type": "stream",
     "text": [
      "Si95.5CQ4A\n",
      "Saved.\n"
     ]
    },
    {
     "name": "stderr",
     "output_type": "stream",
     "text": [
      "Week: A:  68%|█████████████████████████████████████████████████▉                       | 41/60 [00:14<00:07,  2.58it/s]"
     ]
    },
    {
     "name": "stdout",
     "output_type": "stream",
     "text": [
      "Si98CQ4A\n",
      "Saved.\n"
     ]
    },
    {
     "name": "stderr",
     "output_type": "stream",
     "text": [
      "Week: A:  75%|██████████████████████████████████████████████████████▊                  | 45/60 [00:15<00:05,  2.77it/s]"
     ]
    },
    {
     "name": "stdout",
     "output_type": "stream",
     "text": [
      "Si100CQ4A\n",
      "Saved.\n"
     ]
    },
    {
     "name": "stderr",
     "output_type": "stream",
     "text": [
      "Week: A: 100%|█████████████████████████████████████████████████████████████████████████| 60/60 [00:20<00:00,  2.91it/s]\n",
      "Week: B:  43%|███████████████████████████████▋                                         | 26/60 [00:08<00:14,  2.42it/s]"
     ]
    },
    {
     "name": "stdout",
     "output_type": "stream",
     "text": [
      "Si90.5CQ4B\n",
      "Saved.\n"
     ]
    },
    {
     "name": "stderr",
     "output_type": "stream",
     "text": [
      "Week: B:  45%|████████████████████████████████▊                                        | 27/60 [00:09<00:13,  2.41it/s]"
     ]
    },
    {
     "name": "stdout",
     "output_type": "stream",
     "text": [
      "Si91CQ4B\n",
      "Saved.\n"
     ]
    },
    {
     "name": "stderr",
     "output_type": "stream",
     "text": [
      "Week: B:  47%|██████████████████████████████████                                       | 28/60 [00:09<00:13,  2.42it/s]"
     ]
    },
    {
     "name": "stdout",
     "output_type": "stream",
     "text": [
      "Si91.5CQ4B\n",
      "Saved.\n"
     ]
    },
    {
     "name": "stderr",
     "output_type": "stream",
     "text": [
      "Week: B:  48%|███████████████████████████████████▎                                     | 29/60 [00:10<00:13,  2.29it/s]"
     ]
    },
    {
     "name": "stdout",
     "output_type": "stream",
     "text": [
      "Si92CQ4B\n",
      "Saved.\n"
     ]
    },
    {
     "name": "stderr",
     "output_type": "stream",
     "text": [
      "Week: B:  50%|████████████████████████████████████▌                                    | 30/60 [00:10<00:13,  2.26it/s]"
     ]
    },
    {
     "name": "stdout",
     "output_type": "stream",
     "text": [
      "Si92.5CQ4B\n",
      "Saved.\n"
     ]
    },
    {
     "name": "stderr",
     "output_type": "stream",
     "text": [
      "Week: B:  52%|█████████████████████████████████████▋                                   | 31/60 [00:10<00:12,  2.38it/s]"
     ]
    },
    {
     "name": "stdout",
     "output_type": "stream",
     "text": [
      "Si93CQ4B\n",
      "Saved.\n"
     ]
    },
    {
     "name": "stderr",
     "output_type": "stream",
     "text": [
      "Week: B:  55%|████████████████████████████████████████▏                                | 33/60 [00:11<00:10,  2.47it/s]"
     ]
    },
    {
     "name": "stdout",
     "output_type": "stream",
     "text": [
      "Si94CQ4B\n",
      "Saved.\n"
     ]
    },
    {
     "name": "stderr",
     "output_type": "stream",
     "text": [
      "Week: B:  57%|█████████████████████████████████████████▎                               | 34/60 [00:12<00:10,  2.55it/s]"
     ]
    },
    {
     "name": "stdout",
     "output_type": "stream",
     "text": [
      "Si94.5CQ4B\n",
      "Saved.\n"
     ]
    },
    {
     "name": "stderr",
     "output_type": "stream",
     "text": [
      "Week: B:  58%|██████████████████████████████████████████▌                              | 35/60 [00:12<00:09,  2.64it/s]"
     ]
    },
    {
     "name": "stdout",
     "output_type": "stream",
     "text": [
      "Si95CQ4B\n",
      "Saved.\n"
     ]
    },
    {
     "name": "stderr",
     "output_type": "stream",
     "text": [
      "Week: B: 100%|█████████████████████████████████████████████████████████████████████████| 60/60 [00:20<00:00,  2.89it/s]\n",
      "Week: C: 100%|█████████████████████████████████████████████████████████████████████████| 60/60 [00:18<00:00,  3.22it/s]\n",
      "Week: D:  37%|██████████████████████████▊                                              | 22/60 [00:07<00:15,  2.53it/s]"
     ]
    },
    {
     "name": "stdout",
     "output_type": "stream",
     "text": [
      "Si88.5CQ4D\n",
      "Saved.\n"
     ]
    },
    {
     "name": "stderr",
     "output_type": "stream",
     "text": [
      "Week: D:  40%|█████████████████████████████▏                                           | 24/60 [00:08<00:15,  2.31it/s]"
     ]
    },
    {
     "name": "stdout",
     "output_type": "stream",
     "text": [
      "Si89.5CQ4D\n",
      "Saved.\n"
     ]
    },
    {
     "name": "stderr",
     "output_type": "stream",
     "text": [
      "Week: D:  42%|██████████████████████████████▍                                          | 25/60 [00:09<00:17,  2.02it/s]"
     ]
    },
    {
     "name": "stdout",
     "output_type": "stream",
     "text": [
      "Si90CQ4D\n",
      "Saved.\n"
     ]
    },
    {
     "name": "stderr",
     "output_type": "stream",
     "text": [
      "Week: D:  43%|███████████████████████████████▋                                         | 26/60 [00:09<00:16,  2.03it/s]"
     ]
    },
    {
     "name": "stdout",
     "output_type": "stream",
     "text": [
      "Si90.5CQ4D\n",
      "Saved.\n"
     ]
    },
    {
     "name": "stderr",
     "output_type": "stream",
     "text": [
      "Week: D:  45%|████████████████████████████████▊                                        | 27/60 [00:09<00:16,  2.02it/s]"
     ]
    },
    {
     "name": "stdout",
     "output_type": "stream",
     "text": [
      "Si91CQ4D\n",
      "Saved.\n"
     ]
    },
    {
     "name": "stderr",
     "output_type": "stream",
     "text": [
      "Week: D:  47%|██████████████████████████████████                                       | 28/60 [00:10<00:15,  2.02it/s]"
     ]
    },
    {
     "name": "stdout",
     "output_type": "stream",
     "text": [
      "Si91.5CQ4D\n",
      "Saved.\n"
     ]
    },
    {
     "name": "stderr",
     "output_type": "stream",
     "text": [
      "Week: D:  48%|███████████████████████████████████▎                                     | 29/60 [00:10<00:15,  2.06it/s]"
     ]
    },
    {
     "name": "stdout",
     "output_type": "stream",
     "text": [
      "Si92CQ4D\n",
      "Saved.\n"
     ]
    },
    {
     "name": "stderr",
     "output_type": "stream",
     "text": [
      "Week: D:  52%|█████████████████████████████████████▋                                   | 31/60 [00:11<00:12,  2.35it/s]"
     ]
    },
    {
     "name": "stdout",
     "output_type": "stream",
     "text": [
      "Si93CQ4D\n",
      "Saved.\n"
     ]
    },
    {
     "name": "stderr",
     "output_type": "stream",
     "text": [
      "Week: D:  55%|████████████████████████████████████████▏                                | 33/60 [00:12<00:13,  2.07it/s]"
     ]
    },
    {
     "name": "stdout",
     "output_type": "stream",
     "text": [
      "Si94CQ4D\n",
      "Saved.\n"
     ]
    },
    {
     "name": "stderr",
     "output_type": "stream",
     "text": [
      "Week: D: 100%|█████████████████████████████████████████████████████████████████████████| 60/60 [00:21<00:00,  2.82it/s]\n",
      "Week: E:  32%|███████████████████████                                                  | 19/60 [00:06<00:13,  3.06it/s]"
     ]
    },
    {
     "name": "stdout",
     "output_type": "stream",
     "text": [
      "Si87CQ4E\n",
      "Saved.\n"
     ]
    },
    {
     "name": "stderr",
     "output_type": "stream",
     "text": [
      "Week: E:  33%|████████████████████████▎                                                | 20/60 [00:06<00:13,  2.88it/s]"
     ]
    },
    {
     "name": "stdout",
     "output_type": "stream",
     "text": [
      "Si87.5CQ4E\n",
      "Saved.\n"
     ]
    },
    {
     "name": "stderr",
     "output_type": "stream",
     "text": [
      "Week: E:  35%|█████████████████████████▌                                               | 21/60 [00:06<00:13,  2.80it/s]"
     ]
    },
    {
     "name": "stdout",
     "output_type": "stream",
     "text": [
      "Si88CQ4E\n",
      "Saved.\n"
     ]
    },
    {
     "name": "stderr",
     "output_type": "stream",
     "text": [
      "Week: E:  37%|██████████████████████████▊                                              | 22/60 [00:07<00:13,  2.72it/s]"
     ]
    },
    {
     "name": "stdout",
     "output_type": "stream",
     "text": [
      "Si88.5CQ4E\n",
      "Saved.\n"
     ]
    },
    {
     "name": "stderr",
     "output_type": "stream",
     "text": [
      "Week: E:  38%|███████████████████████████▉                                             | 23/60 [00:07<00:14,  2.64it/s]"
     ]
    },
    {
     "name": "stdout",
     "output_type": "stream",
     "text": [
      "Si89CQ4E\n",
      "Saved.\n"
     ]
    },
    {
     "name": "stderr",
     "output_type": "stream",
     "text": [
      "Week: E:  40%|█████████████████████████████▏                                           | 24/60 [00:08<00:14,  2.52it/s]"
     ]
    },
    {
     "name": "stdout",
     "output_type": "stream",
     "text": [
      "Si89.5CQ4E\n",
      "Saved.\n"
     ]
    },
    {
     "name": "stderr",
     "output_type": "stream",
     "text": [
      "Week: E:  42%|██████████████████████████████▍                                          | 25/60 [00:08<00:13,  2.52it/s]"
     ]
    },
    {
     "name": "stdout",
     "output_type": "stream",
     "text": [
      "Si90CQ4E\n",
      "Saved.\n"
     ]
    },
    {
     "name": "stderr",
     "output_type": "stream",
     "text": [
      "Week: E:  43%|███████████████████████████████▋                                         | 26/60 [00:08<00:13,  2.59it/s]"
     ]
    },
    {
     "name": "stdout",
     "output_type": "stream",
     "text": [
      "Si90.5CQ4E\n",
      "Saved.\n"
     ]
    },
    {
     "name": "stderr",
     "output_type": "stream",
     "text": [
      "Week: E:  45%|████████████████████████████████▊                                        | 27/60 [00:09<00:12,  2.58it/s]"
     ]
    },
    {
     "name": "stdout",
     "output_type": "stream",
     "text": [
      "Si91CQ4E\n",
      "Saved.\n"
     ]
    },
    {
     "name": "stderr",
     "output_type": "stream",
     "text": [
      "Week: E:  47%|██████████████████████████████████                                       | 28/60 [00:09<00:12,  2.47it/s]"
     ]
    },
    {
     "name": "stdout",
     "output_type": "stream",
     "text": [
      "Si91.5CQ4E\n",
      "Saved.\n"
     ]
    },
    {
     "name": "stderr",
     "output_type": "stream",
     "text": [
      "Week: E:  48%|███████████████████████████████████▎                                     | 29/60 [00:10<00:12,  2.39it/s]"
     ]
    },
    {
     "name": "stdout",
     "output_type": "stream",
     "text": [
      "Si92CQ4E\n",
      "Saved.\n"
     ]
    },
    {
     "name": "stderr",
     "output_type": "stream",
     "text": [
      "Week: E:  50%|████████████████████████████████████▌                                    | 30/60 [00:10<00:12,  2.41it/s]"
     ]
    },
    {
     "name": "stdout",
     "output_type": "stream",
     "text": [
      "Si92.5CQ4E\n",
      "Saved.\n"
     ]
    },
    {
     "name": "stderr",
     "output_type": "stream",
     "text": [
      "Week: E: 100%|█████████████████████████████████████████████████████████████████████████| 60/60 [00:20<00:00,  2.91it/s]\n"
     ]
    },
    {
     "name": "stdout",
     "output_type": "stream",
     "text": [
      "- month: R\n"
     ]
    },
    {
     "name": "stderr",
     "output_type": "stream",
     "text": [
      "Week: -:  27%|███████████████████▍                                                     | 16/60 [00:05<00:15,  2.77it/s]"
     ]
    },
    {
     "name": "stdout",
     "output_type": "stream",
     "text": [
      "Si85.5CR4\n",
      "Saved.\n"
     ]
    },
    {
     "name": "stderr",
     "output_type": "stream",
     "text": [
      "Week: -:  30%|█████████████████████▉                                                   | 18/60 [00:06<00:15,  2.74it/s]"
     ]
    },
    {
     "name": "stdout",
     "output_type": "stream",
     "text": [
      "Si86.5CR4\n",
      "Saved.\n"
     ]
    },
    {
     "name": "stderr",
     "output_type": "stream",
     "text": [
      "Week: -:  32%|███████████████████████                                                  | 19/60 [00:07<00:19,  2.08it/s]"
     ]
    },
    {
     "name": "stdout",
     "output_type": "stream",
     "text": [
      "Si87CR4\n",
      "Saved.\n"
     ]
    },
    {
     "name": "stderr",
     "output_type": "stream",
     "text": [
      "Week: -:  33%|████████████████████████▎                                                | 20/60 [00:07<00:18,  2.22it/s]"
     ]
    },
    {
     "name": "stdout",
     "output_type": "stream",
     "text": [
      "Si87.5CR4\n",
      "Saved.\n"
     ]
    },
    {
     "name": "stderr",
     "output_type": "stream",
     "text": [
      "Week: -:  37%|██████████████████████████▊                                              | 22/60 [00:08<00:16,  2.35it/s]"
     ]
    },
    {
     "name": "stdout",
     "output_type": "stream",
     "text": [
      "Si88.5CR4\n",
      "Saved.\n"
     ]
    },
    {
     "name": "stderr",
     "output_type": "stream",
     "text": [
      "Week: -:  38%|███████████████████████████▉                                             | 23/60 [00:08<00:17,  2.09it/s]"
     ]
    },
    {
     "name": "stdout",
     "output_type": "stream",
     "text": [
      "Si89CR4\n",
      "Saved.\n"
     ]
    },
    {
     "name": "stderr",
     "output_type": "stream",
     "text": [
      "Week: -:  40%|█████████████████████████████▏                                           | 24/60 [00:09<00:16,  2.17it/s]"
     ]
    },
    {
     "name": "stdout",
     "output_type": "stream",
     "text": [
      "Si89.5CR4\n",
      "Saved.\n"
     ]
    },
    {
     "name": "stderr",
     "output_type": "stream",
     "text": [
      "Week: -:  42%|██████████████████████████████▍                                          | 25/60 [00:09<00:17,  2.02it/s]"
     ]
    },
    {
     "name": "stdout",
     "output_type": "stream",
     "text": [
      "Si90CR4\n",
      "Saved.\n"
     ]
    },
    {
     "name": "stderr",
     "output_type": "stream",
     "text": [
      "Week: -:  43%|███████████████████████████████▋                                         | 26/60 [00:10<00:15,  2.20it/s]"
     ]
    },
    {
     "name": "stdout",
     "output_type": "stream",
     "text": [
      "Si90.5CR4\n",
      "Saved.\n"
     ]
    },
    {
     "name": "stderr",
     "output_type": "stream",
     "text": [
      "Week: -:  45%|████████████████████████████████▊                                        | 27/60 [00:11<00:20,  1.58it/s]"
     ]
    },
    {
     "name": "stdout",
     "output_type": "stream",
     "text": [
      "Si91CR4\n",
      "Saved.\n"
     ]
    },
    {
     "name": "stderr",
     "output_type": "stream",
     "text": [
      "Week: -:  47%|██████████████████████████████████                                       | 28/60 [00:11<00:17,  1.81it/s]"
     ]
    },
    {
     "name": "stdout",
     "output_type": "stream",
     "text": [
      "Si91.5CR4\n",
      "Saved.\n"
     ]
    },
    {
     "name": "stderr",
     "output_type": "stream",
     "text": [
      "Week: -:  48%|███████████████████████████████████▎                                     | 29/60 [00:12<00:18,  1.72it/s]"
     ]
    },
    {
     "name": "stdout",
     "output_type": "stream",
     "text": [
      "Si92CR4\n",
      "Saved.\n"
     ]
    },
    {
     "name": "stderr",
     "output_type": "stream",
     "text": [
      "Week: -:  50%|████████████████████████████████████▌                                    | 30/60 [00:12<00:18,  1.67it/s]"
     ]
    },
    {
     "name": "stdout",
     "output_type": "stream",
     "text": [
      "Si92.5CR4\n",
      "Saved.\n"
     ]
    },
    {
     "name": "stderr",
     "output_type": "stream",
     "text": [
      "Week: -:  52%|█████████████████████████████████████▋                                   | 31/60 [00:13<00:15,  1.87it/s]"
     ]
    },
    {
     "name": "stdout",
     "output_type": "stream",
     "text": [
      "Si93CR4\n",
      "Saved.\n"
     ]
    },
    {
     "name": "stderr",
     "output_type": "stream",
     "text": [
      "Week: -:  53%|██████████████████████████████████████▉                                  | 32/60 [00:13<00:13,  2.08it/s]"
     ]
    },
    {
     "name": "stdout",
     "output_type": "stream",
     "text": [
      "Si93.5CR4\n",
      "Saved.\n"
     ]
    },
    {
     "name": "stderr",
     "output_type": "stream",
     "text": [
      "Week: -:  55%|████████████████████████████████████████▏                                | 33/60 [00:14<00:14,  1.89it/s]"
     ]
    },
    {
     "name": "stdout",
     "output_type": "stream",
     "text": [
      "Si94CR4\n",
      "Saved.\n"
     ]
    },
    {
     "name": "stderr",
     "output_type": "stream",
     "text": [
      "Week: -:  57%|█████████████████████████████████████████▎                               | 34/60 [00:14<00:13,  1.93it/s]"
     ]
    },
    {
     "name": "stdout",
     "output_type": "stream",
     "text": [
      "Si94.5CR4\n",
      "Saved.\n"
     ]
    },
    {
     "name": "stderr",
     "output_type": "stream",
     "text": [
      "Week: -:  60%|███████████████████████████████████████████▊                             | 36/60 [00:15<00:12,  1.89it/s]"
     ]
    },
    {
     "name": "stdout",
     "output_type": "stream",
     "text": [
      "Si95.5CR4\n",
      "Saved.\n"
     ]
    },
    {
     "name": "stderr",
     "output_type": "stream",
     "text": [
      "Week: -:  75%|██████████████████████████████████████████████████████▊                  | 45/60 [00:20<00:09,  1.54it/s]"
     ]
    },
    {
     "name": "stdout",
     "output_type": "stream",
     "text": [
      "Si100CR4\n",
      "Saved.\n"
     ]
    },
    {
     "name": "stderr",
     "output_type": "stream",
     "text": [
      "Week: -:  82%|███████████████████████████████████████████████████████████▌             | 49/60 [00:21<00:05,  2.11it/s]"
     ]
    },
    {
     "name": "stdout",
     "output_type": "stream",
     "text": [
      "Si102CR4\n",
      "Saved.\n"
     ]
    },
    {
     "name": "stderr",
     "output_type": "stream",
     "text": [
      "Week: -:  88%|████████████████████████████████████████████████████████████████▍        | 53/60 [00:23<00:03,  2.27it/s]"
     ]
    },
    {
     "name": "stdout",
     "output_type": "stream",
     "text": [
      "Si104CR4\n",
      "Saved.\n"
     ]
    },
    {
     "name": "stderr",
     "output_type": "stream",
     "text": [
      "Week: -: 100%|█████████████████████████████████████████████████████████████████████████| 60/60 [00:25<00:00,  2.35it/s]\n",
      "Week: A:  35%|█████████████████████████▌                                               | 21/60 [00:06<00:13,  2.92it/s]"
     ]
    },
    {
     "name": "stdout",
     "output_type": "stream",
     "text": [
      "Si88CR4A\n",
      "Saved.\n"
     ]
    },
    {
     "name": "stderr",
     "output_type": "stream",
     "text": [
      "Week: A:  37%|██████████████████████████▊                                              | 22/60 [00:07<00:12,  2.93it/s]"
     ]
    },
    {
     "name": "stdout",
     "output_type": "stream",
     "text": [
      "Si88.5CR4A\n",
      "Saved.\n"
     ]
    },
    {
     "name": "stderr",
     "output_type": "stream",
     "text": [
      "Week: A:  38%|███████████████████████████▉                                             | 23/60 [00:07<00:12,  2.87it/s]"
     ]
    },
    {
     "name": "stdout",
     "output_type": "stream",
     "text": [
      "Si89CR4A\n",
      "Saved.\n"
     ]
    },
    {
     "name": "stderr",
     "output_type": "stream",
     "text": [
      "Week: A:  40%|█████████████████████████████▏                                           | 24/60 [00:07<00:12,  2.91it/s]"
     ]
    },
    {
     "name": "stdout",
     "output_type": "stream",
     "text": [
      "Si89.5CR4A\n",
      "Saved.\n"
     ]
    },
    {
     "name": "stderr",
     "output_type": "stream",
     "text": [
      "Week: A:  42%|██████████████████████████████▍                                          | 25/60 [00:08<00:12,  2.71it/s]"
     ]
    },
    {
     "name": "stdout",
     "output_type": "stream",
     "text": [
      "Si90CR4A\n",
      "Saved.\n"
     ]
    },
    {
     "name": "stderr",
     "output_type": "stream",
     "text": [
      "Week: A:  43%|███████████████████████████████▋                                         | 26/60 [00:08<00:12,  2.69it/s]"
     ]
    },
    {
     "name": "stdout",
     "output_type": "stream",
     "text": [
      "Si90.5CR4A\n",
      "Saved.\n"
     ]
    },
    {
     "name": "stderr",
     "output_type": "stream",
     "text": [
      "Week: A:  45%|████████████████████████████████▊                                        | 27/60 [00:08<00:12,  2.65it/s]"
     ]
    },
    {
     "name": "stdout",
     "output_type": "stream",
     "text": [
      "Si91CR4A\n",
      "Saved.\n"
     ]
    },
    {
     "name": "stderr",
     "output_type": "stream",
     "text": [
      "Week: A: 100%|█████████████████████████████████████████████████████████████████████████| 60/60 [00:19<00:00,  3.00it/s]\n",
      "Week: B:  33%|████████████████████████▎                                                | 20/60 [00:08<00:15,  2.61it/s]"
     ]
    },
    {
     "name": "stdout",
     "output_type": "stream",
     "text": [
      "Si87.5CR4B\n",
      "Saved.\n"
     ]
    },
    {
     "name": "stderr",
     "output_type": "stream",
     "text": [
      "Week: B:  35%|█████████████████████████▌                                               | 21/60 [00:08<00:15,  2.59it/s]"
     ]
    },
    {
     "name": "stdout",
     "output_type": "stream",
     "text": [
      "Si88CR4B\n",
      "Saved.\n"
     ]
    },
    {
     "name": "stderr",
     "output_type": "stream",
     "text": [
      "Week: B:  37%|██████████████████████████▊                                              | 22/60 [00:09<00:15,  2.49it/s]"
     ]
    },
    {
     "name": "stdout",
     "output_type": "stream",
     "text": [
      "Si88.5CR4B\n",
      "Saved.\n"
     ]
    },
    {
     "name": "stderr",
     "output_type": "stream",
     "text": [
      "Week: B:  38%|███████████████████████████▉                                             | 23/60 [00:09<00:14,  2.49it/s]"
     ]
    },
    {
     "name": "stdout",
     "output_type": "stream",
     "text": [
      "Si89CR4B\n",
      "Saved.\n"
     ]
    },
    {
     "name": "stderr",
     "output_type": "stream",
     "text": [
      "Week: B:  40%|█████████████████████████████▏                                           | 24/60 [00:10<00:14,  2.54it/s]"
     ]
    },
    {
     "name": "stdout",
     "output_type": "stream",
     "text": [
      "Si89.5CR4B\n",
      "Saved.\n"
     ]
    },
    {
     "name": "stderr",
     "output_type": "stream",
     "text": [
      "Week: B:  42%|██████████████████████████████▍                                          | 25/60 [00:10<00:13,  2.53it/s]"
     ]
    },
    {
     "name": "stdout",
     "output_type": "stream",
     "text": [
      "Si90CR4B\n",
      "Saved.\n"
     ]
    },
    {
     "name": "stderr",
     "output_type": "stream",
     "text": [
      "Week: B:  43%|███████████████████████████████▋                                         | 26/60 [00:10<00:13,  2.57it/s]"
     ]
    },
    {
     "name": "stdout",
     "output_type": "stream",
     "text": [
      "Si90.5CR4B\n",
      "Saved.\n"
     ]
    },
    {
     "name": "stderr",
     "output_type": "stream",
     "text": [
      "Week: B: 100%|█████████████████████████████████████████████████████████████████████████| 60/60 [00:23<00:00,  2.57it/s]\n",
      "Week: C: 100%|█████████████████████████████████████████████████████████████████████████| 60/60 [00:21<00:00,  2.85it/s]\n",
      "Week: D:  18%|█████████████▍                                                           | 11/60 [00:03<00:18,  2.64it/s]"
     ]
    },
    {
     "name": "stdout",
     "output_type": "stream",
     "text": [
      "Si83CR4D\n",
      "Saved.\n"
     ]
    },
    {
     "name": "stderr",
     "output_type": "stream",
     "text": [
      "Week: D:  23%|█████████████████                                                        | 14/60 [00:04<00:16,  2.76it/s]"
     ]
    },
    {
     "name": "stdout",
     "output_type": "stream",
     "text": [
      "Si84.5CR4D\n",
      "Saved.\n"
     ]
    },
    {
     "name": "stderr",
     "output_type": "stream",
     "text": [
      "Week: D:  25%|██████████████████▎                                                      | 15/60 [00:05<00:17,  2.54it/s]"
     ]
    },
    {
     "name": "stdout",
     "output_type": "stream",
     "text": [
      "Si85CR4D\n",
      "Saved.\n"
     ]
    },
    {
     "name": "stderr",
     "output_type": "stream",
     "text": [
      "Week: D:  30%|█████████████████████▉                                                   | 18/60 [00:06<00:15,  2.71it/s]"
     ]
    },
    {
     "name": "stdout",
     "output_type": "stream",
     "text": [
      "Si86.5CR4D\n",
      "Saved.\n"
     ]
    },
    {
     "name": "stderr",
     "output_type": "stream",
     "text": [
      "Week: D:  32%|███████████████████████                                                  | 19/60 [00:06<00:14,  2.79it/s]"
     ]
    },
    {
     "name": "stdout",
     "output_type": "stream",
     "text": [
      "Si87CR4D\n",
      "Saved.\n"
     ]
    },
    {
     "name": "stderr",
     "output_type": "stream",
     "text": [
      "Week: D:  37%|██████████████████████████▊                                              | 22/60 [00:07<00:14,  2.67it/s]"
     ]
    },
    {
     "name": "stdout",
     "output_type": "stream",
     "text": [
      "Si88.5CR4D\n",
      "Saved.\n"
     ]
    },
    {
     "name": "stderr",
     "output_type": "stream",
     "text": [
      "Week: D:  40%|█████████████████████████████▏                                           | 24/60 [00:08<00:12,  2.85it/s]"
     ]
    },
    {
     "name": "stdout",
     "output_type": "stream",
     "text": [
      "Si89.5CR4D\n",
      "Saved.\n"
     ]
    },
    {
     "name": "stderr",
     "output_type": "stream",
     "text": [
      "Week: D:  42%|██████████████████████████████▍                                          | 25/60 [00:08<00:12,  2.74it/s]"
     ]
    },
    {
     "name": "stdout",
     "output_type": "stream",
     "text": [
      "Si90CR4D\n",
      "Saved.\n"
     ]
    },
    {
     "name": "stderr",
     "output_type": "stream",
     "text": [
      "Week: D:  43%|███████████████████████████████▋                                         | 26/60 [00:09<00:13,  2.52it/s]"
     ]
    },
    {
     "name": "stdout",
     "output_type": "stream",
     "text": [
      "Si90.5CR4D\n",
      "Saved.\n"
     ]
    },
    {
     "name": "stderr",
     "output_type": "stream",
     "text": [
      "Week: D: 100%|█████████████████████████████████████████████████████████████████████████| 60/60 [00:20<00:00,  2.87it/s]\n",
      "Week: E: 100%|█████████████████████████████████████████████████████████████████████████| 60/60 [00:18<00:00,  3.21it/s]\n"
     ]
    },
    {
     "name": "stdout",
     "output_type": "stream",
     "text": [
      "- month: S\n"
     ]
    },
    {
     "name": "stderr",
     "output_type": "stream",
     "text": [
      "Week: -:  28%|████████████████████▋                                                    | 17/60 [00:05<00:14,  2.88it/s]"
     ]
    },
    {
     "name": "stdout",
     "output_type": "stream",
     "text": [
      "Si86CS4\n",
      "Saved.\n"
     ]
    },
    {
     "name": "stderr",
     "output_type": "stream",
     "text": [
      "Week: -:  32%|███████████████████████                                                  | 19/60 [00:06<00:15,  2.72it/s]"
     ]
    },
    {
     "name": "stdout",
     "output_type": "stream",
     "text": [
      "Si87CS4\n",
      "Saved.\n"
     ]
    },
    {
     "name": "stderr",
     "output_type": "stream",
     "text": [
      "Week: -:  33%|████████████████████████▎                                                | 20/60 [00:06<00:15,  2.63it/s]"
     ]
    },
    {
     "name": "stdout",
     "output_type": "stream",
     "text": [
      "Si87.5CS4\n",
      "Saved.\n"
     ]
    },
    {
     "name": "stderr",
     "output_type": "stream",
     "text": [
      "Week: -:  35%|█████████████████████████▌                                               | 21/60 [00:07<00:14,  2.71it/s]"
     ]
    },
    {
     "name": "stdout",
     "output_type": "stream",
     "text": [
      "Si88CS4\n",
      "Saved.\n"
     ]
    },
    {
     "name": "stderr",
     "output_type": "stream",
     "text": [
      "Week: -:  37%|██████████████████████████▊                                              | 22/60 [00:07<00:15,  2.40it/s]"
     ]
    },
    {
     "name": "stdout",
     "output_type": "stream",
     "text": [
      "Si88.5CS4\n",
      "Saved.\n"
     ]
    },
    {
     "name": "stderr",
     "output_type": "stream",
     "text": [
      "Week: -:  42%|██████████████████████████████▍                                          | 25/60 [00:08<00:12,  2.78it/s]"
     ]
    },
    {
     "name": "stdout",
     "output_type": "stream",
     "text": [
      "Si90CS4\n",
      "Saved.\n"
     ]
    },
    {
     "name": "stderr",
     "output_type": "stream",
     "text": [
      "Week: -:  45%|████████████████████████████████▊                                        | 27/60 [00:10<00:16,  2.04it/s]"
     ]
    },
    {
     "name": "stdout",
     "output_type": "stream",
     "text": [
      "Si91CS4\n",
      "Saved.\n"
     ]
    },
    {
     "name": "stderr",
     "output_type": "stream",
     "text": [
      "Week: -:  47%|██████████████████████████████████                                       | 28/60 [00:10<00:15,  2.02it/s]"
     ]
    },
    {
     "name": "stdout",
     "output_type": "stream",
     "text": [
      "Si91.5CS4\n",
      "Saved.\n"
     ]
    },
    {
     "name": "stderr",
     "output_type": "stream",
     "text": [
      "Week: -:  53%|██████████████████████████████████████▉                                  | 32/60 [00:11<00:11,  2.39it/s]"
     ]
    },
    {
     "name": "stdout",
     "output_type": "stream",
     "text": [
      "Si93.5CS4\n",
      "Saved.\n"
     ]
    },
    {
     "name": "stderr",
     "output_type": "stream",
     "text": [
      "Week: -: 100%|█████████████████████████████████████████████████████████████████████████| 60/60 [00:22<00:00,  2.66it/s]\n",
      "Week: A:  18%|█████████████▍                                                           | 11/60 [00:04<00:23,  2.12it/s]"
     ]
    },
    {
     "name": "stdout",
     "output_type": "stream",
     "text": [
      "Si83CS4A\n",
      "Saved.\n"
     ]
    },
    {
     "name": "stderr",
     "output_type": "stream",
     "text": [
      "Week: A:  22%|███████████████▊                                                         | 13/60 [00:05<00:20,  2.24it/s]"
     ]
    },
    {
     "name": "stdout",
     "output_type": "stream",
     "text": [
      "Si84CS4A\n",
      "Saved.\n"
     ]
    },
    {
     "name": "stderr",
     "output_type": "stream",
     "text": [
      "Week: A:  25%|██████████████████▎                                                      | 15/60 [00:06<00:19,  2.31it/s]"
     ]
    },
    {
     "name": "stdout",
     "output_type": "stream",
     "text": [
      "Si85CS4A\n",
      "Saved.\n"
     ]
    },
    {
     "name": "stderr",
     "output_type": "stream",
     "text": [
      "Week: A:  30%|█████████████████████▉                                                   | 18/60 [00:07<00:16,  2.48it/s]"
     ]
    },
    {
     "name": "stdout",
     "output_type": "stream",
     "text": [
      "Si86.5CS4A\n",
      "Saved.\n"
     ]
    },
    {
     "name": "stderr",
     "output_type": "stream",
     "text": [
      "Week: A: 100%|█████████████████████████████████████████████████████████████████████████| 60/60 [00:21<00:00,  2.78it/s]\n",
      "Week: B: 100%|█████████████████████████████████████████████████████████████████████████| 60/60 [00:19<00:00,  3.13it/s]\n",
      "Week: C: 100%|█████████████████████████████████████████████████████████████████████████| 60/60 [00:20<00:00,  2.95it/s]\n",
      "Week: D: 100%|█████████████████████████████████████████████████████████████████████████| 60/60 [00:19<00:00,  3.07it/s]\n",
      "Week: E: 100%|█████████████████████████████████████████████████████████████████████████| 60/60 [00:18<00:00,  3.21it/s]\n"
     ]
    },
    {
     "name": "stdout",
     "output_type": "stream",
     "text": [
      "- month: T\n"
     ]
    },
    {
     "name": "stderr",
     "output_type": "stream",
     "text": [
      "Week: -:  25%|██████████████████▎                                                      | 15/60 [00:04<00:14,  3.06it/s]"
     ]
    },
    {
     "name": "stdout",
     "output_type": "stream",
     "text": [
      "Si85CT4\n",
      "Saved.\n"
     ]
    },
    {
     "name": "stderr",
     "output_type": "stream",
     "text": [
      "Week: -:  28%|████████████████████▋                                                    | 17/60 [00:05<00:15,  2.73it/s]"
     ]
    },
    {
     "name": "stdout",
     "output_type": "stream",
     "text": [
      "Si86CT4\n",
      "Saved.\n"
     ]
    },
    {
     "name": "stderr",
     "output_type": "stream",
     "text": [
      "Week: -:  32%|███████████████████████                                                  | 19/60 [00:06<00:17,  2.30it/s]"
     ]
    },
    {
     "name": "stdout",
     "output_type": "stream",
     "text": [
      "Si87CT4\n",
      "Saved.\n"
     ]
    },
    {
     "name": "stderr",
     "output_type": "stream",
     "text": [
      "Week: -:  35%|█████████████████████████▌                                               | 21/60 [00:07<00:16,  2.35it/s]"
     ]
    },
    {
     "name": "stdout",
     "output_type": "stream",
     "text": [
      "Si88CT4\n",
      "Saved.\n"
     ]
    },
    {
     "name": "stderr",
     "output_type": "stream",
     "text": [
      "Week: -:  38%|███████████████████████████▉                                             | 23/60 [00:08<00:16,  2.29it/s]"
     ]
    },
    {
     "name": "stdout",
     "output_type": "stream",
     "text": [
      "Si89CT4\n",
      "Saved.\n"
     ]
    },
    {
     "name": "stderr",
     "output_type": "stream",
     "text": [
      "Week: -:  42%|██████████████████████████████▍                                          | 25/60 [00:08<00:12,  2.70it/s]"
     ]
    },
    {
     "name": "stdout",
     "output_type": "stream",
     "text": [
      "Si90CT4\n",
      "Saved.\n"
     ]
    },
    {
     "name": "stderr",
     "output_type": "stream",
     "text": [
      "Week: -:  45%|████████████████████████████████▊                                        | 27/60 [00:09<00:11,  2.87it/s]"
     ]
    },
    {
     "name": "stdout",
     "output_type": "stream",
     "text": [
      "Si91CT4\n",
      "Saved.\n"
     ]
    },
    {
     "name": "stderr",
     "output_type": "stream",
     "text": [
      "Week: -: 100%|█████████████████████████████████████████████████████████████████████████| 60/60 [00:19<00:00,  3.03it/s]\n",
      "Week: A: 100%|█████████████████████████████████████████████████████████████████████████| 60/60 [00:19<00:00,  3.09it/s]\n",
      "Week: B: 100%|█████████████████████████████████████████████████████████████████████████| 60/60 [00:18<00:00,  3.18it/s]\n",
      "Week: C: 100%|█████████████████████████████████████████████████████████████████████████| 60/60 [00:19<00:00,  3.10it/s]\n",
      "Week: D:  45%|████████████████████████████████▊                                        | 27/60 [00:08<00:10,  3.09it/s]"
     ]
    },
    {
     "name": "stdout",
     "output_type": "stream",
     "text": [
      "Si91CT4D\n",
      "Saved.\n"
     ]
    },
    {
     "name": "stderr",
     "output_type": "stream",
     "text": [
      "Week: D: 100%|█████████████████████████████████████████████████████████████████████████| 60/60 [00:19<00:00,  3.16it/s]\n",
      "Week: E:  42%|██████████████████████████████▍                                          | 25/60 [00:08<00:12,  2.81it/s]"
     ]
    },
    {
     "name": "stdout",
     "output_type": "stream",
     "text": [
      "Si90CT4E\n",
      "Saved.\n"
     ]
    },
    {
     "name": "stderr",
     "output_type": "stream",
     "text": [
      "Week: E:  45%|████████████████████████████████▊                                        | 27/60 [00:08<00:12,  2.68it/s]"
     ]
    },
    {
     "name": "stdout",
     "output_type": "stream",
     "text": [
      "Si91CT4E\n",
      "Saved.\n"
     ]
    },
    {
     "name": "stderr",
     "output_type": "stream",
     "text": [
      "Week: E:  48%|███████████████████████████████████▎                                     | 29/60 [00:09<00:11,  2.73it/s]"
     ]
    },
    {
     "name": "stdout",
     "output_type": "stream",
     "text": [
      "Si92CT4E\n",
      "Saved.\n"
     ]
    },
    {
     "name": "stderr",
     "output_type": "stream",
     "text": [
      "Week: E: 100%|█████████████████████████████████████████████████████████████████████████| 60/60 [00:20<00:00,  2.93it/s]\n"
     ]
    },
    {
     "name": "stdout",
     "output_type": "stream",
     "text": [
      "- month: U\n"
     ]
    },
    {
     "name": "stderr",
     "output_type": "stream",
     "text": [
      "Week: -: 100%|█████████████████████████████████████████████████████████████████████████| 60/60 [00:19<00:00,  3.07it/s]\n",
      "Week: A:  38%|███████████████████████████▉                                             | 23/60 [00:07<00:13,  2.69it/s]"
     ]
    },
    {
     "name": "stdout",
     "output_type": "stream",
     "text": [
      "Si89CU4A\n",
      "Saved.\n"
     ]
    },
    {
     "name": "stderr",
     "output_type": "stream",
     "text": [
      "Week: A:  40%|█████████████████████████████▏                                           | 24/60 [00:08<00:13,  2.71it/s]"
     ]
    },
    {
     "name": "stdout",
     "output_type": "stream",
     "text": [
      "Si89.5CU4A\n",
      "Saved.\n"
     ]
    },
    {
     "name": "stderr",
     "output_type": "stream",
     "text": [
      "Week: A:  45%|████████████████████████████████▊                                        | 27/60 [00:09<00:11,  2.77it/s]"
     ]
    },
    {
     "name": "stdout",
     "output_type": "stream",
     "text": [
      "Si91CU4A\n",
      "Saved.\n"
     ]
    },
    {
     "name": "stderr",
     "output_type": "stream",
     "text": [
      "Week: A: 100%|█████████████████████████████████████████████████████████████████████████| 60/60 [00:19<00:00,  3.09it/s]\n",
      "Week: B:  32%|███████████████████████                                                  | 19/60 [00:05<00:13,  3.06it/s]"
     ]
    },
    {
     "name": "stdout",
     "output_type": "stream",
     "text": [
      "Si87CU4B\n",
      "Saved.\n"
     ]
    },
    {
     "name": "stderr",
     "output_type": "stream",
     "text": [
      "Week: B:  38%|███████████████████████████▉                                             | 23/60 [00:07<00:12,  3.08it/s]"
     ]
    },
    {
     "name": "stdout",
     "output_type": "stream",
     "text": [
      "Si89CU4B\n",
      "Saved.\n"
     ]
    },
    {
     "name": "stderr",
     "output_type": "stream",
     "text": [
      "Week: B:  42%|██████████████████████████████▍                                          | 25/60 [00:07<00:11,  2.99it/s]"
     ]
    },
    {
     "name": "stdout",
     "output_type": "stream",
     "text": [
      "Si90CU4B\n",
      "Saved.\n"
     ]
    },
    {
     "name": "stderr",
     "output_type": "stream",
     "text": [
      "Week: B:  45%|████████████████████████████████▊                                        | 27/60 [00:08<00:11,  2.95it/s]"
     ]
    },
    {
     "name": "stdout",
     "output_type": "stream",
     "text": [
      "Si91CU4B\n",
      "Saved.\n"
     ]
    },
    {
     "name": "stderr",
     "output_type": "stream",
     "text": [
      "Week: B: 100%|█████████████████████████████████████████████████████████████████████████| 60/60 [00:18<00:00,  3.23it/s]\n",
      "Week: C:  38%|███████████████████████████▉                                             | 23/60 [00:06<00:12,  2.99it/s]"
     ]
    },
    {
     "name": "stdout",
     "output_type": "stream",
     "text": [
      "Si89CU4C\n",
      "Saved.\n"
     ]
    },
    {
     "name": "stderr",
     "output_type": "stream",
     "text": [
      "Week: C:  42%|██████████████████████████████▍                                          | 25/60 [00:07<00:11,  2.94it/s]"
     ]
    },
    {
     "name": "stdout",
     "output_type": "stream",
     "text": [
      "Si90CU4C\n",
      "Saved.\n"
     ]
    },
    {
     "name": "stderr",
     "output_type": "stream",
     "text": [
      "Week: C:  45%|████████████████████████████████▊                                        | 27/60 [00:08<00:15,  2.14it/s]"
     ]
    },
    {
     "name": "stdout",
     "output_type": "stream",
     "text": [
      "Si91CU4C\n",
      "Saved.\n"
     ]
    },
    {
     "name": "stderr",
     "output_type": "stream",
     "text": [
      "Week: C: 100%|█████████████████████████████████████████████████████████████████████████| 60/60 [00:20<00:00,  2.86it/s]\n",
      "Week: D:  40%|█████████████████████████████▏                                           | 24/60 [00:07<00:12,  2.87it/s]"
     ]
    },
    {
     "name": "stdout",
     "output_type": "stream",
     "text": [
      "Si89.5CU4D\n",
      "Saved.\n"
     ]
    },
    {
     "name": "stderr",
     "output_type": "stream",
     "text": [
      "Week: D: 100%|█████████████████████████████████████████████████████████████████████████| 60/60 [00:18<00:00,  3.20it/s]\n",
      "Week: E: 100%|█████████████████████████████████████████████████████████████████████████| 60/60 [00:17<00:00,  3.36it/s]\n"
     ]
    },
    {
     "name": "stdout",
     "output_type": "stream",
     "text": [
      "- month: V\n"
     ]
    },
    {
     "name": "stderr",
     "output_type": "stream",
     "text": [
      "Week: -: 100%|█████████████████████████████████████████████████████████████████████████| 60/60 [00:18<00:00,  3.31it/s]\n",
      "Week: A:  43%|███████████████████████████████▋                                         | 26/60 [00:08<00:11,  3.00it/s]"
     ]
    },
    {
     "name": "stdout",
     "output_type": "stream",
     "text": [
      "Si90.5CV4A\n",
      "Saved.\n"
     ]
    },
    {
     "name": "stderr",
     "output_type": "stream",
     "text": [
      "Week: A:  50%|████████████████████████████████████▌                                    | 30/60 [00:09<00:10,  2.83it/s]"
     ]
    },
    {
     "name": "stdout",
     "output_type": "stream",
     "text": [
      "Si92.5CV4A\n",
      "Saved.\n"
     ]
    },
    {
     "name": "stderr",
     "output_type": "stream",
     "text": [
      "Week: A:  52%|█████████████████████████████████████▋                                   | 31/60 [00:10<00:11,  2.48it/s]"
     ]
    },
    {
     "name": "stdout",
     "output_type": "stream",
     "text": [
      "Si93CV4A\n",
      "Saved.\n"
     ]
    },
    {
     "name": "stderr",
     "output_type": "stream",
     "text": [
      "Week: A: 100%|█████████████████████████████████████████████████████████████████████████| 60/60 [00:20<00:00,  2.93it/s]\n",
      "Week: B:  42%|██████████████████████████████▍                                          | 25/60 [00:09<00:16,  2.15it/s]"
     ]
    },
    {
     "name": "stdout",
     "output_type": "stream",
     "text": [
      "Si90CV4B\n",
      "Saved.\n"
     ]
    },
    {
     "name": "stderr",
     "output_type": "stream",
     "text": [
      "Week: B:  55%|████████████████████████████████████████▏                                | 33/60 [00:12<00:09,  2.70it/s]"
     ]
    },
    {
     "name": "stdout",
     "output_type": "stream",
     "text": [
      "Si94CV4B\n",
      "Saved.\n"
     ]
    },
    {
     "name": "stderr",
     "output_type": "stream",
     "text": [
      "Week: B: 100%|█████████████████████████████████████████████████████████████████████████| 60/60 [00:22<00:00,  2.69it/s]\n",
      "Week: C:  45%|████████████████████████████████▊                                        | 27/60 [00:09<00:11,  2.91it/s]"
     ]
    },
    {
     "name": "stdout",
     "output_type": "stream",
     "text": [
      "Si91CV4C\n",
      "Saved.\n"
     ]
    },
    {
     "name": "stderr",
     "output_type": "stream",
     "text": [
      "Week: C:  52%|█████████████████████████████████████▋                                   | 31/60 [00:10<00:10,  2.72it/s]"
     ]
    },
    {
     "name": "stdout",
     "output_type": "stream",
     "text": [
      "Si93CV4C\n",
      "Saved.\n"
     ]
    },
    {
     "name": "stderr",
     "output_type": "stream",
     "text": [
      "Week: C:  55%|████████████████████████████████████████▏                                | 33/60 [00:11<00:10,  2.47it/s]"
     ]
    },
    {
     "name": "stdout",
     "output_type": "stream",
     "text": [
      "Si94CV4C\n",
      "Saved.\n"
     ]
    },
    {
     "name": "stderr",
     "output_type": "stream",
     "text": [
      "Week: C:  58%|██████████████████████████████████████████▌                              | 35/60 [00:12<00:09,  2.59it/s]"
     ]
    },
    {
     "name": "stdout",
     "output_type": "stream",
     "text": [
      "Si95CV4C\n",
      "Saved.\n"
     ]
    },
    {
     "name": "stderr",
     "output_type": "stream",
     "text": [
      "Week: C:  60%|███████████████████████████████████████████▊                             | 36/60 [00:12<00:09,  2.62it/s]"
     ]
    },
    {
     "name": "stdout",
     "output_type": "stream",
     "text": [
      "Si95.5CV4C\n",
      "Saved.\n"
     ]
    },
    {
     "name": "stderr",
     "output_type": "stream",
     "text": [
      "Week: C:  62%|█████████████████████████████████████████████                            | 37/60 [00:13<00:08,  2.68it/s]"
     ]
    },
    {
     "name": "stdout",
     "output_type": "stream",
     "text": [
      "Si96CV4C\n",
      "Saved.\n"
     ]
    },
    {
     "name": "stderr",
     "output_type": "stream",
     "text": [
      "Week: C:  65%|███████████████████████████████████████████████▍                         | 39/60 [00:13<00:07,  2.70it/s]"
     ]
    },
    {
     "name": "stdout",
     "output_type": "stream",
     "text": [
      "Si97CV4C\n",
      "Saved.\n"
     ]
    },
    {
     "name": "stderr",
     "output_type": "stream",
     "text": [
      "Week: C: 100%|█████████████████████████████████████████████████████████████████████████| 60/60 [00:22<00:00,  2.61it/s]\n",
      "Week: D:  53%|██████████████████████████████████████▉                                  | 32/60 [00:11<00:10,  2.72it/s]"
     ]
    },
    {
     "name": "stdout",
     "output_type": "stream",
     "text": [
      "Si93.5CV4D\n",
      "Saved.\n"
     ]
    },
    {
     "name": "stderr",
     "output_type": "stream",
     "text": [
      "Week: D: 100%|█████████████████████████████████████████████████████████████████████████| 60/60 [00:24<00:00,  2.46it/s]\n",
      "Week: E:  57%|█████████████████████████████████████████▎                               | 34/60 [00:11<00:09,  2.80it/s]"
     ]
    },
    {
     "name": "stdout",
     "output_type": "stream",
     "text": [
      "Si94.5CV4E\n",
      "Saved.\n"
     ]
    },
    {
     "name": "stderr",
     "output_type": "stream",
     "text": [
      "Week: E:  60%|███████████████████████████████████████████▊                             | 36/60 [00:11<00:08,  2.84it/s]"
     ]
    },
    {
     "name": "stdout",
     "output_type": "stream",
     "text": [
      "Si95.5CV4E\n",
      "Saved.\n"
     ]
    },
    {
     "name": "stderr",
     "output_type": "stream",
     "text": [
      "Week: E:  62%|█████████████████████████████████████████████                            | 37/60 [00:12<00:08,  2.68it/s]"
     ]
    },
    {
     "name": "stdout",
     "output_type": "stream",
     "text": [
      "Si96CV4E\n",
      "Saved.\n"
     ]
    },
    {
     "name": "stderr",
     "output_type": "stream",
     "text": [
      "Week: E:  65%|███████████████████████████████████████████████▍                         | 39/60 [00:13<00:08,  2.52it/s]"
     ]
    },
    {
     "name": "stdout",
     "output_type": "stream",
     "text": [
      "Si97CV4E\n",
      "Saved.\n"
     ]
    },
    {
     "name": "stderr",
     "output_type": "stream",
     "text": [
      "Week: E:  67%|████████████████████████████████████████████████▋                        | 40/60 [00:13<00:07,  2.61it/s]"
     ]
    },
    {
     "name": "stdout",
     "output_type": "stream",
     "text": [
      "Si97.5CV4E\n",
      "Saved.\n"
     ]
    },
    {
     "name": "stderr",
     "output_type": "stream",
     "text": [
      "Week: E: 100%|█████████████████████████████████████████████████████████████████████████| 60/60 [00:20<00:00,  3.00it/s]\n"
     ]
    },
    {
     "name": "stdout",
     "output_type": "stream",
     "text": [
      "- month: W\n"
     ]
    },
    {
     "name": "stderr",
     "output_type": "stream",
     "text": [
      "Week: -: 100%|█████████████████████████████████████████████████████████████████████████| 60/60 [00:22<00:00,  2.69it/s]\n",
      "Week: A:  58%|██████████████████████████████████████████▌                              | 35/60 [00:11<00:08,  2.90it/s]"
     ]
    },
    {
     "name": "stdout",
     "output_type": "stream",
     "text": [
      "Si95CW4A\n",
      "Saved.\n"
     ]
    },
    {
     "name": "stderr",
     "output_type": "stream",
     "text": [
      "Week: A:  62%|█████████████████████████████████████████████                            | 37/60 [00:12<00:07,  2.92it/s]"
     ]
    },
    {
     "name": "stdout",
     "output_type": "stream",
     "text": [
      "Si96CW4A\n",
      "Saved.\n"
     ]
    },
    {
     "name": "stderr",
     "output_type": "stream",
     "text": [
      "Week: A:  65%|███████████████████████████████████████████████▍                         | 39/60 [00:13<00:07,  2.87it/s]"
     ]
    },
    {
     "name": "stdout",
     "output_type": "stream",
     "text": [
      "Si97CW4A\n",
      "Saved.\n"
     ]
    },
    {
     "name": "stderr",
     "output_type": "stream",
     "text": [
      "Week: A:  67%|████████████████████████████████████████████████▋                        | 40/60 [00:13<00:06,  2.88it/s]"
     ]
    },
    {
     "name": "stdout",
     "output_type": "stream",
     "text": [
      "Si97.5CW4A\n",
      "Saved.\n"
     ]
    },
    {
     "name": "stderr",
     "output_type": "stream",
     "text": [
      "Week: A: 100%|█████████████████████████████████████████████████████████████████████████| 60/60 [00:19<00:00,  3.02it/s]\n",
      "Week: B:  57%|█████████████████████████████████████████▎                               | 34/60 [00:11<00:09,  2.85it/s]"
     ]
    },
    {
     "name": "stdout",
     "output_type": "stream",
     "text": [
      "Si94.5CW4B\n",
      "Saved.\n"
     ]
    },
    {
     "name": "stderr",
     "output_type": "stream",
     "text": [
      "Week: B:  63%|██████████████████████████████████████████████▏                          | 38/60 [00:12<00:08,  2.75it/s]"
     ]
    },
    {
     "name": "stdout",
     "output_type": "stream",
     "text": [
      "Si96.5CW4B\n",
      "Saved.\n"
     ]
    },
    {
     "name": "stderr",
     "output_type": "stream",
     "text": [
      "Week: B:  70%|███████████████████████████████████████████████████                      | 42/60 [00:14<00:06,  2.84it/s]"
     ]
    },
    {
     "name": "stdout",
     "output_type": "stream",
     "text": [
      "Si98.5CW4B\n",
      "Saved.\n"
     ]
    },
    {
     "name": "stderr",
     "output_type": "stream",
     "text": [
      "Week: B:  77%|███████████████████████████████████████████████████████▉                 | 46/60 [00:15<00:04,  2.84it/s]"
     ]
    },
    {
     "name": "stdout",
     "output_type": "stream",
     "text": [
      "Si100.5CW4B\n",
      "Saved.\n"
     ]
    },
    {
     "name": "stderr",
     "output_type": "stream",
     "text": [
      "Week: B: 100%|█████████████████████████████████████████████████████████████████████████| 60/60 [00:20<00:00,  2.90it/s]\n",
      "Week: C:  60%|███████████████████████████████████████████▊                             | 36/60 [00:13<00:08,  2.95it/s]"
     ]
    },
    {
     "name": "stdout",
     "output_type": "stream",
     "text": [
      "Si95.5CW4C\n",
      "Saved.\n"
     ]
    },
    {
     "name": "stderr",
     "output_type": "stream",
     "text": [
      "Week: C:  72%|████████████████████████████████████████████████████▎                    | 43/60 [00:17<00:07,  2.20it/s]"
     ]
    },
    {
     "name": "stdout",
     "output_type": "stream",
     "text": [
      "Si99CW4C\n",
      "Saved.\n"
     ]
    },
    {
     "name": "stderr",
     "output_type": "stream",
     "text": [
      "Week: C:  78%|█████████████████████████████████████████████████████████▏               | 47/60 [00:18<00:05,  2.59it/s]"
     ]
    },
    {
     "name": "stdout",
     "output_type": "stream",
     "text": [
      "Si101CW4C\n",
      "Saved.\n"
     ]
    },
    {
     "name": "stderr",
     "output_type": "stream",
     "text": [
      "Week: C: 100%|█████████████████████████████████████████████████████████████████████████| 60/60 [00:22<00:00,  2.66it/s]\n",
      "Week: D:  62%|█████████████████████████████████████████████                            | 37/60 [00:11<00:06,  3.32it/s]"
     ]
    },
    {
     "name": "stdout",
     "output_type": "stream",
     "text": [
      "Si96CW4D\n",
      "Saved.\n"
     ]
    },
    {
     "name": "stderr",
     "output_type": "stream",
     "text": [
      "Week: D:  68%|█████████████████████████████████████████████████▉                       | 41/60 [00:12<00:05,  3.20it/s]"
     ]
    },
    {
     "name": "stdout",
     "output_type": "stream",
     "text": [
      "Si98CW4D\n",
      "Saved.\n"
     ]
    },
    {
     "name": "stderr",
     "output_type": "stream",
     "text": [
      "Week: D:  72%|████████████████████████████████████████████████████▎                    | 43/60 [00:13<00:05,  2.92it/s]"
     ]
    },
    {
     "name": "stdout",
     "output_type": "stream",
     "text": [
      "Si99CW4D\n",
      "Saved.\n"
     ]
    },
    {
     "name": "stderr",
     "output_type": "stream",
     "text": [
      "Week: D:  77%|███████████████████████████████████████████████████████▉                 | 46/60 [00:14<00:04,  2.86it/s]"
     ]
    },
    {
     "name": "stdout",
     "output_type": "stream",
     "text": [
      "Si100.5CW4D\n",
      "Saved.\n"
     ]
    },
    {
     "name": "stderr",
     "output_type": "stream",
     "text": [
      "Week: D:  82%|███████████████████████████████████████████████████████████▌             | 49/60 [00:15<00:03,  3.08it/s]"
     ]
    },
    {
     "name": "stdout",
     "output_type": "stream",
     "text": [
      "Si102CW4D\n",
      "Saved.\n"
     ]
    },
    {
     "name": "stderr",
     "output_type": "stream",
     "text": [
      "Week: D:  95%|█████████████████████████████████████████████████████████████████████▎   | 57/60 [00:18<00:00,  3.20it/s]"
     ]
    },
    {
     "name": "stdout",
     "output_type": "stream",
     "text": [
      "Si106CW4D\n",
      "Saved.\n"
     ]
    },
    {
     "name": "stderr",
     "output_type": "stream",
     "text": [
      "Week: D: 100%|█████████████████████████████████████████████████████████████████████████| 60/60 [00:19<00:00,  3.00it/s]\n"
     ]
    },
    {
     "name": "stdout",
     "output_type": "stream",
     "text": [
      "Si107.5CW4D\n",
      "Saved.\n"
     ]
    },
    {
     "name": "stderr",
     "output_type": "stream",
     "text": [
      "Week: E: 100%|█████████████████████████████████████████████████████████████████████████| 60/60 [00:17<00:00,  3.39it/s]\n"
     ]
    },
    {
     "name": "stdout",
     "output_type": "stream",
     "text": [
      "- month: X\n"
     ]
    },
    {
     "name": "stderr",
     "output_type": "stream",
     "text": [
      "Week: -: 100%|█████████████████████████████████████████████████████████████████████████| 60/60 [00:20<00:00,  2.96it/s]\n",
      "Week: A:  77%|███████████████████████████████████████████████████████▉                 | 46/60 [00:13<00:04,  3.38it/s]"
     ]
    },
    {
     "name": "stdout",
     "output_type": "stream",
     "text": [
      "Si100.5CX4A\n",
      "Saved.\n"
     ]
    },
    {
     "name": "stderr",
     "output_type": "stream",
     "text": [
      "Week: A:  85%|██████████████████████████████████████████████████████████████           | 51/60 [00:14<00:02,  3.37it/s]"
     ]
    },
    {
     "name": "stdout",
     "output_type": "stream",
     "text": [
      "Si103CX4A\n",
      "Saved.\n"
     ]
    },
    {
     "name": "stderr",
     "output_type": "stream",
     "text": [
      "Week: A:  92%|██████████████████████████████████████████████████████████████████▉      | 55/60 [00:16<00:01,  3.36it/s]"
     ]
    },
    {
     "name": "stdout",
     "output_type": "stream",
     "text": [
      "Si105CX4A\n",
      "Saved.\n"
     ]
    },
    {
     "name": "stderr",
     "output_type": "stream",
     "text": [
      "Week: A:  95%|█████████████████████████████████████████████████████████████████████▎   | 57/60 [00:16<00:00,  3.30it/s]"
     ]
    },
    {
     "name": "stdout",
     "output_type": "stream",
     "text": [
      "Si106CX4A\n",
      "Saved.\n"
     ]
    },
    {
     "name": "stderr",
     "output_type": "stream",
     "text": [
      "Week: A: 100%|█████████████████████████████████████████████████████████████████████████| 60/60 [00:17<00:00,  3.41it/s]\n",
      "Week: B:  83%|████████████████████████████████████████████████████████████▊            | 50/60 [00:19<00:03,  3.27it/s]"
     ]
    },
    {
     "name": "stdout",
     "output_type": "stream",
     "text": [
      "Si102.5CX4B\n",
      "Saved.\n"
     ]
    },
    {
     "name": "stderr",
     "output_type": "stream",
     "text": [
      "Week: B:  97%|██████████████████████████████████████████████████████████████████████▌  | 58/60 [00:21<00:00,  3.43it/s]"
     ]
    },
    {
     "name": "stdout",
     "output_type": "stream",
     "text": [
      "Si106.5CX4B\n",
      "Saved.\n"
     ]
    },
    {
     "name": "stderr",
     "output_type": "stream",
     "text": [
      "Week: B: 100%|█████████████████████████████████████████████████████████████████████████| 60/60 [00:22<00:00,  2.66it/s]\n",
      "Week: C: 100%|█████████████████████████████████████████████████████████████████████████| 60/60 [00:17<00:00,  3.42it/s]\n",
      "Week: D: 100%|█████████████████████████████████████████████████████████████████████████| 60/60 [00:22<00:00,  2.63it/s]\n",
      "Week: E: 100%|█████████████████████████████████████████████████████████████████████████| 60/60 [00:18<00:00,  3.28it/s]\n"
     ]
    },
    {
     "name": "stdout",
     "output_type": "stream",
     "text": [
      "- month: Y\n"
     ]
    },
    {
     "name": "stderr",
     "output_type": "stream",
     "text": [
      "Week: -: 100%|█████████████████████████████████████████████████████████████████████████| 60/60 [00:17<00:00,  3.39it/s]\n",
      "Week: A: 100%|█████████████████████████████████████████████████████████████████████████| 60/60 [00:19<00:00,  3.03it/s]\n",
      "Week: B: 100%|█████████████████████████████████████████████████████████████████████████| 60/60 [00:18<00:00,  3.25it/s]\n",
      "Week: C: 100%|█████████████████████████████████████████████████████████████████████████| 60/60 [00:17<00:00,  3.36it/s]\n",
      "Week: D: 100%|█████████████████████████████████████████████████████████████████████████| 60/60 [00:18<00:00,  3.29it/s]\n",
      "Week: E: 100%|█████████████████████████████████████████████████████████████████████████| 60/60 [00:21<00:00,  2.83it/s]\n"
     ]
    },
    {
     "name": "stdout",
     "output_type": "stream",
     "text": [
      "- month: Z\n"
     ]
    },
    {
     "name": "stderr",
     "output_type": "stream",
     "text": [
      "Week: -: 100%|█████████████████████████████████████████████████████████████████████████| 60/60 [00:19<00:00,  3.08it/s]\n",
      "Week: A: 100%|█████████████████████████████████████████████████████████████████████████| 60/60 [00:18<00:00,  3.31it/s]\n",
      "Week: B: 100%|█████████████████████████████████████████████████████████████████████████| 60/60 [00:18<00:00,  3.31it/s]\n",
      "Week: C: 100%|█████████████████████████████████████████████████████████████████████████| 60/60 [00:17<00:00,  3.41it/s]\n",
      "Week: D: 100%|█████████████████████████████████████████████████████████████████████████| 60/60 [00:17<00:00,  3.34it/s]\n",
      "Week: E: 100%|█████████████████████████████████████████████████████████████████████████| 60/60 [00:17<00:00,  3.36it/s]\n"
     ]
    }
   ],
   "source": [
    "RETRY_DELAY = 5 # Задержка в секундах между попытками\n",
    "\n",
    "ticker_info = pd.DataFrame({'title': ticket_title})\n",
    "end_day_info = pd.DataFrame(columns=columns_end_of_date)\n",
    "candles_info = pd.DataFrame(columns=columns_candles)\n",
    "\n",
    "for year in years:\n",
    "    time.sleep(0.4)\n",
    "    print(f'202{year} year is being parsed')\n",
    "    for month in months:\n",
    "        print(f'- month: {month}')\n",
    "        for week in weeks_flg:\n",
    "            for strike in tqdm(strikes_str, desc=f'Week: {\"-\" if week == \"\" else week}'):\n",
    "                try:\n",
    "                    with requests.Session() as session:\n",
    "                        ticker = apimoex.find_security_description(session, f'Si{strike}C{month}{year}{week}')\n",
    "                        end_day = apimoex.get_board_history(session, f'Si{strike}C{month}{year}{week}', board='ROPD', engine='futures', \n",
    "                                                         market='options', columns=None, start='1900-01-01', end='2100-01-01')\n",
    "                        candles = apimoex.get_market_candles(session, f'Si{strike}C{month}{year}{week}', interval=1, engine='futures', \n",
    "                                                          market='options', columns=None, start='1900-01-01', end='2100-01-01')\n",
    "                        \n",
    "                        if ticker != [] and end_day != [] and candles != []:\n",
    "                            print(f'Si{strike}C{month}{year}{week}')\n",
    "                        \n",
    "                            ticker_info[f'Si{strike}C{month}{year}{week}'] = pd.DataFrame(ticker)['value']\n",
    "\n",
    "                            end_day = pd.DataFrame(end_day)\n",
    "                            end_day['NAME'] = f'Si{strike}C{month}{year}{week}' \n",
    "                            end_day_info = end_day_info._append(end_day)\n",
    "\n",
    "                            candles = pd.DataFrame(candles)\n",
    "                            candles['name'] = f'Si{strike}C{month}{year}{week}' \n",
    "                            candles_info = candles_info._append(candles)\n",
    "\n",
    "                            print('Saved.')\n",
    "                except:\n",
    "                    exc_type, exc_value, exc_traceback = sys.exc_info()\n",
    "                    print(f\"Произошла ошибка типа: {exc_type.__name__}\")"
   ]
  },
  {
   "cell_type": "code",
   "execution_count": 5,
   "id": "f2bfc537-2b54-4a30-b01a-80067c9be22d",
   "metadata": {},
   "outputs": [],
   "source": [
    "ticker_info.to_csv('ticker_info.csv', index=False) \n",
    "end_day_info.to_csv('end_day_info.csv', index=False) \n",
    "candles_info.to_csv('candles_info.csv', index=False) "
   ]
  },
  {
   "cell_type": "code",
   "execution_count": 91,
   "id": "429cd147-4a5c-4908-9ab2-5035dbf84050",
   "metadata": {},
   "outputs": [],
   "source": [
    "def get_usd_rub_history(start_date, end_date):\n",
    "\n",
    "    '''\n",
    "    Функция для парсинга базового актива.\n",
    "    '''\n",
    "    \n",
    "    with requests.Session() as session:\n",
    "        try:\n",
    "            ticker_info = apimoex.find_security_description(session, 'USD000UTSTOM')\n",
    "            if not ticker_info:\n",
    "                print(\"Тикер USD000UTSTOM не найден.\")\n",
    "                return None\n",
    "\n",
    "            # Получаем данные с использованием подходящей доски и рынка\n",
    "            data = apimoex.get_board_history(session, 'USD000UTSTOM', board='TQBR', engine='stock', market='index',\n",
    "                                            columns=['TRADEDATE', 'CLOSE'], start=start_date, end=end_date)\n",
    "            \n",
    "            if not data:\n",
    "                # Если не нашли\n",
    "                data = apimoex.get_board_history(session, 'USD000UTSTOM', board='CETS', engine='currency', market='selt', \n",
    "                                           columns=['TRADEDATE', 'CLOSE'], start=start_date, end=end_date)\n",
    "                if not data:\n",
    "                    data = apimoex.get_board_history(session, 'USD000UTSTOM', board='TQCB', engine='stock', market='index', \n",
    "                                           columns=['TRADEDATE', 'CLOSE'], start=start_date, end=end_date)\n",
    "                    if not data:\n",
    "                         print(\"Данных нет.\")\n",
    "                         return None\n",
    "\n",
    "            df = pd.DataFrame(data)\n",
    "            if df.empty:\n",
    "                print(\"Пусто.\")\n",
    "                return None\n",
    "\n",
    "            df['TRADEDATE'] = pd.to_datetime(df['TRADEDATE'])\n",
    "            df.set_index('TRADEDATE', inplace=True)\n",
    "\n",
    "            return df\n",
    "            \n",
    "        except Exception as e:\n",
    "            print(f\"Произошла ошибка: {e}\")\n",
    "            return None"
   ]
  },
  {
   "cell_type": "markdown",
   "id": "2d4c7372-b87a-4233-a1c0-e57469f1813c",
   "metadata": {},
   "source": [
    "## Часть 2. Поверхность"
   ]
  },
  {
   "cell_type": "code",
   "execution_count": 3,
   "id": "8bce03cf-8ab0-4456-896f-b74b8686c963",
   "metadata": {},
   "outputs": [],
   "source": [
    "ticker_info = pd.read_csv('ticker_info.csv') \n",
    "end_day_info = pd.read_csv('end_day_info.csv') \n",
    "candles_info = pd.read_csv('candles_info.csv') "
   ]
  },
  {
   "cell_type": "code",
   "execution_count": 4,
   "id": "2a7db6ec-c368-4adc-b658-ccd288f3102a",
   "metadata": {},
   "outputs": [
    {
     "data": {
      "text/html": [
       "<div>\n",
       "<style scoped>\n",
       "    .dataframe tbody tr th:only-of-type {\n",
       "        vertical-align: middle;\n",
       "    }\n",
       "\n",
       "    .dataframe tbody tr th {\n",
       "        vertical-align: top;\n",
       "    }\n",
       "\n",
       "    .dataframe thead th {\n",
       "        text-align: right;\n",
       "    }\n",
       "</style>\n",
       "<table border=\"1\" class=\"dataframe\">\n",
       "  <thead>\n",
       "    <tr style=\"text-align: right;\">\n",
       "      <th>title</th>\n",
       "      <th>Краткий код</th>\n",
       "      <th>Наименование серии инструмента</th>\n",
       "      <th>Краткое наименование контракта</th>\n",
       "      <th>Последний день обращения</th>\n",
       "      <th>Тип опциона</th>\n",
       "      <th>Дата исполнения</th>\n",
       "      <th>Код базового актива</th>\n",
       "      <th>Начало обращения</th>\n",
       "      <th>Вид опциона пут или колл</th>\n",
       "      <th>Цена Страйк</th>\n",
       "      <th>...</th>\n",
       "      <th>Лот</th>\n",
       "      <th>Наименование контракта</th>\n",
       "      <th>Группа контрактов</th>\n",
       "      <th>Котировка</th>\n",
       "      <th>Базовый актив</th>\n",
       "      <th>Опционная серия</th>\n",
       "      <th>Вид/категория ценной бумаги</th>\n",
       "      <th>Код типа инструмента</th>\n",
       "      <th>Тип бумаги</th>\n",
       "      <th>Типа инструмента</th>\n",
       "    </tr>\n",
       "  </thead>\n",
       "  <tbody>\n",
       "    <tr>\n",
       "      <th>0</th>\n",
       "      <td>Si90CG3B</td>\n",
       "      <td>Нед. прем. европ. Call 90 с исп. 13 июля на Si</td>\n",
       "      <td>SiP130723CE90</td>\n",
       "      <td>2023-07-13</td>\n",
       "      <td>Расчетный</td>\n",
       "      <td>2023-07-13</td>\n",
       "      <td>Si</td>\n",
       "      <td>2023-07-03</td>\n",
       "      <td>C</td>\n",
       "      <td>90</td>\n",
       "      <td>...</td>\n",
       "      <td>1000</td>\n",
       "      <td>Премиальный опцион колл на курс доллар США - р...</td>\n",
       "      <td>Валюта</td>\n",
       "      <td>в рублях за 1 доллар США</td>\n",
       "      <td>-</td>\n",
       "      <td>SiP130723XE</td>\n",
       "      <td>Опцион на валюту</td>\n",
       "      <td>futures_options</td>\n",
       "      <td>option_on_currency</td>\n",
       "      <td>Опционы</td>\n",
       "    </tr>\n",
       "    <tr>\n",
       "      <th>1</th>\n",
       "      <td>Si96CG3B</td>\n",
       "      <td>Нед. прем. европ. Call 96 с исп. 13 июля на Si</td>\n",
       "      <td>SiP130723CE96</td>\n",
       "      <td>2023-07-13</td>\n",
       "      <td>Расчетный</td>\n",
       "      <td>2023-07-13</td>\n",
       "      <td>Si</td>\n",
       "      <td>2023-07-03</td>\n",
       "      <td>C</td>\n",
       "      <td>96</td>\n",
       "      <td>...</td>\n",
       "      <td>1000</td>\n",
       "      <td>Премиальный опцион колл на курс доллар США - р...</td>\n",
       "      <td>Валюта</td>\n",
       "      <td>в рублях за 1 доллар США</td>\n",
       "      <td>-</td>\n",
       "      <td>SiP130723XE</td>\n",
       "      <td>Опцион на валюту</td>\n",
       "      <td>futures_options</td>\n",
       "      <td>option_on_currency</td>\n",
       "      <td>Опционы</td>\n",
       "    </tr>\n",
       "    <tr>\n",
       "      <th>2</th>\n",
       "      <td>Si96CH3</td>\n",
       "      <td>Прем. европ. Call 96 с исп. 17 авг. на Si</td>\n",
       "      <td>SiP170823CE96</td>\n",
       "      <td>2023-08-17</td>\n",
       "      <td>Расчетный</td>\n",
       "      <td>2023-08-17</td>\n",
       "      <td>Si</td>\n",
       "      <td>2023-07-03</td>\n",
       "      <td>C</td>\n",
       "      <td>96</td>\n",
       "      <td>...</td>\n",
       "      <td>1000</td>\n",
       "      <td>Премиальный опцион колл на курс доллар США - р...</td>\n",
       "      <td>Валюта</td>\n",
       "      <td>в рублях за 1 доллар США</td>\n",
       "      <td>USD000UTSTOM</td>\n",
       "      <td>SiP170823XE</td>\n",
       "      <td>Опцион на валюту</td>\n",
       "      <td>futures_options</td>\n",
       "      <td>option_on_currency</td>\n",
       "      <td>Опционы</td>\n",
       "    </tr>\n",
       "    <tr>\n",
       "      <th>3</th>\n",
       "      <td>Si90CH3A</td>\n",
       "      <td>Нед. прем. европ. Call 90 с исп. 3 авг. на Si</td>\n",
       "      <td>SiP030823CE90</td>\n",
       "      <td>2023-08-03</td>\n",
       "      <td>Расчетный</td>\n",
       "      <td>2023-08-03</td>\n",
       "      <td>Si</td>\n",
       "      <td>2023-07-12</td>\n",
       "      <td>C</td>\n",
       "      <td>90</td>\n",
       "      <td>...</td>\n",
       "      <td>1000</td>\n",
       "      <td>Премиальный опцион колл на курс доллар США - р...</td>\n",
       "      <td>Валюта</td>\n",
       "      <td>в рублях за 1 доллар США</td>\n",
       "      <td>USD000UTSTOM</td>\n",
       "      <td>SiP030823XE</td>\n",
       "      <td>Опцион на валюту</td>\n",
       "      <td>futures_options</td>\n",
       "      <td>option_on_currency</td>\n",
       "      <td>Опционы</td>\n",
       "    </tr>\n",
       "    <tr>\n",
       "      <th>4</th>\n",
       "      <td>Si92CH3A</td>\n",
       "      <td>Нед. прем. европ. Call 92 с исп. 3 авг. на Si</td>\n",
       "      <td>SiP030823CE92</td>\n",
       "      <td>2023-08-03</td>\n",
       "      <td>Расчетный</td>\n",
       "      <td>2023-08-03</td>\n",
       "      <td>Si</td>\n",
       "      <td>2023-07-12</td>\n",
       "      <td>C</td>\n",
       "      <td>92</td>\n",
       "      <td>...</td>\n",
       "      <td>1000</td>\n",
       "      <td>Премиальный опцион колл на курс доллар США - р...</td>\n",
       "      <td>Валюта</td>\n",
       "      <td>в рублях за 1 доллар США</td>\n",
       "      <td>USD000UTSTOM</td>\n",
       "      <td>SiP030823XE</td>\n",
       "      <td>Опцион на валюту</td>\n",
       "      <td>futures_options</td>\n",
       "      <td>option_on_currency</td>\n",
       "      <td>Опционы</td>\n",
       "    </tr>\n",
       "  </tbody>\n",
       "</table>\n",
       "<p>5 rows × 23 columns</p>\n",
       "</div>"
      ],
      "text/plain": [
       "title Краткий код                  Наименование серии инструмента  \\\n",
       "0        Si90CG3B  Нед. прем. европ. Call 90 с исп. 13 июля на Si   \n",
       "1        Si96CG3B  Нед. прем. европ. Call 96 с исп. 13 июля на Si   \n",
       "2         Si96CH3       Прем. европ. Call 96 с исп. 17 авг. на Si   \n",
       "3        Si90CH3A   Нед. прем. европ. Call 90 с исп. 3 авг. на Si   \n",
       "4        Si92CH3A   Нед. прем. европ. Call 92 с исп. 3 авг. на Si   \n",
       "\n",
       "title Краткое наименование контракта Последний день обращения Тип опциона  \\\n",
       "0                      SiP130723CE90               2023-07-13   Расчетный   \n",
       "1                      SiP130723CE96               2023-07-13   Расчетный   \n",
       "2                      SiP170823CE96               2023-08-17   Расчетный   \n",
       "3                      SiP030823CE90               2023-08-03   Расчетный   \n",
       "4                      SiP030823CE92               2023-08-03   Расчетный   \n",
       "\n",
       "title Дата исполнения Код базового актива Начало обращения  \\\n",
       "0          2023-07-13                  Si       2023-07-03   \n",
       "1          2023-07-13                  Si       2023-07-03   \n",
       "2          2023-08-17                  Si       2023-07-03   \n",
       "3          2023-08-03                  Si       2023-07-12   \n",
       "4          2023-08-03                  Si       2023-07-12   \n",
       "\n",
       "title Вид опциона пут или колл Цена Страйк  ...   Лот  \\\n",
       "0                            C          90  ...  1000   \n",
       "1                            C          96  ...  1000   \n",
       "2                            C          96  ...  1000   \n",
       "3                            C          90  ...  1000   \n",
       "4                            C          92  ...  1000   \n",
       "\n",
       "title                             Наименование контракта Группа контрактов  \\\n",
       "0      Премиальный опцион колл на курс доллар США - р...            Валюта   \n",
       "1      Премиальный опцион колл на курс доллар США - р...            Валюта   \n",
       "2      Премиальный опцион колл на курс доллар США - р...            Валюта   \n",
       "3      Премиальный опцион колл на курс доллар США - р...            Валюта   \n",
       "4      Премиальный опцион колл на курс доллар США - р...            Валюта   \n",
       "\n",
       "title                 Котировка Базовый актив Опционная серия  \\\n",
       "0      в рублях за 1 доллар США             -     SiP130723XE   \n",
       "1      в рублях за 1 доллар США             -     SiP130723XE   \n",
       "2      в рублях за 1 доллар США  USD000UTSTOM     SiP170823XE   \n",
       "3      в рублях за 1 доллар США  USD000UTSTOM     SiP030823XE   \n",
       "4      в рублях за 1 доллар США  USD000UTSTOM     SiP030823XE   \n",
       "\n",
       "title Вид/категория ценной бумаги Код типа инструмента          Тип бумаги  \\\n",
       "0                Опцион на валюту      futures_options  option_on_currency   \n",
       "1                Опцион на валюту      futures_options  option_on_currency   \n",
       "2                Опцион на валюту      futures_options  option_on_currency   \n",
       "3                Опцион на валюту      futures_options  option_on_currency   \n",
       "4                Опцион на валюту      futures_options  option_on_currency   \n",
       "\n",
       "title Типа инструмента  \n",
       "0              Опционы  \n",
       "1              Опционы  \n",
       "2              Опционы  \n",
       "3              Опционы  \n",
       "4              Опционы  \n",
       "\n",
       "[5 rows x 23 columns]"
      ]
     },
     "execution_count": 4,
     "metadata": {},
     "output_type": "execute_result"
    }
   ],
   "source": [
    "new_columns = ticker_info['title']\n",
    "ticker_info = ticker_info.drop(columns='title')\n",
    "ticker_info = ticker_info.transpose()\n",
    "ticker_info = ticker_info.reset_index(drop=True)\n",
    "ticker_info.columns = new_columns\n",
    "ticker_info.head()"
   ]
  },
  {
   "cell_type": "code",
   "execution_count": 5,
   "id": "8c1635d2-a3cf-41d5-939f-efad1cb5b15e",
   "metadata": {},
   "outputs": [
    {
     "data": {
      "text/html": [
       "<div>\n",
       "<style scoped>\n",
       "    .dataframe tbody tr th:only-of-type {\n",
       "        vertical-align: middle;\n",
       "    }\n",
       "\n",
       "    .dataframe tbody tr th {\n",
       "        vertical-align: top;\n",
       "    }\n",
       "\n",
       "    .dataframe thead th {\n",
       "        text-align: right;\n",
       "    }\n",
       "</style>\n",
       "<table border=\"1\" class=\"dataframe\">\n",
       "  <thead>\n",
       "    <tr style=\"text-align: right;\">\n",
       "      <th></th>\n",
       "      <th>NAME</th>\n",
       "      <th>BOARDID</th>\n",
       "      <th>TRADEDATE</th>\n",
       "      <th>SECID</th>\n",
       "      <th>OPEN</th>\n",
       "      <th>LOW</th>\n",
       "      <th>HIGH</th>\n",
       "      <th>CLOSE</th>\n",
       "      <th>OPENPOSITIONVALUE</th>\n",
       "      <th>VALUE</th>\n",
       "      <th>VOLUME</th>\n",
       "      <th>OPENPOSITION</th>\n",
       "      <th>SETTLEPRICE</th>\n",
       "      <th>WAPRICE</th>\n",
       "      <th>SETTLEPRICEDAY</th>\n",
       "      <th>CHANGE</th>\n",
       "      <th>QTY</th>\n",
       "      <th>NUMTRADES</th>\n",
       "    </tr>\n",
       "  </thead>\n",
       "  <tbody>\n",
       "    <tr>\n",
       "      <th>0</th>\n",
       "      <td>Si90CG3B</td>\n",
       "      <td>ROPD</td>\n",
       "      <td>2023-07-03</td>\n",
       "      <td>Si90CG3B</td>\n",
       "      <td>3.002</td>\n",
       "      <td>3.002</td>\n",
       "      <td>3.002</td>\n",
       "      <td>3.002</td>\n",
       "      <td>180000.0</td>\n",
       "      <td>90000.0</td>\n",
       "      <td>1.0</td>\n",
       "      <td>2.0</td>\n",
       "      <td>0.861</td>\n",
       "      <td>3.002</td>\n",
       "      <td>1.048</td>\n",
       "      <td>NaN</td>\n",
       "      <td>1.0</td>\n",
       "      <td>1</td>\n",
       "    </tr>\n",
       "    <tr>\n",
       "      <th>1</th>\n",
       "      <td>Si90CG3B</td>\n",
       "      <td>ROPD</td>\n",
       "      <td>2023-07-04</td>\n",
       "      <td>Si90CG3B</td>\n",
       "      <td>NaN</td>\n",
       "      <td>NaN</td>\n",
       "      <td>NaN</td>\n",
       "      <td>NaN</td>\n",
       "      <td>180000.0</td>\n",
       "      <td>NaN</td>\n",
       "      <td>NaN</td>\n",
       "      <td>2.0</td>\n",
       "      <td>1.600</td>\n",
       "      <td>NaN</td>\n",
       "      <td>1.342</td>\n",
       "      <td>NaN</td>\n",
       "      <td>NaN</td>\n",
       "      <td>0</td>\n",
       "    </tr>\n",
       "    <tr>\n",
       "      <th>2</th>\n",
       "      <td>Si90CG3B</td>\n",
       "      <td>ROPD</td>\n",
       "      <td>2023-07-05</td>\n",
       "      <td>Si90CG3B</td>\n",
       "      <td>2.061</td>\n",
       "      <td>2.061</td>\n",
       "      <td>2.061</td>\n",
       "      <td>2.061</td>\n",
       "      <td>180000.0</td>\n",
       "      <td>90000.0</td>\n",
       "      <td>1.0</td>\n",
       "      <td>2.0</td>\n",
       "      <td>2.629</td>\n",
       "      <td>2.061</td>\n",
       "      <td>2.589</td>\n",
       "      <td>NaN</td>\n",
       "      <td>1.0</td>\n",
       "      <td>1</td>\n",
       "    </tr>\n",
       "    <tr>\n",
       "      <th>3</th>\n",
       "      <td>Si90CG3B</td>\n",
       "      <td>ROPD</td>\n",
       "      <td>2023-07-06</td>\n",
       "      <td>Si90CG3B</td>\n",
       "      <td>NaN</td>\n",
       "      <td>NaN</td>\n",
       "      <td>NaN</td>\n",
       "      <td>NaN</td>\n",
       "      <td>180000.0</td>\n",
       "      <td>NaN</td>\n",
       "      <td>NaN</td>\n",
       "      <td>2.0</td>\n",
       "      <td>2.898</td>\n",
       "      <td>NaN</td>\n",
       "      <td>2.545</td>\n",
       "      <td>NaN</td>\n",
       "      <td>NaN</td>\n",
       "      <td>0</td>\n",
       "    </tr>\n",
       "    <tr>\n",
       "      <th>4</th>\n",
       "      <td>Si90CG3B</td>\n",
       "      <td>ROPD</td>\n",
       "      <td>2023-07-07</td>\n",
       "      <td>Si90CG3B</td>\n",
       "      <td>NaN</td>\n",
       "      <td>NaN</td>\n",
       "      <td>NaN</td>\n",
       "      <td>NaN</td>\n",
       "      <td>180000.0</td>\n",
       "      <td>NaN</td>\n",
       "      <td>NaN</td>\n",
       "      <td>2.0</td>\n",
       "      <td>2.725</td>\n",
       "      <td>NaN</td>\n",
       "      <td>2.803</td>\n",
       "      <td>NaN</td>\n",
       "      <td>NaN</td>\n",
       "      <td>0</td>\n",
       "    </tr>\n",
       "    <tr>\n",
       "      <th>...</th>\n",
       "      <td>...</td>\n",
       "      <td>...</td>\n",
       "      <td>...</td>\n",
       "      <td>...</td>\n",
       "      <td>...</td>\n",
       "      <td>...</td>\n",
       "      <td>...</td>\n",
       "      <td>...</td>\n",
       "      <td>...</td>\n",
       "      <td>...</td>\n",
       "      <td>...</td>\n",
       "      <td>...</td>\n",
       "      <td>...</td>\n",
       "      <td>...</td>\n",
       "      <td>...</td>\n",
       "      <td>...</td>\n",
       "      <td>...</td>\n",
       "      <td>...</td>\n",
       "    </tr>\n",
       "    <tr>\n",
       "      <th>13452</th>\n",
       "      <td>Si105CX4A</td>\n",
       "      <td>ROPD</td>\n",
       "      <td>2024-11-27</td>\n",
       "      <td>Si105CX4A</td>\n",
       "      <td>2.000</td>\n",
       "      <td>2.000</td>\n",
       "      <td>2.000</td>\n",
       "      <td>2.000</td>\n",
       "      <td>357000.0</td>\n",
       "      <td>63000.0</td>\n",
       "      <td>6.0</td>\n",
       "      <td>34.0</td>\n",
       "      <td>0.815</td>\n",
       "      <td>2.000</td>\n",
       "      <td>1.643</td>\n",
       "      <td>-33.33</td>\n",
       "      <td>6.0</td>\n",
       "      <td>1</td>\n",
       "    </tr>\n",
       "    <tr>\n",
       "      <th>13453</th>\n",
       "      <td>Si106CX4A</td>\n",
       "      <td>ROPD</td>\n",
       "      <td>2024-11-26</td>\n",
       "      <td>Si106CX4A</td>\n",
       "      <td>NaN</td>\n",
       "      <td>NaN</td>\n",
       "      <td>NaN</td>\n",
       "      <td>NaN</td>\n",
       "      <td>0.0</td>\n",
       "      <td>NaN</td>\n",
       "      <td>NaN</td>\n",
       "      <td>NaN</td>\n",
       "      <td>2.446</td>\n",
       "      <td>NaN</td>\n",
       "      <td>NaN</td>\n",
       "      <td>NaN</td>\n",
       "      <td>NaN</td>\n",
       "      <td>0</td>\n",
       "    </tr>\n",
       "    <tr>\n",
       "      <th>13454</th>\n",
       "      <td>Si106CX4A</td>\n",
       "      <td>ROPD</td>\n",
       "      <td>2024-11-27</td>\n",
       "      <td>Si106CX4A</td>\n",
       "      <td>3.000</td>\n",
       "      <td>3.000</td>\n",
       "      <td>3.000</td>\n",
       "      <td>3.000</td>\n",
       "      <td>212000.0</td>\n",
       "      <td>106000.0</td>\n",
       "      <td>10.0</td>\n",
       "      <td>20.0</td>\n",
       "      <td>1.036</td>\n",
       "      <td>3.000</td>\n",
       "      <td>2.379</td>\n",
       "      <td>NaN</td>\n",
       "      <td>10.0</td>\n",
       "      <td>1</td>\n",
       "    </tr>\n",
       "    <tr>\n",
       "      <th>13455</th>\n",
       "      <td>Si102.5CX4B</td>\n",
       "      <td>ROPD</td>\n",
       "      <td>2024-11-27</td>\n",
       "      <td>Si102.5CX4B</td>\n",
       "      <td>3.174</td>\n",
       "      <td>3.174</td>\n",
       "      <td>3.174</td>\n",
       "      <td>3.174</td>\n",
       "      <td>20500.0</td>\n",
       "      <td>10250.0</td>\n",
       "      <td>1.0</td>\n",
       "      <td>2.0</td>\n",
       "      <td>0.623</td>\n",
       "      <td>3.174</td>\n",
       "      <td>1.201</td>\n",
       "      <td>NaN</td>\n",
       "      <td>1.0</td>\n",
       "      <td>1</td>\n",
       "    </tr>\n",
       "    <tr>\n",
       "      <th>13456</th>\n",
       "      <td>Si106.5CX4B</td>\n",
       "      <td>ROPD</td>\n",
       "      <td>2024-11-27</td>\n",
       "      <td>Si106.5CX4B</td>\n",
       "      <td>3.700</td>\n",
       "      <td>3.700</td>\n",
       "      <td>3.700</td>\n",
       "      <td>3.700</td>\n",
       "      <td>85200.0</td>\n",
       "      <td>42600.0</td>\n",
       "      <td>4.0</td>\n",
       "      <td>8.0</td>\n",
       "      <td>1.494</td>\n",
       "      <td>3.700</td>\n",
       "      <td>2.931</td>\n",
       "      <td>NaN</td>\n",
       "      <td>4.0</td>\n",
       "      <td>1</td>\n",
       "    </tr>\n",
       "  </tbody>\n",
       "</table>\n",
       "<p>13457 rows × 18 columns</p>\n",
       "</div>"
      ],
      "text/plain": [
       "              NAME BOARDID   TRADEDATE        SECID   OPEN    LOW   HIGH  \\\n",
       "0         Si90CG3B    ROPD  2023-07-03     Si90CG3B  3.002  3.002  3.002   \n",
       "1         Si90CG3B    ROPD  2023-07-04     Si90CG3B    NaN    NaN    NaN   \n",
       "2         Si90CG3B    ROPD  2023-07-05     Si90CG3B  2.061  2.061  2.061   \n",
       "3         Si90CG3B    ROPD  2023-07-06     Si90CG3B    NaN    NaN    NaN   \n",
       "4         Si90CG3B    ROPD  2023-07-07     Si90CG3B    NaN    NaN    NaN   \n",
       "...            ...     ...         ...          ...    ...    ...    ...   \n",
       "13452    Si105CX4A    ROPD  2024-11-27    Si105CX4A  2.000  2.000  2.000   \n",
       "13453    Si106CX4A    ROPD  2024-11-26    Si106CX4A    NaN    NaN    NaN   \n",
       "13454    Si106CX4A    ROPD  2024-11-27    Si106CX4A  3.000  3.000  3.000   \n",
       "13455  Si102.5CX4B    ROPD  2024-11-27  Si102.5CX4B  3.174  3.174  3.174   \n",
       "13456  Si106.5CX4B    ROPD  2024-11-27  Si106.5CX4B  3.700  3.700  3.700   \n",
       "\n",
       "       CLOSE  OPENPOSITIONVALUE     VALUE  VOLUME  OPENPOSITION  SETTLEPRICE  \\\n",
       "0      3.002           180000.0   90000.0     1.0           2.0        0.861   \n",
       "1        NaN           180000.0       NaN     NaN           2.0        1.600   \n",
       "2      2.061           180000.0   90000.0     1.0           2.0        2.629   \n",
       "3        NaN           180000.0       NaN     NaN           2.0        2.898   \n",
       "4        NaN           180000.0       NaN     NaN           2.0        2.725   \n",
       "...      ...                ...       ...     ...           ...          ...   \n",
       "13452  2.000           357000.0   63000.0     6.0          34.0        0.815   \n",
       "13453    NaN                0.0       NaN     NaN           NaN        2.446   \n",
       "13454  3.000           212000.0  106000.0    10.0          20.0        1.036   \n",
       "13455  3.174            20500.0   10250.0     1.0           2.0        0.623   \n",
       "13456  3.700            85200.0   42600.0     4.0           8.0        1.494   \n",
       "\n",
       "       WAPRICE  SETTLEPRICEDAY  CHANGE   QTY  NUMTRADES  \n",
       "0        3.002           1.048     NaN   1.0          1  \n",
       "1          NaN           1.342     NaN   NaN          0  \n",
       "2        2.061           2.589     NaN   1.0          1  \n",
       "3          NaN           2.545     NaN   NaN          0  \n",
       "4          NaN           2.803     NaN   NaN          0  \n",
       "...        ...             ...     ...   ...        ...  \n",
       "13452    2.000           1.643  -33.33   6.0          1  \n",
       "13453      NaN             NaN     NaN   NaN          0  \n",
       "13454    3.000           2.379     NaN  10.0          1  \n",
       "13455    3.174           1.201     NaN   1.0          1  \n",
       "13456    3.700           2.931     NaN   4.0          1  \n",
       "\n",
       "[13457 rows x 18 columns]"
      ]
     },
     "execution_count": 5,
     "metadata": {},
     "output_type": "execute_result"
    }
   ],
   "source": [
    "end_day_info = end_day_info[[end_day_info.columns[-1]] + end_day_info.columns[:-1].to_list()]\n",
    "end_day_info"
   ]
  },
  {
   "cell_type": "code",
   "execution_count": 6,
   "id": "5e3ee39f-2308-4b26-af01-4be68d166f69",
   "metadata": {},
   "outputs": [
    {
     "data": {
      "text/html": [
       "<div>\n",
       "<style scoped>\n",
       "    .dataframe tbody tr th:only-of-type {\n",
       "        vertical-align: middle;\n",
       "    }\n",
       "\n",
       "    .dataframe tbody tr th {\n",
       "        vertical-align: top;\n",
       "    }\n",
       "\n",
       "    .dataframe thead th {\n",
       "        text-align: right;\n",
       "    }\n",
       "</style>\n",
       "<table border=\"1\" class=\"dataframe\">\n",
       "  <thead>\n",
       "    <tr style=\"text-align: right;\">\n",
       "      <th></th>\n",
       "      <th>name</th>\n",
       "      <th>open</th>\n",
       "      <th>close</th>\n",
       "      <th>high</th>\n",
       "      <th>low</th>\n",
       "      <th>value</th>\n",
       "      <th>volume</th>\n",
       "      <th>begin</th>\n",
       "      <th>end</th>\n",
       "    </tr>\n",
       "  </thead>\n",
       "  <tbody>\n",
       "    <tr>\n",
       "      <th>0</th>\n",
       "      <td>Si90CG3B</td>\n",
       "      <td>3.002</td>\n",
       "      <td>3.002</td>\n",
       "      <td>3.002</td>\n",
       "      <td>3.002</td>\n",
       "      <td>0</td>\n",
       "      <td>1</td>\n",
       "      <td>2023-07-03 15:51:00</td>\n",
       "      <td>2023-07-03 15:51:59</td>\n",
       "    </tr>\n",
       "    <tr>\n",
       "      <th>1</th>\n",
       "      <td>Si90CG3B</td>\n",
       "      <td>2.061</td>\n",
       "      <td>2.061</td>\n",
       "      <td>2.061</td>\n",
       "      <td>2.061</td>\n",
       "      <td>0</td>\n",
       "      <td>1</td>\n",
       "      <td>2023-07-05 16:24:00</td>\n",
       "      <td>2023-07-05 16:24:59</td>\n",
       "    </tr>\n",
       "    <tr>\n",
       "      <th>2</th>\n",
       "      <td>Si96CG3B</td>\n",
       "      <td>7.784</td>\n",
       "      <td>7.784</td>\n",
       "      <td>7.784</td>\n",
       "      <td>7.784</td>\n",
       "      <td>0</td>\n",
       "      <td>1</td>\n",
       "      <td>2023-07-06 15:34:00</td>\n",
       "      <td>2023-07-06 15:34:59</td>\n",
       "    </tr>\n",
       "    <tr>\n",
       "      <th>3</th>\n",
       "      <td>Si96CG3B</td>\n",
       "      <td>0.881</td>\n",
       "      <td>0.881</td>\n",
       "      <td>0.881</td>\n",
       "      <td>0.881</td>\n",
       "      <td>0</td>\n",
       "      <td>1</td>\n",
       "      <td>2023-07-07 14:39:00</td>\n",
       "      <td>2023-07-07 14:39:59</td>\n",
       "    </tr>\n",
       "    <tr>\n",
       "      <th>4</th>\n",
       "      <td>Si96CH3</td>\n",
       "      <td>1.536</td>\n",
       "      <td>1.536</td>\n",
       "      <td>1.536</td>\n",
       "      <td>1.536</td>\n",
       "      <td>0</td>\n",
       "      <td>1</td>\n",
       "      <td>2023-08-02 16:19:00</td>\n",
       "      <td>2023-08-02 16:19:59</td>\n",
       "    </tr>\n",
       "    <tr>\n",
       "      <th>...</th>\n",
       "      <td>...</td>\n",
       "      <td>...</td>\n",
       "      <td>...</td>\n",
       "      <td>...</td>\n",
       "      <td>...</td>\n",
       "      <td>...</td>\n",
       "      <td>...</td>\n",
       "      <td>...</td>\n",
       "      <td>...</td>\n",
       "    </tr>\n",
       "    <tr>\n",
       "      <th>13623</th>\n",
       "      <td>Si105CX4A</td>\n",
       "      <td>3.000</td>\n",
       "      <td>3.000</td>\n",
       "      <td>3.000</td>\n",
       "      <td>3.000</td>\n",
       "      <td>0</td>\n",
       "      <td>11</td>\n",
       "      <td>2024-11-26 17:17:00</td>\n",
       "      <td>2024-11-26 17:17:59</td>\n",
       "    </tr>\n",
       "    <tr>\n",
       "      <th>13624</th>\n",
       "      <td>Si105CX4A</td>\n",
       "      <td>2.000</td>\n",
       "      <td>2.000</td>\n",
       "      <td>2.000</td>\n",
       "      <td>2.000</td>\n",
       "      <td>0</td>\n",
       "      <td>6</td>\n",
       "      <td>2024-11-27 14:35:00</td>\n",
       "      <td>2024-11-27 14:35:59</td>\n",
       "    </tr>\n",
       "    <tr>\n",
       "      <th>13625</th>\n",
       "      <td>Si106CX4A</td>\n",
       "      <td>3.000</td>\n",
       "      <td>3.000</td>\n",
       "      <td>3.000</td>\n",
       "      <td>3.000</td>\n",
       "      <td>0</td>\n",
       "      <td>10</td>\n",
       "      <td>2024-11-27 16:52:00</td>\n",
       "      <td>2024-11-27 16:52:59</td>\n",
       "    </tr>\n",
       "    <tr>\n",
       "      <th>13626</th>\n",
       "      <td>Si102.5CX4B</td>\n",
       "      <td>3.174</td>\n",
       "      <td>3.174</td>\n",
       "      <td>3.174</td>\n",
       "      <td>3.174</td>\n",
       "      <td>0</td>\n",
       "      <td>1</td>\n",
       "      <td>2024-11-27 11:25:00</td>\n",
       "      <td>2024-11-27 11:25:59</td>\n",
       "    </tr>\n",
       "    <tr>\n",
       "      <th>13627</th>\n",
       "      <td>Si106.5CX4B</td>\n",
       "      <td>3.700</td>\n",
       "      <td>3.700</td>\n",
       "      <td>3.700</td>\n",
       "      <td>3.700</td>\n",
       "      <td>0</td>\n",
       "      <td>4</td>\n",
       "      <td>2024-11-27 14:43:00</td>\n",
       "      <td>2024-11-27 14:43:59</td>\n",
       "    </tr>\n",
       "  </tbody>\n",
       "</table>\n",
       "<p>13628 rows × 9 columns</p>\n",
       "</div>"
      ],
      "text/plain": [
       "              name   open  close   high    low  value  volume  \\\n",
       "0         Si90CG3B  3.002  3.002  3.002  3.002      0       1   \n",
       "1         Si90CG3B  2.061  2.061  2.061  2.061      0       1   \n",
       "2         Si96CG3B  7.784  7.784  7.784  7.784      0       1   \n",
       "3         Si96CG3B  0.881  0.881  0.881  0.881      0       1   \n",
       "4          Si96CH3  1.536  1.536  1.536  1.536      0       1   \n",
       "...            ...    ...    ...    ...    ...    ...     ...   \n",
       "13623    Si105CX4A  3.000  3.000  3.000  3.000      0      11   \n",
       "13624    Si105CX4A  2.000  2.000  2.000  2.000      0       6   \n",
       "13625    Si106CX4A  3.000  3.000  3.000  3.000      0      10   \n",
       "13626  Si102.5CX4B  3.174  3.174  3.174  3.174      0       1   \n",
       "13627  Si106.5CX4B  3.700  3.700  3.700  3.700      0       4   \n",
       "\n",
       "                     begin                  end  \n",
       "0      2023-07-03 15:51:00  2023-07-03 15:51:59  \n",
       "1      2023-07-05 16:24:00  2023-07-05 16:24:59  \n",
       "2      2023-07-06 15:34:00  2023-07-06 15:34:59  \n",
       "3      2023-07-07 14:39:00  2023-07-07 14:39:59  \n",
       "4      2023-08-02 16:19:00  2023-08-02 16:19:59  \n",
       "...                    ...                  ...  \n",
       "13623  2024-11-26 17:17:00  2024-11-26 17:17:59  \n",
       "13624  2024-11-27 14:35:00  2024-11-27 14:35:59  \n",
       "13625  2024-11-27 16:52:00  2024-11-27 16:52:59  \n",
       "13626  2024-11-27 11:25:00  2024-11-27 11:25:59  \n",
       "13627  2024-11-27 14:43:00  2024-11-27 14:43:59  \n",
       "\n",
       "[13628 rows x 9 columns]"
      ]
     },
     "execution_count": 6,
     "metadata": {},
     "output_type": "execute_result"
    }
   ],
   "source": [
    "candles_info = candles_info[[candles_info.columns[-1]] + candles_info.columns[:-1].to_list()]\n",
    "candles_info"
   ]
  },
  {
   "cell_type": "code",
   "execution_count": 79,
   "id": "0181c8ec-6411-46f7-acaf-29632c5820e0",
   "metadata": {},
   "outputs": [
    {
     "data": {
      "text/html": [
       "<div>\n",
       "<style scoped>\n",
       "    .dataframe tbody tr th:only-of-type {\n",
       "        vertical-align: middle;\n",
       "    }\n",
       "\n",
       "    .dataframe tbody tr th {\n",
       "        vertical-align: top;\n",
       "    }\n",
       "\n",
       "    .dataframe thead th {\n",
       "        text-align: right;\n",
       "    }\n",
       "</style>\n",
       "<table border=\"1\" class=\"dataframe\">\n",
       "  <thead>\n",
       "    <tr style=\"text-align: right;\">\n",
       "      <th>title</th>\n",
       "      <th>Краткий код</th>\n",
       "      <th>Наименование серии инструмента</th>\n",
       "      <th>Краткое наименование контракта</th>\n",
       "      <th>Последний день обращения</th>\n",
       "      <th>Тип опциона</th>\n",
       "      <th>Дата исполнения</th>\n",
       "      <th>Код базового актива</th>\n",
       "      <th>Начало обращения</th>\n",
       "      <th>Вид опциона пут или колл</th>\n",
       "      <th>Цена Страйк</th>\n",
       "      <th>...</th>\n",
       "      <th>Лот</th>\n",
       "      <th>Наименование контракта</th>\n",
       "      <th>Группа контрактов</th>\n",
       "      <th>Котировка</th>\n",
       "      <th>Базовый актив</th>\n",
       "      <th>Опционная серия</th>\n",
       "      <th>Вид/категория ценной бумаги</th>\n",
       "      <th>Код типа инструмента</th>\n",
       "      <th>Тип бумаги</th>\n",
       "      <th>Типа инструмента</th>\n",
       "    </tr>\n",
       "  </thead>\n",
       "  <tbody>\n",
       "    <tr>\n",
       "      <th>260</th>\n",
       "      <td>Si90CG4</td>\n",
       "      <td>Прем. европ. Call 90 с исп. 18 июля на Si</td>\n",
       "      <td>SiP180724CE90</td>\n",
       "      <td>2024-07-18</td>\n",
       "      <td>Расчетный</td>\n",
       "      <td>2024-07-18</td>\n",
       "      <td>Si</td>\n",
       "      <td>2024-05-07</td>\n",
       "      <td>C</td>\n",
       "      <td>90</td>\n",
       "      <td>...</td>\n",
       "      <td>100</td>\n",
       "      <td>Премиальный опцион колл на курс доллар США - р...</td>\n",
       "      <td>Валюта</td>\n",
       "      <td>в рублях за 1 доллар США</td>\n",
       "      <td>USD000UTSTOM</td>\n",
       "      <td>Основной</td>\n",
       "      <td>SiP180724XE</td>\n",
       "      <td>Опцион на валюту</td>\n",
       "      <td>futures_options</td>\n",
       "      <td>option_on_currency</td>\n",
       "    </tr>\n",
       "  </tbody>\n",
       "</table>\n",
       "<p>1 rows × 23 columns</p>\n",
       "</div>"
      ],
      "text/plain": [
       "title Краткий код             Наименование серии инструмента  \\\n",
       "260       Si90CG4  Прем. европ. Call 90 с исп. 18 июля на Si   \n",
       "\n",
       "title Краткое наименование контракта Последний день обращения Тип опциона  \\\n",
       "260                    SiP180724CE90               2024-07-18   Расчетный   \n",
       "\n",
       "title Дата исполнения Код базового актива Начало обращения  \\\n",
       "260        2024-07-18                  Si       2024-05-07   \n",
       "\n",
       "title Вид опциона пут или колл Цена Страйк  ...  Лот  \\\n",
       "260                          C          90  ...  100   \n",
       "\n",
       "title                             Наименование контракта Группа контрактов  \\\n",
       "260    Премиальный опцион колл на курс доллар США - р...            Валюта   \n",
       "\n",
       "title                 Котировка Базовый актив Опционная серия  \\\n",
       "260    в рублях за 1 доллар США  USD000UTSTOM        Основной   \n",
       "\n",
       "title Вид/категория ценной бумаги Код типа инструмента       Тип бумаги  \\\n",
       "260                   SiP180724XE     Опцион на валюту  futures_options   \n",
       "\n",
       "title    Типа инструмента  \n",
       "260    option_on_currency  \n",
       "\n",
       "[1 rows x 23 columns]"
      ]
     },
     "execution_count": 79,
     "metadata": {},
     "output_type": "execute_result"
    }
   ],
   "source": [
    "# Возьмем какой-то опцион для примера\n",
    "ticker_info[ticker_info['Краткий код'] == 'Si90CG4']"
   ]
  },
  {
   "cell_type": "code",
   "execution_count": 80,
   "id": "a64afe5f-b72f-4fae-9b68-8d50a41e4025",
   "metadata": {},
   "outputs": [
    {
     "data": {
      "text/html": [
       "<div>\n",
       "<style scoped>\n",
       "    .dataframe tbody tr th:only-of-type {\n",
       "        vertical-align: middle;\n",
       "    }\n",
       "\n",
       "    .dataframe tbody tr th {\n",
       "        vertical-align: top;\n",
       "    }\n",
       "\n",
       "    .dataframe thead th {\n",
       "        text-align: right;\n",
       "    }\n",
       "</style>\n",
       "<table border=\"1\" class=\"dataframe\">\n",
       "  <thead>\n",
       "    <tr style=\"text-align: right;\">\n",
       "      <th></th>\n",
       "      <th>NAME</th>\n",
       "      <th>BOARDID</th>\n",
       "      <th>TRADEDATE</th>\n",
       "      <th>SECID</th>\n",
       "      <th>OPEN</th>\n",
       "      <th>LOW</th>\n",
       "      <th>HIGH</th>\n",
       "      <th>CLOSE</th>\n",
       "      <th>OPENPOSITIONVALUE</th>\n",
       "      <th>VALUE</th>\n",
       "      <th>VOLUME</th>\n",
       "      <th>OPENPOSITION</th>\n",
       "      <th>SETTLEPRICE</th>\n",
       "      <th>WAPRICE</th>\n",
       "      <th>SETTLEPRICEDAY</th>\n",
       "      <th>CHANGE</th>\n",
       "      <th>QTY</th>\n",
       "      <th>NUMTRADES</th>\n",
       "    </tr>\n",
       "  </thead>\n",
       "  <tbody>\n",
       "    <tr>\n",
       "      <th>5429</th>\n",
       "      <td>Si86CG4</td>\n",
       "      <td>ROPD</td>\n",
       "      <td>2024-05-28</td>\n",
       "      <td>Si86CG4</td>\n",
       "      <td>NaN</td>\n",
       "      <td>NaN</td>\n",
       "      <td>NaN</td>\n",
       "      <td>NaN</td>\n",
       "      <td>0.0</td>\n",
       "      <td>NaN</td>\n",
       "      <td>NaN</td>\n",
       "      <td>NaN</td>\n",
       "      <td>5.005</td>\n",
       "      <td>NaN</td>\n",
       "      <td>NaN</td>\n",
       "      <td>NaN</td>\n",
       "      <td>NaN</td>\n",
       "      <td>0</td>\n",
       "    </tr>\n",
       "    <tr>\n",
       "      <th>5430</th>\n",
       "      <td>Si86CG4</td>\n",
       "      <td>ROPD</td>\n",
       "      <td>2024-05-29</td>\n",
       "      <td>Si86CG4</td>\n",
       "      <td>NaN</td>\n",
       "      <td>NaN</td>\n",
       "      <td>NaN</td>\n",
       "      <td>NaN</td>\n",
       "      <td>0.0</td>\n",
       "      <td>NaN</td>\n",
       "      <td>NaN</td>\n",
       "      <td>NaN</td>\n",
       "      <td>5.742</td>\n",
       "      <td>NaN</td>\n",
       "      <td>NaN</td>\n",
       "      <td>NaN</td>\n",
       "      <td>NaN</td>\n",
       "      <td>0</td>\n",
       "    </tr>\n",
       "    <tr>\n",
       "      <th>5431</th>\n",
       "      <td>Si86CG4</td>\n",
       "      <td>ROPD</td>\n",
       "      <td>2024-05-30</td>\n",
       "      <td>Si86CG4</td>\n",
       "      <td>NaN</td>\n",
       "      <td>NaN</td>\n",
       "      <td>NaN</td>\n",
       "      <td>NaN</td>\n",
       "      <td>0.0</td>\n",
       "      <td>NaN</td>\n",
       "      <td>NaN</td>\n",
       "      <td>NaN</td>\n",
       "      <td>5.908</td>\n",
       "      <td>NaN</td>\n",
       "      <td>NaN</td>\n",
       "      <td>NaN</td>\n",
       "      <td>NaN</td>\n",
       "      <td>0</td>\n",
       "    </tr>\n",
       "    <tr>\n",
       "      <th>5432</th>\n",
       "      <td>Si86CG4</td>\n",
       "      <td>ROPD</td>\n",
       "      <td>2024-05-31</td>\n",
       "      <td>Si86CG4</td>\n",
       "      <td>NaN</td>\n",
       "      <td>NaN</td>\n",
       "      <td>NaN</td>\n",
       "      <td>NaN</td>\n",
       "      <td>0.0</td>\n",
       "      <td>NaN</td>\n",
       "      <td>NaN</td>\n",
       "      <td>NaN</td>\n",
       "      <td>5.837</td>\n",
       "      <td>NaN</td>\n",
       "      <td>NaN</td>\n",
       "      <td>NaN</td>\n",
       "      <td>NaN</td>\n",
       "      <td>0</td>\n",
       "    </tr>\n",
       "    <tr>\n",
       "      <th>5433</th>\n",
       "      <td>Si86CG4</td>\n",
       "      <td>ROPD</td>\n",
       "      <td>2024-06-03</td>\n",
       "      <td>Si86CG4</td>\n",
       "      <td>NaN</td>\n",
       "      <td>NaN</td>\n",
       "      <td>NaN</td>\n",
       "      <td>NaN</td>\n",
       "      <td>0.0</td>\n",
       "      <td>NaN</td>\n",
       "      <td>NaN</td>\n",
       "      <td>NaN</td>\n",
       "      <td>4.947</td>\n",
       "      <td>NaN</td>\n",
       "      <td>NaN</td>\n",
       "      <td>NaN</td>\n",
       "      <td>NaN</td>\n",
       "      <td>0</td>\n",
       "    </tr>\n",
       "    <tr>\n",
       "      <th>...</th>\n",
       "      <td>...</td>\n",
       "      <td>...</td>\n",
       "      <td>...</td>\n",
       "      <td>...</td>\n",
       "      <td>...</td>\n",
       "      <td>...</td>\n",
       "      <td>...</td>\n",
       "      <td>...</td>\n",
       "      <td>...</td>\n",
       "      <td>...</td>\n",
       "      <td>...</td>\n",
       "      <td>...</td>\n",
       "      <td>...</td>\n",
       "      <td>...</td>\n",
       "      <td>...</td>\n",
       "      <td>...</td>\n",
       "      <td>...</td>\n",
       "      <td>...</td>\n",
       "    </tr>\n",
       "    <tr>\n",
       "      <th>5928</th>\n",
       "      <td>Si94CG4</td>\n",
       "      <td>ROPD</td>\n",
       "      <td>2024-07-12</td>\n",
       "      <td>Si94CG4</td>\n",
       "      <td>NaN</td>\n",
       "      <td>NaN</td>\n",
       "      <td>NaN</td>\n",
       "      <td>NaN</td>\n",
       "      <td>188000.0</td>\n",
       "      <td>NaN</td>\n",
       "      <td>NaN</td>\n",
       "      <td>20.0</td>\n",
       "      <td>0.101</td>\n",
       "      <td>NaN</td>\n",
       "      <td>0.094</td>\n",
       "      <td>NaN</td>\n",
       "      <td>NaN</td>\n",
       "      <td>0</td>\n",
       "    </tr>\n",
       "    <tr>\n",
       "      <th>5929</th>\n",
       "      <td>Si94CG4</td>\n",
       "      <td>ROPD</td>\n",
       "      <td>2024-07-15</td>\n",
       "      <td>Si94CG4</td>\n",
       "      <td>NaN</td>\n",
       "      <td>NaN</td>\n",
       "      <td>NaN</td>\n",
       "      <td>NaN</td>\n",
       "      <td>188000.0</td>\n",
       "      <td>NaN</td>\n",
       "      <td>NaN</td>\n",
       "      <td>20.0</td>\n",
       "      <td>0.099</td>\n",
       "      <td>NaN</td>\n",
       "      <td>0.035</td>\n",
       "      <td>NaN</td>\n",
       "      <td>NaN</td>\n",
       "      <td>0</td>\n",
       "    </tr>\n",
       "    <tr>\n",
       "      <th>5930</th>\n",
       "      <td>Si94CG4</td>\n",
       "      <td>ROPD</td>\n",
       "      <td>2024-07-16</td>\n",
       "      <td>Si94CG4</td>\n",
       "      <td>NaN</td>\n",
       "      <td>NaN</td>\n",
       "      <td>NaN</td>\n",
       "      <td>NaN</td>\n",
       "      <td>188000.0</td>\n",
       "      <td>NaN</td>\n",
       "      <td>NaN</td>\n",
       "      <td>20.0</td>\n",
       "      <td>0.005</td>\n",
       "      <td>NaN</td>\n",
       "      <td>0.011</td>\n",
       "      <td>NaN</td>\n",
       "      <td>NaN</td>\n",
       "      <td>0</td>\n",
       "    </tr>\n",
       "    <tr>\n",
       "      <th>5931</th>\n",
       "      <td>Si94CG4</td>\n",
       "      <td>ROPD</td>\n",
       "      <td>2024-07-17</td>\n",
       "      <td>Si94CG4</td>\n",
       "      <td>NaN</td>\n",
       "      <td>NaN</td>\n",
       "      <td>NaN</td>\n",
       "      <td>NaN</td>\n",
       "      <td>188000.0</td>\n",
       "      <td>NaN</td>\n",
       "      <td>NaN</td>\n",
       "      <td>20.0</td>\n",
       "      <td>0.001</td>\n",
       "      <td>NaN</td>\n",
       "      <td>0.001</td>\n",
       "      <td>NaN</td>\n",
       "      <td>NaN</td>\n",
       "      <td>0</td>\n",
       "    </tr>\n",
       "    <tr>\n",
       "      <th>5932</th>\n",
       "      <td>Si94CG4</td>\n",
       "      <td>ROPD</td>\n",
       "      <td>2024-07-18</td>\n",
       "      <td>Si94CG4</td>\n",
       "      <td>NaN</td>\n",
       "      <td>NaN</td>\n",
       "      <td>NaN</td>\n",
       "      <td>NaN</td>\n",
       "      <td>0.0</td>\n",
       "      <td>NaN</td>\n",
       "      <td>NaN</td>\n",
       "      <td>0.0</td>\n",
       "      <td>0.000</td>\n",
       "      <td>NaN</td>\n",
       "      <td>0.001</td>\n",
       "      <td>NaN</td>\n",
       "      <td>NaN</td>\n",
       "      <td>0</td>\n",
       "    </tr>\n",
       "  </tbody>\n",
       "</table>\n",
       "<p>504 rows × 18 columns</p>\n",
       "</div>"
      ],
      "text/plain": [
       "         NAME BOARDID   TRADEDATE    SECID  OPEN  LOW  HIGH  CLOSE  \\\n",
       "5429  Si86CG4    ROPD  2024-05-28  Si86CG4   NaN  NaN   NaN    NaN   \n",
       "5430  Si86CG4    ROPD  2024-05-29  Si86CG4   NaN  NaN   NaN    NaN   \n",
       "5431  Si86CG4    ROPD  2024-05-30  Si86CG4   NaN  NaN   NaN    NaN   \n",
       "5432  Si86CG4    ROPD  2024-05-31  Si86CG4   NaN  NaN   NaN    NaN   \n",
       "5433  Si86CG4    ROPD  2024-06-03  Si86CG4   NaN  NaN   NaN    NaN   \n",
       "...       ...     ...         ...      ...   ...  ...   ...    ...   \n",
       "5928  Si94CG4    ROPD  2024-07-12  Si94CG4   NaN  NaN   NaN    NaN   \n",
       "5929  Si94CG4    ROPD  2024-07-15  Si94CG4   NaN  NaN   NaN    NaN   \n",
       "5930  Si94CG4    ROPD  2024-07-16  Si94CG4   NaN  NaN   NaN    NaN   \n",
       "5931  Si94CG4    ROPD  2024-07-17  Si94CG4   NaN  NaN   NaN    NaN   \n",
       "5932  Si94CG4    ROPD  2024-07-18  Si94CG4   NaN  NaN   NaN    NaN   \n",
       "\n",
       "      OPENPOSITIONVALUE  VALUE  VOLUME  OPENPOSITION  SETTLEPRICE  WAPRICE  \\\n",
       "5429                0.0    NaN     NaN           NaN        5.005      NaN   \n",
       "5430                0.0    NaN     NaN           NaN        5.742      NaN   \n",
       "5431                0.0    NaN     NaN           NaN        5.908      NaN   \n",
       "5432                0.0    NaN     NaN           NaN        5.837      NaN   \n",
       "5433                0.0    NaN     NaN           NaN        4.947      NaN   \n",
       "...                 ...    ...     ...           ...          ...      ...   \n",
       "5928           188000.0    NaN     NaN          20.0        0.101      NaN   \n",
       "5929           188000.0    NaN     NaN          20.0        0.099      NaN   \n",
       "5930           188000.0    NaN     NaN          20.0        0.005      NaN   \n",
       "5931           188000.0    NaN     NaN          20.0        0.001      NaN   \n",
       "5932                0.0    NaN     NaN           0.0        0.000      NaN   \n",
       "\n",
       "      SETTLEPRICEDAY  CHANGE  QTY  NUMTRADES  \n",
       "5429             NaN     NaN  NaN          0  \n",
       "5430             NaN     NaN  NaN          0  \n",
       "5431             NaN     NaN  NaN          0  \n",
       "5432             NaN     NaN  NaN          0  \n",
       "5433             NaN     NaN  NaN          0  \n",
       "...              ...     ...  ...        ...  \n",
       "5928           0.094     NaN  NaN          0  \n",
       "5929           0.035     NaN  NaN          0  \n",
       "5930           0.011     NaN  NaN          0  \n",
       "5931           0.001     NaN  NaN          0  \n",
       "5932           0.001     NaN  NaN          0  \n",
       "\n",
       "[504 rows x 18 columns]"
      ]
     },
     "execution_count": 80,
     "metadata": {},
     "output_type": "execute_result"
    }
   ],
   "source": [
    "# Все опционы данной серии с разными страйками на 2024-05-29\n",
    "pattern = r'^Si\\d+(\\.\\d+)?CG4$'\n",
    "filtered_df = end_day_info[end_day_info['NAME'].str.contains(pattern)]\n",
    "option_strikes = filtered_df.merge(ticker_info[['Краткий код', 'Цена Страйк']], how='left', left_on='NAME', right_on='Краткий код')\n",
    "option_info = option_strikes[option_strikes['TRADEDATE'] == '2024-05-29'][['NAME', 'TRADEDATE', 'SETTLEPRICE', 'Цена Страйк']]\n",
    "option_info"
   ]
  },
  {
   "cell_type": "code",
   "execution_count": 83,
   "id": "341cd5c4-52bb-4534-b3a4-3fe5c5aaaf8c",
   "metadata": {},
   "outputs": [
    {
     "name": "stdout",
     "output_type": "stream",
     "text": [
      "              CLOSE\n",
      "TRADEDATE          \n",
      "2024-05-29  89.5125\n"
     ]
    }
   ],
   "source": [
    "start_date = '2024-05-29'\n",
    "end_date = '2024-05-29'\n",
    "\n",
    "df_usd_rub = get_usd_rub_history(start_date, end_date)\n",
    "if df_usd_rub is not None:\n",
    "    print(df_usd_rub)"
   ]
  },
  {
   "cell_type": "code",
   "execution_count": 87,
   "id": "008e92fc-82a3-457d-a2ff-6603a887726f",
   "metadata": {},
   "outputs": [
    {
     "data": {
      "text/plain": [
       "11"
      ]
     },
     "execution_count": 87,
     "metadata": {},
     "output_type": "execute_result"
    }
   ],
   "source": [
    "len(option_info['Цена Страйк'].to_list())"
   ]
  },
  {
   "cell_type": "code",
   "execution_count": 94,
   "id": "71aef1b5-eee9-4eb2-843b-0fe0a7881bc2",
   "metadata": {},
   "outputs": [],
   "source": [
    "def black_scholes_call(S, K, T, sigma, r=0):\n",
    "    '''\n",
    "    Функция для вычисления цены опциона по Блэку-Шоулзу\n",
    "    '''\n",
    "    d1 = (np.log(S / K) + (r + 0.5 * sigma**2) * T) / (sigma * np.sqrt(T))\n",
    "    d2 = d1 - sigma * np.sqrt(T)\n",
    "    return S * norm.cdf(d1) - K * np.exp(-r * T) * norm.cdf(d2)\n",
    "    \n",
    "def implied_volatility_error(sigma, S, K, T, C, r=0):\n",
    "    '''\n",
    "    Функция для минимизации ошибки\n",
    "    '''\n",
    "    return (black_scholes_call(S, K, T, sigma, r) - C)**2\n",
    "\n",
    "def implied_volatility(S, K, T, C, r=0, initial_guess=0.2):\n",
    "    '''\n",
    "    Функция для вычисления вложенной волатильности\n",
    "    '''\n",
    "    result = minimize(implied_volatility_error, initial_guess, args=(S, K, T, C, r), bounds=((0.0001, 10),)) #ограничения для волатильности\n",
    "    if result.success:\n",
    "        return result.x[0]\n",
    "    else:\n",
    "        return np.nan \n"
   ]
  },
  {
   "cell_type": "code",
   "execution_count": 97,
   "id": "937a9fe4-cb16-4aa9-aab7-efd9d2446e2f",
   "metadata": {},
   "outputs": [
    {
     "data": {
      "image/png": "[encoded data removed]",
      "text/plain": [
       "<Figure size 1200x700 with 1 Axes>"
      ]
     },
     "metadata": {},
     "output_type": "display_data"
    }
   ],
   "source": [
    "data = {\n",
    "    'S': [89.5125] * 11,  # Цена базового актива\n",
    "    'K': [float(i) for i in option_info['Цена Страйк'].to_list()],  # Страйки\n",
    "    'C': [float(i) for i in option_info['SETTLEPRICE'].to_list()],  # Цены колл-опционов\n",
    "    'T': 50/365  # Время до экспирации (в годах)\n",
    "}\n",
    "df = pd.DataFrame(data)\n",
    "\n",
    "# --- Вычисление волатильностей ---\n",
    "df['implied_vol'] = df.apply(lambda row: implied_volatility(row['S'], row['K'], row['T'], row['C']), axis=1)\n",
    "\n",
    "# --- Построение графика улыбки волатильности ---\n",
    "sns.set(style=\"whitegrid\")\n",
    "plt.figure(figsize=(12, 7))\n",
    "plt.plot(df['K'], df['implied_vol'], marker='o', linestyle='-', color='royalblue', markersize=8, linewidth=2)\n",
    "\n",
    "\n",
    "plt.title('Улыбка волатильности', fontsize=16, fontweight='bold')\n",
    "plt.xlabel('Страйк (K)', fontsize=14)\n",
    "plt.ylabel('Имплицированная волатильность (σ)', fontsize=14)\n",
    "\n",
    "plt.grid(True, linestyle='--', alpha=0.7)\n",
    "\n",
    "for i in range(len(df)):\n",
    "    plt.annotate(f'{df[\"implied_vol\"].iloc[i]:.2f}', \n",
    "                 (df['K'].iloc[i], df['implied_vol'].iloc[i]), \n",
    "                 textcoords=\"offset points\", \n",
    "                 xytext=(0,10), \n",
    "                 ha='center', fontsize=10)\n",
    "\n",
    "plt.tight_layout()\n",
    "plt.show()"
   ]
  },
  {
   "cell_type": "markdown",
   "id": "4768bcf5-406a-4aeb-94ce-09e5ba45e0f0",
   "metadata": {},
   "source": [
    "# Ссылки"
   ]
  },
  {
   "cell_type": "markdown",
   "id": "7dadc454-af8d-40d7-8733-3c126106282c",
   "metadata": {},
   "source": [
    "[Построение поаерхности, алгоритм MOEX](file:///C:/Users/User/Downloads/porjadok-rascheta-krivyh-volatilnosti.pdf)"
   ]
  },
  {
   "cell_type": "code",
   "execution_count": null,
   "id": "157da1e9-51ea-4794-ac3b-c951fc96239c",
   "metadata": {},
   "outputs": [],
   "source": []
  }
 ],
 "metadata": {
  "colab": {
   "provenance": []
  },
  "kernelspec": {
   "display_name": "Python 3 (ipykernel)",
   "language": "python",
   "name": "python3"
  },
  "language_info": {
   "codemirror_mode": {
    "name": "ipython",
    "version": 3
   },
   "file_extension": ".py",
   "mimetype": "text/x-python",
   "name": "python",
   "nbconvert_exporter": "python",
   "pygments_lexer": "ipython3",
   "version": "3.11.7"
  }
 },
 "nbformat": 4,
 "nbformat_minor": 5
}
